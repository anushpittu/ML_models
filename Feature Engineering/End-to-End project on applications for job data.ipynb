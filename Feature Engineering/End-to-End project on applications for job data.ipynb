{
 "cells": [
  {
   "cell_type": "markdown",
   "metadata": {},
   "source": [
    "# FEATURE ENGINEERING PROJECT    -  \"HRMAGIC\""
   ]
  },
  {
   "cell_type": "markdown",
   "metadata": {},
   "source": [
    "“HRMagic” is one of the known name in this hiring space having a huge client base spread acroos different sectors like IT, manufacturing, fianance etc. over the years they have realized the pain organizations face with respect to the hiring process.\n",
    "\n",
    "“HRMagic” team has decided to proceed with a prototype using which they want to find out if a model can be built to predict the liklihood of a candidate joining the company. if the liklihood is high, then only company will go ahead and offer the jobs to the candidates. \n"
   ]
  },
  {
   "cell_type": "markdown",
   "metadata": {},
   "source": [
    "# (A) collect / extract data\n",
    "The first step in building a model is to collect or extract data on the dependent variable and independent variables from different datasets provided. data collection / extraction is time consuming and expensive process.\n",
    "You as team of three or four students you have merge the candidate data provided based on the common factors. \n",
    "simultanesuoyly you need to make search what are the attributes those are taken into consideration while carrying out recruitment activity. \n",
    "The research will provide you more insight on determining the useful attributes present in the dataset or give pointers to the varibles that needs to be dervied. make list of such potential attribtues. \n",
    "outcome of this step will be merged data set containing the 200 candidates data. \n",
    "document all your efforts appropriately in the jupyter notebooks with description and code. \n",
    "the weigtage for this task will be 5 marks"
   ]
  },
  {
   "cell_type": "code",
   "execution_count": 1,
   "metadata": {},
   "outputs": [],
   "source": [
    "import numpy as np\n",
    "import pandas as pd\n",
    "import matplotlib.pyplot as plt\n",
    "import seaborn as sns\n",
    "import math\n",
    "import warnings\n",
    "from sklearn import preprocessing  \n",
    "from sklearn.preprocessing import OneHotEncoder \n",
    "from sklearn.compose import ColumnTransformer \n",
    "from sklearn.preprocessing import LabelEncoder"
   ]
  },
  {
   "cell_type": "code",
   "execution_count": 2,
   "metadata": {},
   "outputs": [],
   "source": [
    "df1 = pd.read_excel('HR-Records_Final.xlsx', sheet_name='Application data')"
   ]
  },
  {
   "cell_type": "code",
   "execution_count": 3,
   "metadata": {},
   "outputs": [],
   "source": [
    "df2 = pd.read_excel('HR-Records_Final.xlsx', sheet_name='Candidate Data')"
   ]
  },
  {
   "cell_type": "code",
   "execution_count": 4,
   "metadata": {},
   "outputs": [],
   "source": [
    "df3 = pd.read_excel('HR-Records_Final.xlsx', sheet_name='Interview Data ')"
   ]
  },
  {
   "cell_type": "raw",
   "metadata": {},
   "source": [
    "df1.columns"
   ]
  },
  {
   "cell_type": "raw",
   "metadata": {},
   "source": [
    "df2.columns"
   ]
  },
  {
   "cell_type": "raw",
   "metadata": {},
   "source": [
    "df3.columns"
   ]
  },
  {
   "cell_type": "code",
   "execution_count": 5,
   "metadata": {},
   "outputs": [],
   "source": [
    "df2 = df2.drop(labels= \"Candidate ID\",axis = 1)"
   ]
  },
  {
   "cell_type": "code",
   "execution_count": 6,
   "metadata": {},
   "outputs": [],
   "source": [
    "df3 = df3.drop(labels= \"Candidate ID\",axis = 1)"
   ]
  },
  {
   "cell_type": "code",
   "execution_count": 7,
   "metadata": {},
   "outputs": [],
   "source": [
    "frames = [df1, df2, df3]"
   ]
  },
  {
   "cell_type": "code",
   "execution_count": 8,
   "metadata": {},
   "outputs": [],
   "source": [
    "#keep the original data in data_original.\n",
    "data_original = frames "
   ]
  },
  {
   "cell_type": "code",
   "execution_count": 9,
   "metadata": {},
   "outputs": [],
   "source": [
    "data = pd.concat(frames,axis = 1)"
   ]
  },
  {
   "cell_type": "code",
   "execution_count": 10,
   "metadata": {},
   "outputs": [],
   "source": [
    "#keep the original data in data_original.\n",
    "data_original = data"
   ]
  },
  {
   "cell_type": "code",
   "execution_count": 11,
   "metadata": {},
   "outputs": [
    {
     "data": {
      "text/plain": [
       "(201, 37)"
      ]
     },
     "execution_count": 11,
     "metadata": {},
     "output_type": "execute_result"
    }
   ],
   "source": [
    "data_original.shape"
   ]
  },
  {
   "cell_type": "code",
   "execution_count": 12,
   "metadata": {},
   "outputs": [],
   "source": [
    "col_rename = {'Candidate ID':'candidate_id', 'Date of Application':'data_of_application', 'Date of Interview':'date_of_interview',\n",
    "       'Date of Job Offer':'date_of_job_offer', 'Date of Offer extension':'date_of_offer_extension', 'Date of Joining':'date_of_joining',\n",
    "       'Offered band':'offered_band', 'Offered Salary':'offered_salary', 'Percentage hike offered (CTC)':'percentage_hike_offered_ctc',\n",
    "       'Joining bonus amount':'joining_bonus_amount', 'LOB':'lob', 'Joining location':'joining_location',\n",
    "       'Candidate relocation status':'candidate_relocation_status', 'Acceptance status':'acceptance_status', 'Notice period':'notice_period',\n",
    "       'Current CTC':'current_ctc', 'Current gross salary':'current_gross_salary', 'Current organization':'current_organization',\n",
    "       'Highest Educational Degree':'highest_educational_degree', 'Total experience':'total_experience', 'Relevant experience':'relevant_experience',\n",
    "       'Year of graduation':'year_of_graduation', 'Expected CTC':'expected_ctc', 'Percentage hike (CTC) expected ':'percentage_hike_expected_ctc',\n",
    "       'Gender':'gender', 'Candidate source':'candidate_source', 'DOB':'dob', 'Location':'location',\n",
    "       'Number of precious jobs':'number_of_precious_jobs', 'Written Test Date':'written_test_date', 'Interview rounds':'interview_rounds',\n",
    "       'Date of first Interview':'date_of_first_interview', 'Date of last Interview':'date_of_last_interview', 'Interview types':'interview_types',\n",
    "       'Interview Types2':'interview_types2', 'First interview duration':'first_interview_duration',\n",
    "       'Last interaction duration':'last_interaction_duration'}\n",
    " \n",
    "data = data.rename(columns = col_rename)"
   ]
  },
  {
   "cell_type": "code",
   "execution_count": 13,
   "metadata": {},
   "outputs": [
    {
     "name": "stdout",
     "output_type": "stream",
     "text": [
      "Index(['candidate_id', 'data_of_application', 'date_of_interview',\n",
      "       'date_of_job_offer', 'date_of_offer_extension', 'date_of_joining',\n",
      "       'offered_band', 'offered_salary', 'percentage_hike_offered_ctc',\n",
      "       'joining_bonus_amount', 'lob', 'joining_location',\n",
      "       'candidate_relocation_status', 'acceptance_status', 'notice_period',\n",
      "       'current_ctc', 'current_gross_salary', 'current_organization',\n",
      "       'highest_educational_degree', 'total_experience', 'relevant_experience',\n",
      "       'year_of_graduation', 'expected_ctc', 'percentage_hike_expected_ctc',\n",
      "       'gender', 'candidate_source', 'dob', 'location',\n",
      "       'number_of_precious_jobs', 'written_test_date', 'interview_rounds',\n",
      "       'date_of_first_interview', 'date_of_last_interview', 'interview_types',\n",
      "       'interview_types2', 'first_interview_duration',\n",
      "       'last_interaction_duration'],\n",
      "      dtype='object')\n"
     ]
    }
   ],
   "source": [
    "print(data.columns)"
   ]
  },
  {
   "cell_type": "markdown",
   "metadata": {},
   "source": [
    "# (B) pre-process data\n",
    "beafore the model is built, it is essential to ensure the quality of the data for issues such as reliability, completeness, usefullness, accuracy, missing data and outliers. \n",
    "data imputation techniques may be used to deal with missing data. use of descriptive stat and visuzlaization may be used to identify the existence of outliers and variability in the dataset. Many new variables can be derived and alos used in model building. categorical data has to be pre-processed using dummy VARIABELS, before it is used to model building. \n",
    "you have to cleanse your datasets to remove all such daunting isssues. \n",
    "narrate all the issues which you encounter during this exercise clearly with appropriate explanation and code. \n",
    "the weigtage for this task will be 7 marks."
   ]
  },
  {
   "cell_type": "code",
   "execution_count": 14,
   "metadata": {},
   "outputs": [
    {
     "data": {
      "text/plain": [
       "Index(['candidate_id', 'data_of_application', 'date_of_interview',\n",
       "       'date_of_job_offer', 'date_of_offer_extension', 'date_of_joining',\n",
       "       'offered_band', 'offered_salary', 'percentage_hike_offered_ctc',\n",
       "       'joining_bonus_amount', 'lob', 'joining_location',\n",
       "       'candidate_relocation_status', 'acceptance_status', 'notice_period',\n",
       "       'current_ctc', 'current_gross_salary', 'current_organization',\n",
       "       'highest_educational_degree', 'total_experience', 'relevant_experience',\n",
       "       'year_of_graduation', 'expected_ctc', 'percentage_hike_expected_ctc',\n",
       "       'gender', 'candidate_source', 'dob', 'location',\n",
       "       'number_of_precious_jobs', 'written_test_date', 'interview_rounds',\n",
       "       'date_of_first_interview', 'date_of_last_interview', 'interview_types',\n",
       "       'interview_types2', 'first_interview_duration',\n",
       "       'last_interaction_duration'],\n",
       "      dtype='object')"
      ]
     },
     "execution_count": 14,
     "metadata": {},
     "output_type": "execute_result"
    }
   ],
   "source": [
    "data.columns"
   ]
  },
  {
   "cell_type": "raw",
   "metadata": {},
   "source": [
    "data.to_excel(\"output.xlsx\")\n",
    "#if you want to see the final merged data before dropping the columns you can run this code"
   ]
  },
  {
   "cell_type": "code",
   "execution_count": 15,
   "metadata": {},
   "outputs": [
    {
     "name": "stdout",
     "output_type": "stream",
     "text": [
      "<class 'pandas.core.frame.DataFrame'>\n",
      "RangeIndex: 201 entries, 0 to 200\n",
      "Data columns (total 37 columns):\n",
      " #   Column                        Non-Null Count  Dtype         \n",
      "---  ------                        --------------  -----         \n",
      " 0   candidate_id                  200 non-null    object        \n",
      " 1   data_of_application           200 non-null    datetime64[ns]\n",
      " 2   date_of_interview             200 non-null    datetime64[ns]\n",
      " 3   date_of_job_offer             200 non-null    datetime64[ns]\n",
      " 4   date_of_offer_extension       200 non-null    datetime64[ns]\n",
      " 5   date_of_joining               200 non-null    datetime64[ns]\n",
      " 6   offered_band                  200 non-null    object        \n",
      " 7   offered_salary                200 non-null    float64       \n",
      " 8   percentage_hike_offered_ctc   200 non-null    float64       \n",
      " 9   joining_bonus_amount          200 non-null    float64       \n",
      " 10  lob                           200 non-null    object        \n",
      " 11  joining_location              200 non-null    object        \n",
      " 12  candidate_relocation_status   200 non-null    object        \n",
      " 13  acceptance_status             200 non-null    object        \n",
      " 14  notice_period                 200 non-null    float64       \n",
      " 15  current_ctc                   200 non-null    float64       \n",
      " 16  current_gross_salary          200 non-null    float64       \n",
      " 17  current_organization          200 non-null    object        \n",
      " 18  highest_educational_degree    200 non-null    object        \n",
      " 19  total_experience              200 non-null    float64       \n",
      " 20  relevant_experience           200 non-null    float64       \n",
      " 21  year_of_graduation            200 non-null    float64       \n",
      " 22  expected_ctc                  200 non-null    float64       \n",
      " 23  percentage_hike_expected_ctc  200 non-null    float64       \n",
      " 24  gender                        200 non-null    object        \n",
      " 25  candidate_source              200 non-null    object        \n",
      " 26  dob                           200 non-null    datetime64[ns]\n",
      " 27  location                      200 non-null    object        \n",
      " 28  number_of_precious_jobs       200 non-null    float64       \n",
      " 29  written_test_date             200 non-null    datetime64[ns]\n",
      " 30  interview_rounds              200 non-null    float64       \n",
      " 31  date_of_first_interview       200 non-null    datetime64[ns]\n",
      " 32  date_of_last_interview        200 non-null    datetime64[ns]\n",
      " 33  interview_types               200 non-null    object        \n",
      " 34  interview_types2              200 non-null    object        \n",
      " 35  first_interview_duration      200 non-null    float64       \n",
      " 36  last_interaction_duration     200 non-null    float64       \n",
      "dtypes: datetime64[ns](9), float64(15), object(13)\n",
      "memory usage: 58.2+ KB\n"
     ]
    }
   ],
   "source": [
    "data.info()"
   ]
  },
  {
   "cell_type": "code",
   "execution_count": 16,
   "metadata": {},
   "outputs": [
    {
     "data": {
      "text/plain": [
       "(201, 37)"
      ]
     },
     "execution_count": 16,
     "metadata": {},
     "output_type": "execute_result"
    }
   ],
   "source": [
    "data.shape"
   ]
  },
  {
   "cell_type": "code",
   "execution_count": 17,
   "metadata": {},
   "outputs": [
    {
     "data": {
      "text/html": [
       "<div>\n",
       "<style scoped>\n",
       "    .dataframe tbody tr th:only-of-type {\n",
       "        vertical-align: middle;\n",
       "    }\n",
       "\n",
       "    .dataframe tbody tr th {\n",
       "        vertical-align: top;\n",
       "    }\n",
       "\n",
       "    .dataframe thead th {\n",
       "        text-align: right;\n",
       "    }\n",
       "</style>\n",
       "<table border=\"1\" class=\"dataframe\">\n",
       "  <thead>\n",
       "    <tr style=\"text-align: right;\">\n",
       "      <th></th>\n",
       "      <th>candidate_id</th>\n",
       "      <th>data_of_application</th>\n",
       "      <th>date_of_interview</th>\n",
       "      <th>date_of_job_offer</th>\n",
       "      <th>date_of_offer_extension</th>\n",
       "      <th>date_of_joining</th>\n",
       "      <th>offered_band</th>\n",
       "      <th>offered_salary</th>\n",
       "      <th>percentage_hike_offered_ctc</th>\n",
       "      <th>joining_bonus_amount</th>\n",
       "      <th>...</th>\n",
       "      <th>location</th>\n",
       "      <th>number_of_precious_jobs</th>\n",
       "      <th>written_test_date</th>\n",
       "      <th>interview_rounds</th>\n",
       "      <th>date_of_first_interview</th>\n",
       "      <th>date_of_last_interview</th>\n",
       "      <th>interview_types</th>\n",
       "      <th>interview_types2</th>\n",
       "      <th>first_interview_duration</th>\n",
       "      <th>last_interaction_duration</th>\n",
       "    </tr>\n",
       "  </thead>\n",
       "  <tbody>\n",
       "    <tr>\n",
       "      <th>0</th>\n",
       "      <td>C1</td>\n",
       "      <td>2019-08-28</td>\n",
       "      <td>2020-06-12</td>\n",
       "      <td>2020-06-22</td>\n",
       "      <td>2020-06-29</td>\n",
       "      <td>2020-07-14</td>\n",
       "      <td>B2</td>\n",
       "      <td>1.383755e+06</td>\n",
       "      <td>0.190383</td>\n",
       "      <td>58122.28125</td>\n",
       "      <td>...</td>\n",
       "      <td>Kolkata</td>\n",
       "      <td>2.0</td>\n",
       "      <td>2020-05-29</td>\n",
       "      <td>4.0</td>\n",
       "      <td>2020-06-03</td>\n",
       "      <td>2020-06-12</td>\n",
       "      <td>General</td>\n",
       "      <td>Online</td>\n",
       "      <td>40.0</td>\n",
       "      <td>25.0</td>\n",
       "    </tr>\n",
       "    <tr>\n",
       "      <th>1</th>\n",
       "      <td>C2</td>\n",
       "      <td>2019-11-28</td>\n",
       "      <td>2020-06-08</td>\n",
       "      <td>2020-06-18</td>\n",
       "      <td>2020-06-25</td>\n",
       "      <td>2020-07-10</td>\n",
       "      <td>B4</td>\n",
       "      <td>2.976590e+06</td>\n",
       "      <td>0.332342</td>\n",
       "      <td>111705.13125</td>\n",
       "      <td>...</td>\n",
       "      <td>Pune</td>\n",
       "      <td>4.0</td>\n",
       "      <td>2020-05-31</td>\n",
       "      <td>2.0</td>\n",
       "      <td>2020-06-05</td>\n",
       "      <td>2020-06-08</td>\n",
       "      <td>Managerial</td>\n",
       "      <td>FaceToFace</td>\n",
       "      <td>40.0</td>\n",
       "      <td>40.0</td>\n",
       "    </tr>\n",
       "    <tr>\n",
       "      <th>2</th>\n",
       "      <td>C3</td>\n",
       "      <td>2019-08-11</td>\n",
       "      <td>2020-05-26</td>\n",
       "      <td>2020-06-05</td>\n",
       "      <td>2020-06-12</td>\n",
       "      <td>2020-07-12</td>\n",
       "      <td>B0</td>\n",
       "      <td>7.416631e+05</td>\n",
       "      <td>0.271345</td>\n",
       "      <td>29168.43750</td>\n",
       "      <td>...</td>\n",
       "      <td>Chennai</td>\n",
       "      <td>1.0</td>\n",
       "      <td>2020-05-15</td>\n",
       "      <td>3.0</td>\n",
       "      <td>2020-05-20</td>\n",
       "      <td>2020-05-26</td>\n",
       "      <td>Technical</td>\n",
       "      <td>Online</td>\n",
       "      <td>45.0</td>\n",
       "      <td>60.0</td>\n",
       "    </tr>\n",
       "    <tr>\n",
       "      <th>3</th>\n",
       "      <td>C4</td>\n",
       "      <td>2019-08-18</td>\n",
       "      <td>2020-05-15</td>\n",
       "      <td>2020-05-25</td>\n",
       "      <td>2020-06-01</td>\n",
       "      <td>2020-07-31</td>\n",
       "      <td>C6</td>\n",
       "      <td>4.079724e+06</td>\n",
       "      <td>0.273813</td>\n",
       "      <td>160138.23750</td>\n",
       "      <td>...</td>\n",
       "      <td>Hyderabad</td>\n",
       "      <td>6.0</td>\n",
       "      <td>2020-05-10</td>\n",
       "      <td>1.0</td>\n",
       "      <td>2020-05-15</td>\n",
       "      <td>2020-05-15</td>\n",
       "      <td>Technical</td>\n",
       "      <td>Written</td>\n",
       "      <td>40.0</td>\n",
       "      <td>40.0</td>\n",
       "    </tr>\n",
       "    <tr>\n",
       "      <th>4</th>\n",
       "      <td>C5</td>\n",
       "      <td>2019-09-06</td>\n",
       "      <td>2020-01-25</td>\n",
       "      <td>2020-02-04</td>\n",
       "      <td>2020-02-11</td>\n",
       "      <td>2020-02-26</td>\n",
       "      <td>B5</td>\n",
       "      <td>3.340936e+06</td>\n",
       "      <td>0.289619</td>\n",
       "      <td>129531.88125</td>\n",
       "      <td>...</td>\n",
       "      <td>Hyderabad</td>\n",
       "      <td>5.0</td>\n",
       "      <td>2020-01-11</td>\n",
       "      <td>4.0</td>\n",
       "      <td>2020-01-16</td>\n",
       "      <td>2020-01-25</td>\n",
       "      <td>Technical</td>\n",
       "      <td>Online</td>\n",
       "      <td>15.0</td>\n",
       "      <td>25.0</td>\n",
       "    </tr>\n",
       "    <tr>\n",
       "      <th>5</th>\n",
       "      <td>C6</td>\n",
       "      <td>2019-10-08</td>\n",
       "      <td>2020-02-27</td>\n",
       "      <td>2020-03-08</td>\n",
       "      <td>2020-03-15</td>\n",
       "      <td>2020-04-14</td>\n",
       "      <td>C6</td>\n",
       "      <td>4.373292e+06</td>\n",
       "      <td>0.338593</td>\n",
       "      <td>163354.05000</td>\n",
       "      <td>...</td>\n",
       "      <td>Bangaluru</td>\n",
       "      <td>6.0</td>\n",
       "      <td>2020-02-22</td>\n",
       "      <td>1.0</td>\n",
       "      <td>2020-02-27</td>\n",
       "      <td>2020-02-27</td>\n",
       "      <td>Managerial</td>\n",
       "      <td>Online</td>\n",
       "      <td>40.0</td>\n",
       "      <td>40.0</td>\n",
       "    </tr>\n",
       "    <tr>\n",
       "      <th>6</th>\n",
       "      <td>C7</td>\n",
       "      <td>2019-07-31</td>\n",
       "      <td>2020-04-29</td>\n",
       "      <td>2020-05-09</td>\n",
       "      <td>2020-05-16</td>\n",
       "      <td>2020-06-30</td>\n",
       "      <td>B3</td>\n",
       "      <td>2.706252e+06</td>\n",
       "      <td>0.396790</td>\n",
       "      <td>96873.97500</td>\n",
       "      <td>...</td>\n",
       "      <td>Kolkata</td>\n",
       "      <td>4.0</td>\n",
       "      <td>2020-04-18</td>\n",
       "      <td>3.0</td>\n",
       "      <td>2020-04-23</td>\n",
       "      <td>2020-04-29</td>\n",
       "      <td>Technical</td>\n",
       "      <td>FaceToFace</td>\n",
       "      <td>30.0</td>\n",
       "      <td>60.0</td>\n",
       "    </tr>\n",
       "    <tr>\n",
       "      <th>7</th>\n",
       "      <td>C8</td>\n",
       "      <td>2019-09-13</td>\n",
       "      <td>2020-03-31</td>\n",
       "      <td>2020-04-10</td>\n",
       "      <td>2020-04-17</td>\n",
       "      <td>2020-06-16</td>\n",
       "      <td>B0</td>\n",
       "      <td>5.569521e+05</td>\n",
       "      <td>0.293796</td>\n",
       "      <td>21523.95000</td>\n",
       "      <td>...</td>\n",
       "      <td>Chennai</td>\n",
       "      <td>1.0</td>\n",
       "      <td>2020-03-23</td>\n",
       "      <td>2.0</td>\n",
       "      <td>2020-03-28</td>\n",
       "      <td>2020-03-31</td>\n",
       "      <td>Managerial</td>\n",
       "      <td>Written</td>\n",
       "      <td>15.0</td>\n",
       "      <td>60.0</td>\n",
       "    </tr>\n",
       "    <tr>\n",
       "      <th>8</th>\n",
       "      <td>C9</td>\n",
       "      <td>2019-12-24</td>\n",
       "      <td>2020-06-26</td>\n",
       "      <td>2020-07-06</td>\n",
       "      <td>2020-07-13</td>\n",
       "      <td>2020-08-12</td>\n",
       "      <td>B5</td>\n",
       "      <td>2.668414e+06</td>\n",
       "      <td>0.152236</td>\n",
       "      <td>115792.87500</td>\n",
       "      <td>...</td>\n",
       "      <td>Kolkata</td>\n",
       "      <td>5.0</td>\n",
       "      <td>2020-06-21</td>\n",
       "      <td>1.0</td>\n",
       "      <td>2020-06-26</td>\n",
       "      <td>2020-06-26</td>\n",
       "      <td>Technical</td>\n",
       "      <td>FaceToFace</td>\n",
       "      <td>30.0</td>\n",
       "      <td>30.0</td>\n",
       "    </tr>\n",
       "    <tr>\n",
       "      <th>9</th>\n",
       "      <td>C10</td>\n",
       "      <td>2019-10-03</td>\n",
       "      <td>2020-04-04</td>\n",
       "      <td>2020-04-14</td>\n",
       "      <td>2020-04-21</td>\n",
       "      <td>2020-05-06</td>\n",
       "      <td>B4</td>\n",
       "      <td>2.683620e+06</td>\n",
       "      <td>0.240235</td>\n",
       "      <td>108190.01250</td>\n",
       "      <td>...</td>\n",
       "      <td>Hyderabad</td>\n",
       "      <td>4.0</td>\n",
       "      <td>2020-03-24</td>\n",
       "      <td>3.0</td>\n",
       "      <td>2020-03-29</td>\n",
       "      <td>2020-04-04</td>\n",
       "      <td>Technical</td>\n",
       "      <td>FaceToFace</td>\n",
       "      <td>20.0</td>\n",
       "      <td>30.0</td>\n",
       "    </tr>\n",
       "  </tbody>\n",
       "</table>\n",
       "<p>10 rows × 37 columns</p>\n",
       "</div>"
      ],
      "text/plain": [
       "  candidate_id data_of_application date_of_interview date_of_job_offer  \\\n",
       "0           C1          2019-08-28        2020-06-12        2020-06-22   \n",
       "1           C2          2019-11-28        2020-06-08        2020-06-18   \n",
       "2           C3          2019-08-11        2020-05-26        2020-06-05   \n",
       "3           C4          2019-08-18        2020-05-15        2020-05-25   \n",
       "4           C5          2019-09-06        2020-01-25        2020-02-04   \n",
       "5           C6          2019-10-08        2020-02-27        2020-03-08   \n",
       "6           C7          2019-07-31        2020-04-29        2020-05-09   \n",
       "7           C8          2019-09-13        2020-03-31        2020-04-10   \n",
       "8           C9          2019-12-24        2020-06-26        2020-07-06   \n",
       "9          C10          2019-10-03        2020-04-04        2020-04-14   \n",
       "\n",
       "  date_of_offer_extension date_of_joining offered_band  offered_salary  \\\n",
       "0              2020-06-29      2020-07-14           B2    1.383755e+06   \n",
       "1              2020-06-25      2020-07-10           B4    2.976590e+06   \n",
       "2              2020-06-12      2020-07-12           B0    7.416631e+05   \n",
       "3              2020-06-01      2020-07-31           C6    4.079724e+06   \n",
       "4              2020-02-11      2020-02-26           B5    3.340936e+06   \n",
       "5              2020-03-15      2020-04-14           C6    4.373292e+06   \n",
       "6              2020-05-16      2020-06-30           B3    2.706252e+06   \n",
       "7              2020-04-17      2020-06-16           B0    5.569521e+05   \n",
       "8              2020-07-13      2020-08-12           B5    2.668414e+06   \n",
       "9              2020-04-21      2020-05-06           B4    2.683620e+06   \n",
       "\n",
       "   percentage_hike_offered_ctc  joining_bonus_amount  ...   location  \\\n",
       "0                     0.190383           58122.28125  ...    Kolkata   \n",
       "1                     0.332342          111705.13125  ...       Pune   \n",
       "2                     0.271345           29168.43750  ...    Chennai   \n",
       "3                     0.273813          160138.23750  ...  Hyderabad   \n",
       "4                     0.289619          129531.88125  ...  Hyderabad   \n",
       "5                     0.338593          163354.05000  ...  Bangaluru   \n",
       "6                     0.396790           96873.97500  ...    Kolkata   \n",
       "7                     0.293796           21523.95000  ...    Chennai   \n",
       "8                     0.152236          115792.87500  ...    Kolkata   \n",
       "9                     0.240235          108190.01250  ...  Hyderabad   \n",
       "\n",
       "  number_of_precious_jobs written_test_date interview_rounds  \\\n",
       "0                     2.0        2020-05-29              4.0   \n",
       "1                     4.0        2020-05-31              2.0   \n",
       "2                     1.0        2020-05-15              3.0   \n",
       "3                     6.0        2020-05-10              1.0   \n",
       "4                     5.0        2020-01-11              4.0   \n",
       "5                     6.0        2020-02-22              1.0   \n",
       "6                     4.0        2020-04-18              3.0   \n",
       "7                     1.0        2020-03-23              2.0   \n",
       "8                     5.0        2020-06-21              1.0   \n",
       "9                     4.0        2020-03-24              3.0   \n",
       "\n",
       "   date_of_first_interview  date_of_last_interview  interview_types  \\\n",
       "0               2020-06-03              2020-06-12          General   \n",
       "1               2020-06-05              2020-06-08       Managerial   \n",
       "2               2020-05-20              2020-05-26        Technical   \n",
       "3               2020-05-15              2020-05-15        Technical   \n",
       "4               2020-01-16              2020-01-25        Technical   \n",
       "5               2020-02-27              2020-02-27       Managerial   \n",
       "6               2020-04-23              2020-04-29        Technical   \n",
       "7               2020-03-28              2020-03-31       Managerial   \n",
       "8               2020-06-26              2020-06-26        Technical   \n",
       "9               2020-03-29              2020-04-04        Technical   \n",
       "\n",
       "  interview_types2 first_interview_duration  last_interaction_duration  \n",
       "0           Online                     40.0                       25.0  \n",
       "1       FaceToFace                     40.0                       40.0  \n",
       "2           Online                     45.0                       60.0  \n",
       "3          Written                     40.0                       40.0  \n",
       "4           Online                     15.0                       25.0  \n",
       "5           Online                     40.0                       40.0  \n",
       "6       FaceToFace                     30.0                       60.0  \n",
       "7          Written                     15.0                       60.0  \n",
       "8       FaceToFace                     30.0                       30.0  \n",
       "9       FaceToFace                     20.0                       30.0  \n",
       "\n",
       "[10 rows x 37 columns]"
      ]
     },
     "execution_count": 17,
     "metadata": {},
     "output_type": "execute_result"
    }
   ],
   "source": [
    "data.head(10)"
   ]
  },
  {
   "cell_type": "code",
   "execution_count": 18,
   "metadata": {},
   "outputs": [
    {
     "data": {
      "text/html": [
       "<div>\n",
       "<style scoped>\n",
       "    .dataframe tbody tr th:only-of-type {\n",
       "        vertical-align: middle;\n",
       "    }\n",
       "\n",
       "    .dataframe tbody tr th {\n",
       "        vertical-align: top;\n",
       "    }\n",
       "\n",
       "    .dataframe thead th {\n",
       "        text-align: right;\n",
       "    }\n",
       "</style>\n",
       "<table border=\"1\" class=\"dataframe\">\n",
       "  <thead>\n",
       "    <tr style=\"text-align: right;\">\n",
       "      <th></th>\n",
       "      <th>candidate_id</th>\n",
       "      <th>data_of_application</th>\n",
       "      <th>date_of_interview</th>\n",
       "      <th>date_of_job_offer</th>\n",
       "      <th>date_of_offer_extension</th>\n",
       "      <th>date_of_joining</th>\n",
       "      <th>offered_band</th>\n",
       "      <th>offered_salary</th>\n",
       "      <th>percentage_hike_offered_ctc</th>\n",
       "      <th>joining_bonus_amount</th>\n",
       "      <th>...</th>\n",
       "      <th>location</th>\n",
       "      <th>number_of_precious_jobs</th>\n",
       "      <th>written_test_date</th>\n",
       "      <th>interview_rounds</th>\n",
       "      <th>date_of_first_interview</th>\n",
       "      <th>date_of_last_interview</th>\n",
       "      <th>interview_types</th>\n",
       "      <th>interview_types2</th>\n",
       "      <th>first_interview_duration</th>\n",
       "      <th>last_interaction_duration</th>\n",
       "    </tr>\n",
       "  </thead>\n",
       "  <tbody>\n",
       "    <tr>\n",
       "      <th>181</th>\n",
       "      <td>C182</td>\n",
       "      <td>2019-09-12</td>\n",
       "      <td>2020-04-02</td>\n",
       "      <td>2020-04-12</td>\n",
       "      <td>2020-04-19</td>\n",
       "      <td>2020-05-19</td>\n",
       "      <td>B5</td>\n",
       "      <td>3.827474e+06</td>\n",
       "      <td>0.404441</td>\n",
       "      <td>136263.20625</td>\n",
       "      <td>...</td>\n",
       "      <td>Gurugram</td>\n",
       "      <td>5.0</td>\n",
       "      <td>2020-03-25</td>\n",
       "      <td>2.0</td>\n",
       "      <td>2020-03-30</td>\n",
       "      <td>2020-04-02</td>\n",
       "      <td>General</td>\n",
       "      <td>Online</td>\n",
       "      <td>40.0</td>\n",
       "      <td>30.0</td>\n",
       "    </tr>\n",
       "    <tr>\n",
       "      <th>182</th>\n",
       "      <td>C183</td>\n",
       "      <td>2019-11-06</td>\n",
       "      <td>2020-02-12</td>\n",
       "      <td>2020-02-22</td>\n",
       "      <td>2020-02-29</td>\n",
       "      <td>2020-04-14</td>\n",
       "      <td>B4</td>\n",
       "      <td>2.597407e+06</td>\n",
       "      <td>0.282081</td>\n",
       "      <td>101296.51875</td>\n",
       "      <td>...</td>\n",
       "      <td>Noida</td>\n",
       "      <td>4.0</td>\n",
       "      <td>2020-01-29</td>\n",
       "      <td>4.0</td>\n",
       "      <td>2020-02-03</td>\n",
       "      <td>2020-02-12</td>\n",
       "      <td>Managerial</td>\n",
       "      <td>Written</td>\n",
       "      <td>45.0</td>\n",
       "      <td>25.0</td>\n",
       "    </tr>\n",
       "    <tr>\n",
       "      <th>183</th>\n",
       "      <td>C184</td>\n",
       "      <td>2019-10-22</td>\n",
       "      <td>2020-06-28</td>\n",
       "      <td>2020-07-08</td>\n",
       "      <td>2020-07-15</td>\n",
       "      <td>2020-07-30</td>\n",
       "      <td>B4</td>\n",
       "      <td>2.796538e+06</td>\n",
       "      <td>0.374479</td>\n",
       "      <td>101730.88125</td>\n",
       "      <td>...</td>\n",
       "      <td>Kolkata</td>\n",
       "      <td>4.0</td>\n",
       "      <td>2020-06-20</td>\n",
       "      <td>2.0</td>\n",
       "      <td>2020-06-25</td>\n",
       "      <td>2020-06-28</td>\n",
       "      <td>Technical</td>\n",
       "      <td>Written</td>\n",
       "      <td>60.0</td>\n",
       "      <td>15.0</td>\n",
       "    </tr>\n",
       "    <tr>\n",
       "      <th>184</th>\n",
       "      <td>C185</td>\n",
       "      <td>2019-11-28</td>\n",
       "      <td>2020-02-17</td>\n",
       "      <td>2020-02-27</td>\n",
       "      <td>2020-03-05</td>\n",
       "      <td>2020-03-20</td>\n",
       "      <td>B0</td>\n",
       "      <td>8.400276e+05</td>\n",
       "      <td>0.400690</td>\n",
       "      <td>29986.20000</td>\n",
       "      <td>...</td>\n",
       "      <td>Gurugram</td>\n",
       "      <td>1.0</td>\n",
       "      <td>2020-02-06</td>\n",
       "      <td>3.0</td>\n",
       "      <td>2020-02-11</td>\n",
       "      <td>2020-02-17</td>\n",
       "      <td>Technical</td>\n",
       "      <td>Written</td>\n",
       "      <td>40.0</td>\n",
       "      <td>30.0</td>\n",
       "    </tr>\n",
       "    <tr>\n",
       "      <th>185</th>\n",
       "      <td>C186</td>\n",
       "      <td>2019-09-22</td>\n",
       "      <td>2020-01-24</td>\n",
       "      <td>2020-02-03</td>\n",
       "      <td>2020-02-10</td>\n",
       "      <td>2020-03-26</td>\n",
       "      <td>B4</td>\n",
       "      <td>2.882638e+06</td>\n",
       "      <td>0.326195</td>\n",
       "      <td>108680.79375</td>\n",
       "      <td>...</td>\n",
       "      <td>Noida</td>\n",
       "      <td>4.0</td>\n",
       "      <td>2020-01-10</td>\n",
       "      <td>4.0</td>\n",
       "      <td>2020-01-15</td>\n",
       "      <td>2020-01-24</td>\n",
       "      <td>Managerial</td>\n",
       "      <td>FaceToFace</td>\n",
       "      <td>45.0</td>\n",
       "      <td>20.0</td>\n",
       "    </tr>\n",
       "    <tr>\n",
       "      <th>186</th>\n",
       "      <td>C187</td>\n",
       "      <td>2019-08-20</td>\n",
       "      <td>2020-06-15</td>\n",
       "      <td>2020-06-25</td>\n",
       "      <td>2020-07-02</td>\n",
       "      <td>2020-08-16</td>\n",
       "      <td>B2</td>\n",
       "      <td>1.398238e+06</td>\n",
       "      <td>0.374025</td>\n",
       "      <td>50881.10625</td>\n",
       "      <td>...</td>\n",
       "      <td>Bangaluru</td>\n",
       "      <td>2.0</td>\n",
       "      <td>2020-06-04</td>\n",
       "      <td>3.0</td>\n",
       "      <td>2020-06-09</td>\n",
       "      <td>2020-06-15</td>\n",
       "      <td>Managerial</td>\n",
       "      <td>Written</td>\n",
       "      <td>30.0</td>\n",
       "      <td>40.0</td>\n",
       "    </tr>\n",
       "    <tr>\n",
       "      <th>187</th>\n",
       "      <td>C188</td>\n",
       "      <td>2019-11-29</td>\n",
       "      <td>2020-06-23</td>\n",
       "      <td>2020-07-03</td>\n",
       "      <td>2020-07-10</td>\n",
       "      <td>2020-08-24</td>\n",
       "      <td>B1</td>\n",
       "      <td>1.205963e+06</td>\n",
       "      <td>0.282430</td>\n",
       "      <td>47018.64375</td>\n",
       "      <td>...</td>\n",
       "      <td>Mysore</td>\n",
       "      <td>1.0</td>\n",
       "      <td>2020-06-18</td>\n",
       "      <td>1.0</td>\n",
       "      <td>2020-06-23</td>\n",
       "      <td>2020-06-23</td>\n",
       "      <td>General</td>\n",
       "      <td>FaceToFace</td>\n",
       "      <td>15.0</td>\n",
       "      <td>15.0</td>\n",
       "    </tr>\n",
       "    <tr>\n",
       "      <th>188</th>\n",
       "      <td>C189</td>\n",
       "      <td>2019-11-27</td>\n",
       "      <td>2020-05-16</td>\n",
       "      <td>2020-05-26</td>\n",
       "      <td>2020-06-02</td>\n",
       "      <td>2020-07-02</td>\n",
       "      <td>B0</td>\n",
       "      <td>4.639022e+05</td>\n",
       "      <td>0.285127</td>\n",
       "      <td>18048.88125</td>\n",
       "      <td>...</td>\n",
       "      <td>Chennai</td>\n",
       "      <td>1.0</td>\n",
       "      <td>2020-05-08</td>\n",
       "      <td>2.0</td>\n",
       "      <td>2020-05-13</td>\n",
       "      <td>2020-05-16</td>\n",
       "      <td>General</td>\n",
       "      <td>Written</td>\n",
       "      <td>15.0</td>\n",
       "      <td>45.0</td>\n",
       "    </tr>\n",
       "    <tr>\n",
       "      <th>189</th>\n",
       "      <td>C190</td>\n",
       "      <td>2019-09-03</td>\n",
       "      <td>2020-05-22</td>\n",
       "      <td>2020-06-01</td>\n",
       "      <td>2020-06-08</td>\n",
       "      <td>2020-08-07</td>\n",
       "      <td>B1</td>\n",
       "      <td>1.024267e+06</td>\n",
       "      <td>0.352465</td>\n",
       "      <td>37866.65625</td>\n",
       "      <td>...</td>\n",
       "      <td>Mysore</td>\n",
       "      <td>2.0</td>\n",
       "      <td>2020-05-11</td>\n",
       "      <td>3.0</td>\n",
       "      <td>2020-05-16</td>\n",
       "      <td>2020-05-22</td>\n",
       "      <td>Managerial</td>\n",
       "      <td>FaceToFace</td>\n",
       "      <td>25.0</td>\n",
       "      <td>45.0</td>\n",
       "    </tr>\n",
       "    <tr>\n",
       "      <th>190</th>\n",
       "      <td>C191</td>\n",
       "      <td>2019-10-21</td>\n",
       "      <td>2020-01-09</td>\n",
       "      <td>2020-01-19</td>\n",
       "      <td>2020-01-26</td>\n",
       "      <td>2020-03-11</td>\n",
       "      <td>B5</td>\n",
       "      <td>2.967445e+06</td>\n",
       "      <td>0.276019</td>\n",
       "      <td>116277.46875</td>\n",
       "      <td>...</td>\n",
       "      <td>Kolkata</td>\n",
       "      <td>5.0</td>\n",
       "      <td>2020-01-01</td>\n",
       "      <td>2.0</td>\n",
       "      <td>2020-01-06</td>\n",
       "      <td>2020-01-09</td>\n",
       "      <td>Managerial</td>\n",
       "      <td>FaceToFace</td>\n",
       "      <td>25.0</td>\n",
       "      <td>15.0</td>\n",
       "    </tr>\n",
       "    <tr>\n",
       "      <th>191</th>\n",
       "      <td>C192</td>\n",
       "      <td>2019-11-16</td>\n",
       "      <td>2020-02-26</td>\n",
       "      <td>2020-03-07</td>\n",
       "      <td>2020-03-14</td>\n",
       "      <td>2020-05-13</td>\n",
       "      <td>B3</td>\n",
       "      <td>2.705647e+06</td>\n",
       "      <td>0.392128</td>\n",
       "      <td>97176.65625</td>\n",
       "      <td>...</td>\n",
       "      <td>Kolkata</td>\n",
       "      <td>4.0</td>\n",
       "      <td>2020-02-15</td>\n",
       "      <td>3.0</td>\n",
       "      <td>2020-02-20</td>\n",
       "      <td>2020-02-26</td>\n",
       "      <td>Managerial</td>\n",
       "      <td>Online</td>\n",
       "      <td>15.0</td>\n",
       "      <td>20.0</td>\n",
       "    </tr>\n",
       "    <tr>\n",
       "      <th>192</th>\n",
       "      <td>C193</td>\n",
       "      <td>2019-12-16</td>\n",
       "      <td>2020-06-28</td>\n",
       "      <td>2020-07-08</td>\n",
       "      <td>2020-07-15</td>\n",
       "      <td>2020-08-29</td>\n",
       "      <td>B4</td>\n",
       "      <td>2.673812e+06</td>\n",
       "      <td>0.182117</td>\n",
       "      <td>113094.16875</td>\n",
       "      <td>...</td>\n",
       "      <td>Kolkata</td>\n",
       "      <td>4.0</td>\n",
       "      <td>2020-06-17</td>\n",
       "      <td>3.0</td>\n",
       "      <td>2020-06-22</td>\n",
       "      <td>2020-06-28</td>\n",
       "      <td>Managerial</td>\n",
       "      <td>Online</td>\n",
       "      <td>15.0</td>\n",
       "      <td>45.0</td>\n",
       "    </tr>\n",
       "    <tr>\n",
       "      <th>193</th>\n",
       "      <td>C194</td>\n",
       "      <td>2019-09-05</td>\n",
       "      <td>2020-01-23</td>\n",
       "      <td>2020-02-02</td>\n",
       "      <td>2020-02-09</td>\n",
       "      <td>2020-02-24</td>\n",
       "      <td>C6</td>\n",
       "      <td>3.810198e+06</td>\n",
       "      <td>0.314760</td>\n",
       "      <td>144900.90000</td>\n",
       "      <td>...</td>\n",
       "      <td>Bangaluru</td>\n",
       "      <td>5.0</td>\n",
       "      <td>2020-01-12</td>\n",
       "      <td>3.0</td>\n",
       "      <td>2020-01-17</td>\n",
       "      <td>2020-01-23</td>\n",
       "      <td>General</td>\n",
       "      <td>Online</td>\n",
       "      <td>40.0</td>\n",
       "      <td>15.0</td>\n",
       "    </tr>\n",
       "    <tr>\n",
       "      <th>194</th>\n",
       "      <td>C195</td>\n",
       "      <td>2019-08-21</td>\n",
       "      <td>2020-03-06</td>\n",
       "      <td>2020-03-16</td>\n",
       "      <td>2020-03-23</td>\n",
       "      <td>2020-04-22</td>\n",
       "      <td>B1</td>\n",
       "      <td>1.019197e+06</td>\n",
       "      <td>0.261343</td>\n",
       "      <td>40401.28125</td>\n",
       "      <td>...</td>\n",
       "      <td>Mumbai</td>\n",
       "      <td>1.0</td>\n",
       "      <td>2020-02-27</td>\n",
       "      <td>2.0</td>\n",
       "      <td>2020-03-03</td>\n",
       "      <td>2020-03-06</td>\n",
       "      <td>Managerial</td>\n",
       "      <td>Written</td>\n",
       "      <td>45.0</td>\n",
       "      <td>15.0</td>\n",
       "    </tr>\n",
       "    <tr>\n",
       "      <th>195</th>\n",
       "      <td>C196</td>\n",
       "      <td>2019-12-06</td>\n",
       "      <td>2020-06-08</td>\n",
       "      <td>2020-06-18</td>\n",
       "      <td>2020-06-25</td>\n",
       "      <td>2020-08-09</td>\n",
       "      <td>B5</td>\n",
       "      <td>3.632560e+06</td>\n",
       "      <td>0.358273</td>\n",
       "      <td>133719.80625</td>\n",
       "      <td>...</td>\n",
       "      <td>Bangaluru</td>\n",
       "      <td>5.0</td>\n",
       "      <td>2020-05-25</td>\n",
       "      <td>4.0</td>\n",
       "      <td>2020-05-30</td>\n",
       "      <td>2020-06-08</td>\n",
       "      <td>Technical</td>\n",
       "      <td>FaceToFace</td>\n",
       "      <td>15.0</td>\n",
       "      <td>20.0</td>\n",
       "    </tr>\n",
       "    <tr>\n",
       "      <th>196</th>\n",
       "      <td>C197</td>\n",
       "      <td>2019-11-10</td>\n",
       "      <td>2020-06-24</td>\n",
       "      <td>2020-07-04</td>\n",
       "      <td>2020-07-11</td>\n",
       "      <td>2020-08-25</td>\n",
       "      <td>B5</td>\n",
       "      <td>2.951355e+06</td>\n",
       "      <td>0.186976</td>\n",
       "      <td>124322.40000</td>\n",
       "      <td>...</td>\n",
       "      <td>Kolkata</td>\n",
       "      <td>5.0</td>\n",
       "      <td>2020-06-13</td>\n",
       "      <td>3.0</td>\n",
       "      <td>2020-06-18</td>\n",
       "      <td>2020-06-24</td>\n",
       "      <td>General</td>\n",
       "      <td>Written</td>\n",
       "      <td>60.0</td>\n",
       "      <td>60.0</td>\n",
       "    </tr>\n",
       "    <tr>\n",
       "      <th>197</th>\n",
       "      <td>C198</td>\n",
       "      <td>2019-11-19</td>\n",
       "      <td>2020-01-31</td>\n",
       "      <td>2020-02-10</td>\n",
       "      <td>2020-02-17</td>\n",
       "      <td>2020-03-03</td>\n",
       "      <td>B4</td>\n",
       "      <td>2.392678e+06</td>\n",
       "      <td>0.154088</td>\n",
       "      <td>103660.98750</td>\n",
       "      <td>...</td>\n",
       "      <td>Kolkata</td>\n",
       "      <td>4.0</td>\n",
       "      <td>2020-01-17</td>\n",
       "      <td>4.0</td>\n",
       "      <td>2020-01-22</td>\n",
       "      <td>2020-01-31</td>\n",
       "      <td>Technical</td>\n",
       "      <td>FaceToFace</td>\n",
       "      <td>30.0</td>\n",
       "      <td>15.0</td>\n",
       "    </tr>\n",
       "    <tr>\n",
       "      <th>198</th>\n",
       "      <td>C199</td>\n",
       "      <td>2019-09-12</td>\n",
       "      <td>2020-05-02</td>\n",
       "      <td>2020-05-12</td>\n",
       "      <td>2020-05-19</td>\n",
       "      <td>2020-07-18</td>\n",
       "      <td>B4</td>\n",
       "      <td>2.803924e+06</td>\n",
       "      <td>0.430020</td>\n",
       "      <td>98037.95625</td>\n",
       "      <td>...</td>\n",
       "      <td>Kolkata</td>\n",
       "      <td>4.0</td>\n",
       "      <td>2020-04-18</td>\n",
       "      <td>4.0</td>\n",
       "      <td>2020-04-23</td>\n",
       "      <td>2020-05-02</td>\n",
       "      <td>Managerial</td>\n",
       "      <td>FaceToFace</td>\n",
       "      <td>25.0</td>\n",
       "      <td>25.0</td>\n",
       "    </tr>\n",
       "    <tr>\n",
       "      <th>199</th>\n",
       "      <td>C200</td>\n",
       "      <td>2019-10-29</td>\n",
       "      <td>2020-01-29</td>\n",
       "      <td>2020-02-08</td>\n",
       "      <td>2020-02-15</td>\n",
       "      <td>2020-04-15</td>\n",
       "      <td>B0</td>\n",
       "      <td>7.401562e+05</td>\n",
       "      <td>0.236813</td>\n",
       "      <td>29921.90625</td>\n",
       "      <td>...</td>\n",
       "      <td>Mumbai</td>\n",
       "      <td>1.0</td>\n",
       "      <td>2020-01-24</td>\n",
       "      <td>1.0</td>\n",
       "      <td>2020-01-29</td>\n",
       "      <td>2020-01-29</td>\n",
       "      <td>General</td>\n",
       "      <td>Online</td>\n",
       "      <td>45.0</td>\n",
       "      <td>45.0</td>\n",
       "    </tr>\n",
       "    <tr>\n",
       "      <th>200</th>\n",
       "      <td>NaN</td>\n",
       "      <td>NaT</td>\n",
       "      <td>NaT</td>\n",
       "      <td>NaT</td>\n",
       "      <td>NaT</td>\n",
       "      <td>NaT</td>\n",
       "      <td>NaN</td>\n",
       "      <td>NaN</td>\n",
       "      <td>NaN</td>\n",
       "      <td>NaN</td>\n",
       "      <td>...</td>\n",
       "      <td>NaN</td>\n",
       "      <td>NaN</td>\n",
       "      <td>NaT</td>\n",
       "      <td>NaN</td>\n",
       "      <td>NaT</td>\n",
       "      <td>NaT</td>\n",
       "      <td>NaN</td>\n",
       "      <td>NaN</td>\n",
       "      <td>NaN</td>\n",
       "      <td>NaN</td>\n",
       "    </tr>\n",
       "  </tbody>\n",
       "</table>\n",
       "<p>20 rows × 37 columns</p>\n",
       "</div>"
      ],
      "text/plain": [
       "    candidate_id data_of_application date_of_interview date_of_job_offer  \\\n",
       "181         C182          2019-09-12        2020-04-02        2020-04-12   \n",
       "182         C183          2019-11-06        2020-02-12        2020-02-22   \n",
       "183         C184          2019-10-22        2020-06-28        2020-07-08   \n",
       "184         C185          2019-11-28        2020-02-17        2020-02-27   \n",
       "185         C186          2019-09-22        2020-01-24        2020-02-03   \n",
       "186         C187          2019-08-20        2020-06-15        2020-06-25   \n",
       "187         C188          2019-11-29        2020-06-23        2020-07-03   \n",
       "188         C189          2019-11-27        2020-05-16        2020-05-26   \n",
       "189         C190          2019-09-03        2020-05-22        2020-06-01   \n",
       "190         C191          2019-10-21        2020-01-09        2020-01-19   \n",
       "191         C192          2019-11-16        2020-02-26        2020-03-07   \n",
       "192         C193          2019-12-16        2020-06-28        2020-07-08   \n",
       "193         C194          2019-09-05        2020-01-23        2020-02-02   \n",
       "194         C195          2019-08-21        2020-03-06        2020-03-16   \n",
       "195         C196          2019-12-06        2020-06-08        2020-06-18   \n",
       "196         C197          2019-11-10        2020-06-24        2020-07-04   \n",
       "197         C198          2019-11-19        2020-01-31        2020-02-10   \n",
       "198         C199          2019-09-12        2020-05-02        2020-05-12   \n",
       "199         C200          2019-10-29        2020-01-29        2020-02-08   \n",
       "200          NaN                 NaT               NaT               NaT   \n",
       "\n",
       "    date_of_offer_extension date_of_joining offered_band  offered_salary  \\\n",
       "181              2020-04-19      2020-05-19           B5    3.827474e+06   \n",
       "182              2020-02-29      2020-04-14           B4    2.597407e+06   \n",
       "183              2020-07-15      2020-07-30           B4    2.796538e+06   \n",
       "184              2020-03-05      2020-03-20           B0    8.400276e+05   \n",
       "185              2020-02-10      2020-03-26           B4    2.882638e+06   \n",
       "186              2020-07-02      2020-08-16           B2    1.398238e+06   \n",
       "187              2020-07-10      2020-08-24           B1    1.205963e+06   \n",
       "188              2020-06-02      2020-07-02           B0    4.639022e+05   \n",
       "189              2020-06-08      2020-08-07           B1    1.024267e+06   \n",
       "190              2020-01-26      2020-03-11           B5    2.967445e+06   \n",
       "191              2020-03-14      2020-05-13           B3    2.705647e+06   \n",
       "192              2020-07-15      2020-08-29           B4    2.673812e+06   \n",
       "193              2020-02-09      2020-02-24           C6    3.810198e+06   \n",
       "194              2020-03-23      2020-04-22           B1    1.019197e+06   \n",
       "195              2020-06-25      2020-08-09           B5    3.632560e+06   \n",
       "196              2020-07-11      2020-08-25           B5    2.951355e+06   \n",
       "197              2020-02-17      2020-03-03           B4    2.392678e+06   \n",
       "198              2020-05-19      2020-07-18           B4    2.803924e+06   \n",
       "199              2020-02-15      2020-04-15           B0    7.401562e+05   \n",
       "200                     NaT             NaT          NaN             NaN   \n",
       "\n",
       "     percentage_hike_offered_ctc  joining_bonus_amount  ...   location  \\\n",
       "181                     0.404441          136263.20625  ...   Gurugram   \n",
       "182                     0.282081          101296.51875  ...      Noida   \n",
       "183                     0.374479          101730.88125  ...    Kolkata   \n",
       "184                     0.400690           29986.20000  ...   Gurugram   \n",
       "185                     0.326195          108680.79375  ...      Noida   \n",
       "186                     0.374025           50881.10625  ...  Bangaluru   \n",
       "187                     0.282430           47018.64375  ...     Mysore   \n",
       "188                     0.285127           18048.88125  ...    Chennai   \n",
       "189                     0.352465           37866.65625  ...     Mysore   \n",
       "190                     0.276019          116277.46875  ...    Kolkata   \n",
       "191                     0.392128           97176.65625  ...    Kolkata   \n",
       "192                     0.182117          113094.16875  ...    Kolkata   \n",
       "193                     0.314760          144900.90000  ...  Bangaluru   \n",
       "194                     0.261343           40401.28125  ...     Mumbai   \n",
       "195                     0.358273          133719.80625  ...  Bangaluru   \n",
       "196                     0.186976          124322.40000  ...    Kolkata   \n",
       "197                     0.154088          103660.98750  ...    Kolkata   \n",
       "198                     0.430020           98037.95625  ...    Kolkata   \n",
       "199                     0.236813           29921.90625  ...     Mumbai   \n",
       "200                          NaN                   NaN  ...        NaN   \n",
       "\n",
       "    number_of_precious_jobs written_test_date interview_rounds  \\\n",
       "181                     5.0        2020-03-25              2.0   \n",
       "182                     4.0        2020-01-29              4.0   \n",
       "183                     4.0        2020-06-20              2.0   \n",
       "184                     1.0        2020-02-06              3.0   \n",
       "185                     4.0        2020-01-10              4.0   \n",
       "186                     2.0        2020-06-04              3.0   \n",
       "187                     1.0        2020-06-18              1.0   \n",
       "188                     1.0        2020-05-08              2.0   \n",
       "189                     2.0        2020-05-11              3.0   \n",
       "190                     5.0        2020-01-01              2.0   \n",
       "191                     4.0        2020-02-15              3.0   \n",
       "192                     4.0        2020-06-17              3.0   \n",
       "193                     5.0        2020-01-12              3.0   \n",
       "194                     1.0        2020-02-27              2.0   \n",
       "195                     5.0        2020-05-25              4.0   \n",
       "196                     5.0        2020-06-13              3.0   \n",
       "197                     4.0        2020-01-17              4.0   \n",
       "198                     4.0        2020-04-18              4.0   \n",
       "199                     1.0        2020-01-24              1.0   \n",
       "200                     NaN               NaT              NaN   \n",
       "\n",
       "     date_of_first_interview  date_of_last_interview  interview_types  \\\n",
       "181               2020-03-30              2020-04-02          General   \n",
       "182               2020-02-03              2020-02-12       Managerial   \n",
       "183               2020-06-25              2020-06-28        Technical   \n",
       "184               2020-02-11              2020-02-17        Technical   \n",
       "185               2020-01-15              2020-01-24       Managerial   \n",
       "186               2020-06-09              2020-06-15       Managerial   \n",
       "187               2020-06-23              2020-06-23          General   \n",
       "188               2020-05-13              2020-05-16          General   \n",
       "189               2020-05-16              2020-05-22       Managerial   \n",
       "190               2020-01-06              2020-01-09       Managerial   \n",
       "191               2020-02-20              2020-02-26       Managerial   \n",
       "192               2020-06-22              2020-06-28       Managerial   \n",
       "193               2020-01-17              2020-01-23          General   \n",
       "194               2020-03-03              2020-03-06       Managerial   \n",
       "195               2020-05-30              2020-06-08        Technical   \n",
       "196               2020-06-18              2020-06-24          General   \n",
       "197               2020-01-22              2020-01-31        Technical   \n",
       "198               2020-04-23              2020-05-02       Managerial   \n",
       "199               2020-01-29              2020-01-29          General   \n",
       "200                      NaT                     NaT              NaN   \n",
       "\n",
       "    interview_types2 first_interview_duration  last_interaction_duration  \n",
       "181           Online                     40.0                       30.0  \n",
       "182          Written                     45.0                       25.0  \n",
       "183          Written                     60.0                       15.0  \n",
       "184          Written                     40.0                       30.0  \n",
       "185       FaceToFace                     45.0                       20.0  \n",
       "186          Written                     30.0                       40.0  \n",
       "187       FaceToFace                     15.0                       15.0  \n",
       "188          Written                     15.0                       45.0  \n",
       "189       FaceToFace                     25.0                       45.0  \n",
       "190       FaceToFace                     25.0                       15.0  \n",
       "191           Online                     15.0                       20.0  \n",
       "192           Online                     15.0                       45.0  \n",
       "193           Online                     40.0                       15.0  \n",
       "194          Written                     45.0                       15.0  \n",
       "195       FaceToFace                     15.0                       20.0  \n",
       "196          Written                     60.0                       60.0  \n",
       "197       FaceToFace                     30.0                       15.0  \n",
       "198       FaceToFace                     25.0                       25.0  \n",
       "199           Online                     45.0                       45.0  \n",
       "200              NaN                      NaN                        NaN  \n",
       "\n",
       "[20 rows x 37 columns]"
      ]
     },
     "execution_count": 18,
     "metadata": {},
     "output_type": "execute_result"
    }
   ],
   "source": [
    "data.tail(20)"
   ]
  },
  {
   "cell_type": "code",
   "execution_count": 19,
   "metadata": {},
   "outputs": [
    {
     "data": {
      "text/plain": [
       "candidate_id                            object\n",
       "data_of_application             datetime64[ns]\n",
       "date_of_interview               datetime64[ns]\n",
       "date_of_job_offer               datetime64[ns]\n",
       "date_of_offer_extension         datetime64[ns]\n",
       "date_of_joining                 datetime64[ns]\n",
       "offered_band                            object\n",
       "offered_salary                         float64\n",
       "percentage_hike_offered_ctc            float64\n",
       "joining_bonus_amount                   float64\n",
       "lob                                     object\n",
       "joining_location                        object\n",
       "candidate_relocation_status             object\n",
       "acceptance_status                       object\n",
       "notice_period                          float64\n",
       "current_ctc                            float64\n",
       "current_gross_salary                   float64\n",
       "current_organization                    object\n",
       "highest_educational_degree              object\n",
       "total_experience                       float64\n",
       "relevant_experience                    float64\n",
       "year_of_graduation                     float64\n",
       "expected_ctc                           float64\n",
       "percentage_hike_expected_ctc           float64\n",
       "gender                                  object\n",
       "candidate_source                        object\n",
       "dob                             datetime64[ns]\n",
       "location                                object\n",
       "number_of_precious_jobs                float64\n",
       "written_test_date               datetime64[ns]\n",
       "interview_rounds                       float64\n",
       "date_of_first_interview         datetime64[ns]\n",
       "date_of_last_interview          datetime64[ns]\n",
       "interview_types                         object\n",
       "interview_types2                        object\n",
       "first_interview_duration               float64\n",
       "last_interaction_duration              float64\n",
       "dtype: object"
      ]
     },
     "execution_count": 19,
     "metadata": {},
     "output_type": "execute_result"
    }
   ],
   "source": [
    "data.dtypes"
   ]
  },
  {
   "cell_type": "code",
   "execution_count": 20,
   "metadata": {},
   "outputs": [
    {
     "data": {
      "text/html": [
       "<div>\n",
       "<style scoped>\n",
       "    .dataframe tbody tr th:only-of-type {\n",
       "        vertical-align: middle;\n",
       "    }\n",
       "\n",
       "    .dataframe tbody tr th {\n",
       "        vertical-align: top;\n",
       "    }\n",
       "\n",
       "    .dataframe thead th {\n",
       "        text-align: right;\n",
       "    }\n",
       "</style>\n",
       "<table border=\"1\" class=\"dataframe\">\n",
       "  <thead>\n",
       "    <tr style=\"text-align: right;\">\n",
       "      <th></th>\n",
       "      <th>offered_salary</th>\n",
       "      <th>percentage_hike_offered_ctc</th>\n",
       "      <th>joining_bonus_amount</th>\n",
       "      <th>notice_period</th>\n",
       "      <th>current_ctc</th>\n",
       "      <th>current_gross_salary</th>\n",
       "      <th>total_experience</th>\n",
       "      <th>relevant_experience</th>\n",
       "      <th>year_of_graduation</th>\n",
       "      <th>expected_ctc</th>\n",
       "      <th>percentage_hike_expected_ctc</th>\n",
       "      <th>number_of_precious_jobs</th>\n",
       "      <th>interview_rounds</th>\n",
       "      <th>first_interview_duration</th>\n",
       "      <th>last_interaction_duration</th>\n",
       "    </tr>\n",
       "  </thead>\n",
       "  <tbody>\n",
       "    <tr>\n",
       "      <th>count</th>\n",
       "      <td>2.000000e+02</td>\n",
       "      <td>200.000000</td>\n",
       "      <td>200.000000</td>\n",
       "      <td>200.000000</td>\n",
       "      <td>2.000000e+02</td>\n",
       "      <td>2.000000e+02</td>\n",
       "      <td>200.000000</td>\n",
       "      <td>200.000000</td>\n",
       "      <td>200.000000</td>\n",
       "      <td>2.000000e+02</td>\n",
       "      <td>200.000000</td>\n",
       "      <td>200.000000</td>\n",
       "      <td>200.000000</td>\n",
       "      <td>200.000000</td>\n",
       "      <td>200.0000</td>\n",
       "    </tr>\n",
       "    <tr>\n",
       "      <th>mean</th>\n",
       "      <td>2.346565e+06</td>\n",
       "      <td>0.270672</td>\n",
       "      <td>92967.280031</td>\n",
       "      <td>31.275000</td>\n",
       "      <td>1.859346e+06</td>\n",
       "      <td>1.652752e+06</td>\n",
       "      <td>12.280000</td>\n",
       "      <td>11.052000</td>\n",
       "      <td>2007.720000</td>\n",
       "      <td>2.532500e+06</td>\n",
       "      <td>0.370672</td>\n",
       "      <td>3.575000</td>\n",
       "      <td>2.485000</td>\n",
       "      <td>35.700000</td>\n",
       "      <td>35.1250</td>\n",
       "    </tr>\n",
       "    <tr>\n",
       "      <th>std</th>\n",
       "      <td>1.095181e+06</td>\n",
       "      <td>0.087131</td>\n",
       "      <td>43718.606470</td>\n",
       "      <td>22.038098</td>\n",
       "      <td>8.743721e+05</td>\n",
       "      <td>7.772197e+05</td>\n",
       "      <td>5.242041</td>\n",
       "      <td>4.717837</td>\n",
       "      <td>5.242041</td>\n",
       "      <td>1.181556e+06</td>\n",
       "      <td>0.087131</td>\n",
       "      <td>1.728965</td>\n",
       "      <td>1.125214</td>\n",
       "      <td>14.397794</td>\n",
       "      <td>14.7631</td>\n",
       "    </tr>\n",
       "    <tr>\n",
       "      <th>min</th>\n",
       "      <td>4.609491e+05</td>\n",
       "      <td>0.109940</td>\n",
       "      <td>18048.881250</td>\n",
       "      <td>0.000000</td>\n",
       "      <td>3.609776e+05</td>\n",
       "      <td>3.208690e+05</td>\n",
       "      <td>3.000000</td>\n",
       "      <td>2.700000</td>\n",
       "      <td>2000.000000</td>\n",
       "      <td>5.000000e+05</td>\n",
       "      <td>0.209940</td>\n",
       "      <td>1.000000</td>\n",
       "      <td>1.000000</td>\n",
       "      <td>15.000000</td>\n",
       "      <td>15.0000</td>\n",
       "    </tr>\n",
       "    <tr>\n",
       "      <th>25%</th>\n",
       "      <td>1.396196e+06</td>\n",
       "      <td>0.194058</td>\n",
       "      <td>52955.339063</td>\n",
       "      <td>15.000000</td>\n",
       "      <td>1.059107e+06</td>\n",
       "      <td>9.414282e+05</td>\n",
       "      <td>7.750000</td>\n",
       "      <td>6.975000</td>\n",
       "      <td>2003.000000</td>\n",
       "      <td>1.500000e+06</td>\n",
       "      <td>0.294058</td>\n",
       "      <td>2.000000</td>\n",
       "      <td>1.000000</td>\n",
       "      <td>25.000000</td>\n",
       "      <td>25.0000</td>\n",
       "    </tr>\n",
       "    <tr>\n",
       "      <th>50%</th>\n",
       "      <td>2.414243e+06</td>\n",
       "      <td>0.275515</td>\n",
       "      <td>96949.490625</td>\n",
       "      <td>30.000000</td>\n",
       "      <td>1.938990e+06</td>\n",
       "      <td>1.723546e+06</td>\n",
       "      <td>12.000000</td>\n",
       "      <td>10.800000</td>\n",
       "      <td>2008.000000</td>\n",
       "      <td>2.600000e+06</td>\n",
       "      <td>0.375515</td>\n",
       "      <td>4.000000</td>\n",
       "      <td>3.000000</td>\n",
       "      <td>40.000000</td>\n",
       "      <td>30.0000</td>\n",
       "    </tr>\n",
       "    <tr>\n",
       "      <th>75%</th>\n",
       "      <td>3.317921e+06</td>\n",
       "      <td>0.340090</td>\n",
       "      <td>133375.598438</td>\n",
       "      <td>45.000000</td>\n",
       "      <td>2.667512e+06</td>\n",
       "      <td>2.371122e+06</td>\n",
       "      <td>17.000000</td>\n",
       "      <td>15.300000</td>\n",
       "      <td>2012.250000</td>\n",
       "      <td>3.600000e+06</td>\n",
       "      <td>0.440090</td>\n",
       "      <td>5.000000</td>\n",
       "      <td>3.000000</td>\n",
       "      <td>45.000000</td>\n",
       "      <td>45.0000</td>\n",
       "    </tr>\n",
       "    <tr>\n",
       "      <th>max</th>\n",
       "      <td>4.568679e+06</td>\n",
       "      <td>0.491772</td>\n",
       "      <td>167622.243750</td>\n",
       "      <td>60.000000</td>\n",
       "      <td>3.352445e+06</td>\n",
       "      <td>2.979951e+06</td>\n",
       "      <td>20.000000</td>\n",
       "      <td>18.000000</td>\n",
       "      <td>2017.000000</td>\n",
       "      <td>4.900000e+06</td>\n",
       "      <td>0.591772</td>\n",
       "      <td>6.000000</td>\n",
       "      <td>4.000000</td>\n",
       "      <td>60.000000</td>\n",
       "      <td>60.0000</td>\n",
       "    </tr>\n",
       "  </tbody>\n",
       "</table>\n",
       "</div>"
      ],
      "text/plain": [
       "       offered_salary  percentage_hike_offered_ctc  joining_bonus_amount  \\\n",
       "count    2.000000e+02                   200.000000            200.000000   \n",
       "mean     2.346565e+06                     0.270672          92967.280031   \n",
       "std      1.095181e+06                     0.087131          43718.606470   \n",
       "min      4.609491e+05                     0.109940          18048.881250   \n",
       "25%      1.396196e+06                     0.194058          52955.339063   \n",
       "50%      2.414243e+06                     0.275515          96949.490625   \n",
       "75%      3.317921e+06                     0.340090         133375.598438   \n",
       "max      4.568679e+06                     0.491772         167622.243750   \n",
       "\n",
       "       notice_period   current_ctc  current_gross_salary  total_experience  \\\n",
       "count     200.000000  2.000000e+02          2.000000e+02        200.000000   \n",
       "mean       31.275000  1.859346e+06          1.652752e+06         12.280000   \n",
       "std        22.038098  8.743721e+05          7.772197e+05          5.242041   \n",
       "min         0.000000  3.609776e+05          3.208690e+05          3.000000   \n",
       "25%        15.000000  1.059107e+06          9.414282e+05          7.750000   \n",
       "50%        30.000000  1.938990e+06          1.723546e+06         12.000000   \n",
       "75%        45.000000  2.667512e+06          2.371122e+06         17.000000   \n",
       "max        60.000000  3.352445e+06          2.979951e+06         20.000000   \n",
       "\n",
       "       relevant_experience  year_of_graduation  expected_ctc  \\\n",
       "count           200.000000          200.000000  2.000000e+02   \n",
       "mean             11.052000         2007.720000  2.532500e+06   \n",
       "std               4.717837            5.242041  1.181556e+06   \n",
       "min               2.700000         2000.000000  5.000000e+05   \n",
       "25%               6.975000         2003.000000  1.500000e+06   \n",
       "50%              10.800000         2008.000000  2.600000e+06   \n",
       "75%              15.300000         2012.250000  3.600000e+06   \n",
       "max              18.000000         2017.000000  4.900000e+06   \n",
       "\n",
       "       percentage_hike_expected_ctc  number_of_precious_jobs  \\\n",
       "count                    200.000000               200.000000   \n",
       "mean                       0.370672                 3.575000   \n",
       "std                        0.087131                 1.728965   \n",
       "min                        0.209940                 1.000000   \n",
       "25%                        0.294058                 2.000000   \n",
       "50%                        0.375515                 4.000000   \n",
       "75%                        0.440090                 5.000000   \n",
       "max                        0.591772                 6.000000   \n",
       "\n",
       "       interview_rounds  first_interview_duration  last_interaction_duration  \n",
       "count        200.000000                200.000000                   200.0000  \n",
       "mean           2.485000                 35.700000                    35.1250  \n",
       "std            1.125214                 14.397794                    14.7631  \n",
       "min            1.000000                 15.000000                    15.0000  \n",
       "25%            1.000000                 25.000000                    25.0000  \n",
       "50%            3.000000                 40.000000                    30.0000  \n",
       "75%            3.000000                 45.000000                    45.0000  \n",
       "max            4.000000                 60.000000                    60.0000  "
      ]
     },
     "execution_count": 20,
     "metadata": {},
     "output_type": "execute_result"
    }
   ],
   "source": [
    "data.describe()"
   ]
  },
  {
   "cell_type": "code",
   "execution_count": 21,
   "metadata": {},
   "outputs": [],
   "source": [
    "#https://pbpython.com/pandas_dtypes.html\n",
    "#https://thispointer.com/pandas-get-unique-values-in-single-or-multiple-columns-of-a-dataframe-in-python/\n"
   ]
  },
  {
   "cell_type": "code",
   "execution_count": 22,
   "metadata": {},
   "outputs": [
    {
     "name": "stdout",
     "output_type": "stream",
     "text": [
      "Count Unique values in each column including NaN\n",
      "candidate_id                    201\n",
      "data_of_application             117\n",
      "date_of_interview               131\n",
      "date_of_job_offer               131\n",
      "date_of_offer_extension         131\n",
      "date_of_joining                 142\n",
      "offered_band                      8\n",
      "offered_salary                  201\n",
      "percentage_hike_offered_ctc     201\n",
      "joining_bonus_amount            201\n",
      "lob                               4\n",
      "joining_location                  6\n",
      "candidate_relocation_status       3\n",
      "acceptance_status                 3\n",
      "notice_period                     6\n",
      "current_ctc                     201\n",
      "current_gross_salary            201\n",
      "current_organization             16\n",
      "highest_educational_degree        4\n",
      "total_experience                 19\n",
      "relevant_experience              19\n",
      "year_of_graduation               19\n",
      "expected_ctc                     45\n",
      "percentage_hike_expected_ctc    201\n",
      "gender                            3\n",
      "candidate_source                  4\n",
      "dob                             200\n",
      "location                         11\n",
      "number_of_precious_jobs           7\n",
      "written_test_date               122\n",
      "interview_rounds                  5\n",
      "date_of_first_interview         122\n",
      "date_of_last_interview          131\n",
      "interview_types                   4\n",
      "interview_types2                  4\n",
      "first_interview_duration          8\n",
      "last_interaction_duration         8\n",
      "dtype: int64\n"
     ]
    }
   ],
   "source": [
    "uniqueValues = data.nunique(dropna=False)\n",
    "print(\"Count Unique values in each column including NaN\")\n",
    "print(uniqueValues)"
   ]
  },
  {
   "cell_type": "code",
   "execution_count": 23,
   "metadata": {},
   "outputs": [
    {
     "name": "stdout",
     "output_type": "stream",
     "text": [
      "currently examining column **** candidate_id  ********\n",
      "['C1' 'C2' 'C3' 'C4' 'C5' 'C6' 'C7' 'C8' 'C9' 'C10' 'C11' 'C12' 'C13'\n",
      " 'C14' 'C15' 'C16' 'C17' 'C18' 'C19' 'C20' 'C21' 'C22' 'C23' 'C24' 'C25'\n",
      " 'C26' 'C27' 'C28' 'C29' 'C30' 'C31' 'C32' 'C33' 'C34' 'C35' 'C36' 'C37'\n",
      " 'C38' 'C39' 'C40' 'C41' 'C42' 'C43' 'C44' 'C45' 'C46' 'C47' 'C48' 'C49'\n",
      " 'C50' 'C51' 'C52' 'C53' 'C54' 'C55' 'C56' 'C57' 'C58' 'C59' 'C60' 'C61'\n",
      " 'C62' 'C63' 'C64' 'C65' 'C66' 'C67' 'C68' 'C69' 'C70' 'C71' 'C72' 'C73'\n",
      " 'C74' 'C75' 'C76' 'C77' 'C78' 'C79' 'C80' 'C81' 'C82' 'C83' 'C84' 'C85'\n",
      " 'C86' 'C87' 'C88' 'C89' 'C90' 'C91' 'C92' 'C93' 'C94' 'C95' 'C96' 'C97'\n",
      " 'C98' 'C99' 'C100' 'C101' 'C102' 'C103' 'C104' 'C105' 'C106' 'C107'\n",
      " 'C108' 'C109' 'C110' 'C111' 'C112' 'C113' 'C114' 'C115' 'C116' 'C117'\n",
      " 'C118' 'C119' 'C120' 'C121' 'C122' 'C123' 'C124' 'C125' 'C126' 'C127'\n",
      " 'C128' 'C129' 'C130' 'C131' 'C132' 'C133' 'C134' 'C135' 'C136' 'C137'\n",
      " 'C138' 'C139' 'C140' 'C141' 'C142' 'C143' 'C144' 'C145' 'C146' 'C147'\n",
      " 'C148' 'C149' 'C150' 'C151' 'C152' 'C153' 'C154' 'C155' 'C156' 'C157'\n",
      " 'C158' 'C159' 'C160' 'C161' 'C162' 'C163' 'C164' 'C165' 'C166' 'C167'\n",
      " 'C168' 'C169' 'C170' 'C171' 'C172' 'C173' 'C174' 'C175' 'C176' 'C177'\n",
      " 'C178' 'C179' 'C180' 'C181' 'C182' 'C183' 'C184' 'C185' 'C186' 'C187'\n",
      " 'C188' 'C189' 'C190' 'C191' 'C192' 'C193' 'C194' 'C195' 'C196' 'C197'\n",
      " 'C198' 'C199' 'C200' nan]\n",
      "currently examining column **** data_of_application  ********\n",
      "['2019-08-28T00:00:00.000000000' '2019-11-28T00:00:00.000000000'\n",
      " '2019-08-11T00:00:00.000000000' '2019-08-18T00:00:00.000000000'\n",
      " '2019-09-06T00:00:00.000000000' '2019-10-08T00:00:00.000000000'\n",
      " '2019-07-31T00:00:00.000000000' '2019-09-13T00:00:00.000000000'\n",
      " '2019-12-24T00:00:00.000000000' '2019-10-03T00:00:00.000000000'\n",
      " '2019-07-02T00:00:00.000000000' '2019-10-12T00:00:00.000000000'\n",
      " '2019-10-05T00:00:00.000000000' '2019-08-01T00:00:00.000000000'\n",
      " '2019-11-12T00:00:00.000000000' '2019-08-06T00:00:00.000000000'\n",
      " '2019-10-06T00:00:00.000000000' '2019-12-28T00:00:00.000000000'\n",
      " '2019-09-27T00:00:00.000000000' '2019-08-04T00:00:00.000000000'\n",
      " '2019-09-23T00:00:00.000000000' '2019-10-24T00:00:00.000000000'\n",
      " '2019-08-17T00:00:00.000000000' '2019-07-04T00:00:00.000000000'\n",
      " '2019-07-08T00:00:00.000000000' '2019-10-30T00:00:00.000000000'\n",
      " '2019-09-17T00:00:00.000000000' '2019-11-21T00:00:00.000000000'\n",
      " '2019-11-27T00:00:00.000000000' '2019-07-20T00:00:00.000000000'\n",
      " '2019-08-25T00:00:00.000000000' '2019-09-16T00:00:00.000000000'\n",
      " '2019-10-04T00:00:00.000000000' '2019-08-19T00:00:00.000000000'\n",
      " '2019-12-27T00:00:00.000000000' '2019-11-01T00:00:00.000000000'\n",
      " '2019-09-26T00:00:00.000000000' '2019-07-16T00:00:00.000000000'\n",
      " '2019-10-11T00:00:00.000000000' '2019-08-23T00:00:00.000000000'\n",
      " '2019-07-13T00:00:00.000000000' '2019-11-20T00:00:00.000000000'\n",
      " '2019-12-21T00:00:00.000000000' '2019-08-26T00:00:00.000000000'\n",
      " '2019-10-01T00:00:00.000000000' '2019-08-21T00:00:00.000000000'\n",
      " '2019-08-14T00:00:00.000000000' '2019-10-02T00:00:00.000000000'\n",
      " '2019-07-11T00:00:00.000000000' '2019-09-22T00:00:00.000000000'\n",
      " '2019-10-19T00:00:00.000000000' '2019-07-18T00:00:00.000000000'\n",
      " '2019-11-11T00:00:00.000000000' '2019-09-20T00:00:00.000000000'\n",
      " '2019-08-24T00:00:00.000000000' '2019-07-15T00:00:00.000000000'\n",
      " '2019-11-13T00:00:00.000000000' '2019-11-30T00:00:00.000000000'\n",
      " '2019-09-07T00:00:00.000000000' '2019-11-24T00:00:00.000000000'\n",
      " '2019-12-19T00:00:00.000000000' '2019-12-17T00:00:00.000000000'\n",
      " '2019-09-01T00:00:00.000000000' '2019-12-23T00:00:00.000000000'\n",
      " '2019-07-10T00:00:00.000000000' '2019-08-20T00:00:00.000000000'\n",
      " '2019-12-08T00:00:00.000000000' '2019-12-29T00:00:00.000000000'\n",
      " '2019-07-07T00:00:00.000000000' '2019-11-06T00:00:00.000000000'\n",
      " '2019-07-27T00:00:00.000000000' '2019-09-25T00:00:00.000000000'\n",
      " '2019-09-21T00:00:00.000000000' '2019-12-15T00:00:00.000000000'\n",
      " '2019-10-14T00:00:00.000000000' '2019-10-23T00:00:00.000000000'\n",
      " '2019-12-07T00:00:00.000000000' '2019-12-02T00:00:00.000000000'\n",
      " '2019-12-25T00:00:00.000000000' '2019-09-29T00:00:00.000000000'\n",
      " '2019-12-01T00:00:00.000000000' '2019-08-12T00:00:00.000000000'\n",
      " '2019-10-26T00:00:00.000000000' '2019-11-23T00:00:00.000000000'\n",
      " '2019-08-22T00:00:00.000000000' '2019-07-30T00:00:00.000000000'\n",
      " '2019-10-21T00:00:00.000000000' '2019-08-09T00:00:00.000000000'\n",
      " '2019-10-18T00:00:00.000000000' '2019-12-10T00:00:00.000000000'\n",
      " '2019-10-17T00:00:00.000000000' '2019-07-12T00:00:00.000000000'\n",
      " '2019-11-22T00:00:00.000000000' '2019-08-02T00:00:00.000000000'\n",
      " '2019-12-26T00:00:00.000000000' '2019-11-25T00:00:00.000000000'\n",
      " '2019-08-27T00:00:00.000000000' '2019-07-06T00:00:00.000000000'\n",
      " '2019-09-11T00:00:00.000000000' '2019-10-07T00:00:00.000000000'\n",
      " '2019-12-04T00:00:00.000000000' '2019-09-19T00:00:00.000000000'\n",
      " '2019-12-31T00:00:00.000000000' '2019-12-12T00:00:00.000000000'\n",
      " '2019-10-09T00:00:00.000000000' '2019-11-16T00:00:00.000000000'\n",
      " '2019-09-12T00:00:00.000000000' '2019-10-22T00:00:00.000000000'\n",
      " '2019-11-29T00:00:00.000000000' '2019-09-03T00:00:00.000000000'\n",
      " '2019-12-16T00:00:00.000000000' '2019-09-05T00:00:00.000000000'\n",
      " '2019-12-06T00:00:00.000000000' '2019-11-10T00:00:00.000000000'\n",
      " '2019-11-19T00:00:00.000000000' '2019-10-29T00:00:00.000000000'\n",
      "                           'NaT']\n",
      "currently examining column **** date_of_interview  ********\n",
      "['2020-06-12T00:00:00.000000000' '2020-06-08T00:00:00.000000000'\n",
      " '2020-05-26T00:00:00.000000000' '2020-05-15T00:00:00.000000000'\n",
      " '2020-01-25T00:00:00.000000000' '2020-02-27T00:00:00.000000000'\n",
      " '2020-04-29T00:00:00.000000000' '2020-03-31T00:00:00.000000000'\n",
      " '2020-06-26T00:00:00.000000000' '2020-04-04T00:00:00.000000000'\n",
      " '2020-05-03T00:00:00.000000000' '2020-05-27T00:00:00.000000000'\n",
      " '2020-01-13T00:00:00.000000000' '2020-02-29T00:00:00.000000000'\n",
      " '2020-02-08T00:00:00.000000000' '2020-04-10T00:00:00.000000000'\n",
      " '2020-07-06T00:00:00.000000000' '2020-05-12T00:00:00.000000000'\n",
      " '2020-05-11T00:00:00.000000000' '2020-06-09T00:00:00.000000000'\n",
      " '2020-03-04T00:00:00.000000000' '2020-03-01T00:00:00.000000000'\n",
      " '2020-02-06T00:00:00.000000000' '2020-05-09T00:00:00.000000000'\n",
      " '2020-02-16T00:00:00.000000000' '2020-03-27T00:00:00.000000000'\n",
      " '2020-05-25T00:00:00.000000000' '2020-02-21T00:00:00.000000000'\n",
      " '2020-07-09T00:00:00.000000000' '2020-04-12T00:00:00.000000000'\n",
      " '2020-04-09T00:00:00.000000000' '2020-05-30T00:00:00.000000000'\n",
      " '2020-02-02T00:00:00.000000000' '2020-01-31T00:00:00.000000000'\n",
      " '2020-01-08T00:00:00.000000000' '2020-05-18T00:00:00.000000000'\n",
      " '2020-05-29T00:00:00.000000000' '2020-02-11T00:00:00.000000000'\n",
      " '2020-01-15T00:00:00.000000000' '2020-01-26T00:00:00.000000000'\n",
      " '2020-06-05T00:00:00.000000000' '2020-07-02T00:00:00.000000000'\n",
      " '2020-02-01T00:00:00.000000000' '2020-06-17T00:00:00.000000000'\n",
      " '2020-01-28T00:00:00.000000000' '2020-04-05T00:00:00.000000000'\n",
      " '2020-02-24T00:00:00.000000000' '2020-04-14T00:00:00.000000000'\n",
      " '2020-04-18T00:00:00.000000000' '2020-03-24T00:00:00.000000000'\n",
      " '2020-05-20T00:00:00.000000000' '2020-03-03T00:00:00.000000000'\n",
      " '2020-04-23T00:00:00.000000000' '2020-06-29T00:00:00.000000000'\n",
      " '2020-05-13T00:00:00.000000000' '2020-06-18T00:00:00.000000000'\n",
      " '2020-06-11T00:00:00.000000000' '2020-02-09T00:00:00.000000000'\n",
      " '2020-03-06T00:00:00.000000000' '2020-01-20T00:00:00.000000000'\n",
      " '2020-01-22T00:00:00.000000000' '2020-04-02T00:00:00.000000000'\n",
      " '2020-07-08T00:00:00.000000000' '2020-02-14T00:00:00.000000000'\n",
      " '2020-04-21T00:00:00.000000000' '2020-06-30T00:00:00.000000000'\n",
      " '2020-07-01T00:00:00.000000000' '2020-06-13T00:00:00.000000000'\n",
      " '2020-03-16T00:00:00.000000000' '2020-02-07T00:00:00.000000000'\n",
      " '2020-06-19T00:00:00.000000000' '2020-02-25T00:00:00.000000000'\n",
      " '2020-02-28T00:00:00.000000000' '2020-03-15T00:00:00.000000000'\n",
      " '2020-03-10T00:00:00.000000000' '2020-05-23T00:00:00.000000000'\n",
      " '2020-07-07T00:00:00.000000000' '2020-06-02T00:00:00.000000000'\n",
      " '2020-03-22T00:00:00.000000000' '2020-04-11T00:00:00.000000000'\n",
      " '2020-03-05T00:00:00.000000000' '2020-01-19T00:00:00.000000000'\n",
      " '2020-03-23T00:00:00.000000000' '2020-04-19T00:00:00.000000000'\n",
      " '2020-05-06T00:00:00.000000000' '2020-01-14T00:00:00.000000000'\n",
      " '2020-05-02T00:00:00.000000000' '2020-03-13T00:00:00.000000000'\n",
      " '2020-03-30T00:00:00.000000000' '2020-06-22T00:00:00.000000000'\n",
      " '2020-02-10T00:00:00.000000000' '2020-01-21T00:00:00.000000000'\n",
      " '2020-03-18T00:00:00.000000000' '2020-05-16T00:00:00.000000000'\n",
      " '2020-03-08T00:00:00.000000000' '2020-01-16T00:00:00.000000000'\n",
      " '2020-04-08T00:00:00.000000000' '2020-06-16T00:00:00.000000000'\n",
      " '2020-06-20T00:00:00.000000000' '2020-01-10T00:00:00.000000000'\n",
      " '2020-05-19T00:00:00.000000000' '2020-03-29T00:00:00.000000000'\n",
      " '2020-05-24T00:00:00.000000000' '2020-01-27T00:00:00.000000000'\n",
      " '2020-05-17T00:00:00.000000000' '2020-06-04T00:00:00.000000000'\n",
      " '2020-03-21T00:00:00.000000000' '2020-03-28T00:00:00.000000000'\n",
      " '2020-06-21T00:00:00.000000000' '2020-03-19T00:00:00.000000000'\n",
      " '2020-04-07T00:00:00.000000000' '2020-03-12T00:00:00.000000000'\n",
      " '2020-02-13T00:00:00.000000000' '2020-02-20T00:00:00.000000000'\n",
      " '2020-06-25T00:00:00.000000000' '2020-06-07T00:00:00.000000000'\n",
      " '2020-05-31T00:00:00.000000000' '2020-05-04T00:00:00.000000000'\n",
      " '2020-02-12T00:00:00.000000000' '2020-06-28T00:00:00.000000000'\n",
      " '2020-02-17T00:00:00.000000000' '2020-01-24T00:00:00.000000000'\n",
      " '2020-06-15T00:00:00.000000000' '2020-06-23T00:00:00.000000000'\n",
      " '2020-05-22T00:00:00.000000000' '2020-01-09T00:00:00.000000000'\n",
      " '2020-02-26T00:00:00.000000000' '2020-01-23T00:00:00.000000000'\n",
      " '2020-06-24T00:00:00.000000000' '2020-01-29T00:00:00.000000000'\n",
      "                           'NaT']\n",
      "currently examining column **** date_of_job_offer  ********\n",
      "['2020-06-22T00:00:00.000000000' '2020-06-18T00:00:00.000000000'\n",
      " '2020-06-05T00:00:00.000000000' '2020-05-25T00:00:00.000000000'\n",
      " '2020-02-04T00:00:00.000000000' '2020-03-08T00:00:00.000000000'\n",
      " '2020-05-09T00:00:00.000000000' '2020-04-10T00:00:00.000000000'\n",
      " '2020-07-06T00:00:00.000000000' '2020-04-14T00:00:00.000000000'\n",
      " '2020-05-13T00:00:00.000000000' '2020-06-06T00:00:00.000000000'\n",
      " '2020-01-23T00:00:00.000000000' '2020-03-10T00:00:00.000000000'\n",
      " '2020-02-18T00:00:00.000000000' '2020-04-20T00:00:00.000000000'\n",
      " '2020-07-16T00:00:00.000000000' '2020-05-22T00:00:00.000000000'\n",
      " '2020-05-21T00:00:00.000000000' '2020-06-19T00:00:00.000000000'\n",
      " '2020-03-14T00:00:00.000000000' '2020-03-11T00:00:00.000000000'\n",
      " '2020-02-16T00:00:00.000000000' '2020-05-19T00:00:00.000000000'\n",
      " '2020-02-26T00:00:00.000000000' '2020-04-06T00:00:00.000000000'\n",
      " '2020-06-04T00:00:00.000000000' '2020-03-02T00:00:00.000000000'\n",
      " '2020-07-19T00:00:00.000000000' '2020-04-22T00:00:00.000000000'\n",
      " '2020-04-19T00:00:00.000000000' '2020-06-09T00:00:00.000000000'\n",
      " '2020-02-12T00:00:00.000000000' '2020-02-10T00:00:00.000000000'\n",
      " '2020-01-18T00:00:00.000000000' '2020-05-28T00:00:00.000000000'\n",
      " '2020-06-08T00:00:00.000000000' '2020-02-21T00:00:00.000000000'\n",
      " '2020-01-25T00:00:00.000000000' '2020-02-05T00:00:00.000000000'\n",
      " '2020-06-15T00:00:00.000000000' '2020-07-12T00:00:00.000000000'\n",
      " '2020-02-11T00:00:00.000000000' '2020-06-27T00:00:00.000000000'\n",
      " '2020-02-07T00:00:00.000000000' '2020-04-15T00:00:00.000000000'\n",
      " '2020-03-05T00:00:00.000000000' '2020-04-24T00:00:00.000000000'\n",
      " '2020-04-28T00:00:00.000000000' '2020-04-03T00:00:00.000000000'\n",
      " '2020-05-30T00:00:00.000000000' '2020-03-13T00:00:00.000000000'\n",
      " '2020-05-03T00:00:00.000000000' '2020-07-09T00:00:00.000000000'\n",
      " '2020-05-23T00:00:00.000000000' '2020-06-28T00:00:00.000000000'\n",
      " '2020-06-21T00:00:00.000000000' '2020-02-19T00:00:00.000000000'\n",
      " '2020-03-16T00:00:00.000000000' '2020-01-30T00:00:00.000000000'\n",
      " '2020-02-01T00:00:00.000000000' '2020-04-12T00:00:00.000000000'\n",
      " '2020-07-18T00:00:00.000000000' '2020-02-24T00:00:00.000000000'\n",
      " '2020-05-01T00:00:00.000000000' '2020-07-10T00:00:00.000000000'\n",
      " '2020-07-11T00:00:00.000000000' '2020-06-23T00:00:00.000000000'\n",
      " '2020-03-26T00:00:00.000000000' '2020-02-17T00:00:00.000000000'\n",
      " '2020-06-29T00:00:00.000000000' '2020-03-06T00:00:00.000000000'\n",
      " '2020-03-09T00:00:00.000000000' '2020-03-25T00:00:00.000000000'\n",
      " '2020-03-20T00:00:00.000000000' '2020-06-02T00:00:00.000000000'\n",
      " '2020-07-17T00:00:00.000000000' '2020-06-12T00:00:00.000000000'\n",
      " '2020-04-01T00:00:00.000000000' '2020-04-21T00:00:00.000000000'\n",
      " '2020-03-15T00:00:00.000000000' '2020-01-29T00:00:00.000000000'\n",
      " '2020-04-02T00:00:00.000000000' '2020-04-29T00:00:00.000000000'\n",
      " '2020-05-16T00:00:00.000000000' '2020-01-24T00:00:00.000000000'\n",
      " '2020-05-12T00:00:00.000000000' '2020-03-23T00:00:00.000000000'\n",
      " '2020-04-09T00:00:00.000000000' '2020-07-02T00:00:00.000000000'\n",
      " '2020-02-20T00:00:00.000000000' '2020-01-31T00:00:00.000000000'\n",
      " '2020-03-28T00:00:00.000000000' '2020-05-26T00:00:00.000000000'\n",
      " '2020-03-18T00:00:00.000000000' '2020-01-26T00:00:00.000000000'\n",
      " '2020-04-18T00:00:00.000000000' '2020-06-26T00:00:00.000000000'\n",
      " '2020-06-30T00:00:00.000000000' '2020-01-20T00:00:00.000000000'\n",
      " '2020-05-29T00:00:00.000000000' '2020-04-08T00:00:00.000000000'\n",
      " '2020-06-03T00:00:00.000000000' '2020-02-06T00:00:00.000000000'\n",
      " '2020-05-27T00:00:00.000000000' '2020-06-14T00:00:00.000000000'\n",
      " '2020-03-31T00:00:00.000000000' '2020-04-07T00:00:00.000000000'\n",
      " '2020-07-01T00:00:00.000000000' '2020-03-29T00:00:00.000000000'\n",
      " '2020-04-17T00:00:00.000000000' '2020-03-22T00:00:00.000000000'\n",
      " '2020-02-23T00:00:00.000000000' '2020-03-01T00:00:00.000000000'\n",
      " '2020-07-05T00:00:00.000000000' '2020-06-17T00:00:00.000000000'\n",
      " '2020-06-10T00:00:00.000000000' '2020-05-14T00:00:00.000000000'\n",
      " '2020-02-22T00:00:00.000000000' '2020-07-08T00:00:00.000000000'\n",
      " '2020-02-27T00:00:00.000000000' '2020-02-03T00:00:00.000000000'\n",
      " '2020-06-25T00:00:00.000000000' '2020-07-03T00:00:00.000000000'\n",
      " '2020-06-01T00:00:00.000000000' '2020-01-19T00:00:00.000000000'\n",
      " '2020-03-07T00:00:00.000000000' '2020-02-02T00:00:00.000000000'\n",
      " '2020-07-04T00:00:00.000000000' '2020-02-08T00:00:00.000000000'\n",
      "                           'NaT']\n",
      "currently examining column **** date_of_offer_extension  ********\n",
      "['2020-06-29T00:00:00.000000000' '2020-06-25T00:00:00.000000000'\n",
      " '2020-06-12T00:00:00.000000000' '2020-06-01T00:00:00.000000000'\n",
      " '2020-02-11T00:00:00.000000000' '2020-03-15T00:00:00.000000000'\n",
      " '2020-05-16T00:00:00.000000000' '2020-04-17T00:00:00.000000000'\n",
      " '2020-07-13T00:00:00.000000000' '2020-04-21T00:00:00.000000000'\n",
      " '2020-05-20T00:00:00.000000000' '2020-06-13T00:00:00.000000000'\n",
      " '2020-01-30T00:00:00.000000000' '2020-03-17T00:00:00.000000000'\n",
      " '2020-02-25T00:00:00.000000000' '2020-04-27T00:00:00.000000000'\n",
      " '2020-07-23T00:00:00.000000000' '2020-05-29T00:00:00.000000000'\n",
      " '2020-05-28T00:00:00.000000000' '2020-06-26T00:00:00.000000000'\n",
      " '2020-03-21T00:00:00.000000000' '2020-03-18T00:00:00.000000000'\n",
      " '2020-02-23T00:00:00.000000000' '2020-05-26T00:00:00.000000000'\n",
      " '2020-03-04T00:00:00.000000000' '2020-04-13T00:00:00.000000000'\n",
      " '2020-06-11T00:00:00.000000000' '2020-03-09T00:00:00.000000000'\n",
      " '2020-07-26T00:00:00.000000000' '2020-04-29T00:00:00.000000000'\n",
      " '2020-04-26T00:00:00.000000000' '2020-06-16T00:00:00.000000000'\n",
      " '2020-02-19T00:00:00.000000000' '2020-02-17T00:00:00.000000000'\n",
      " '2020-01-25T00:00:00.000000000' '2020-06-04T00:00:00.000000000'\n",
      " '2020-06-15T00:00:00.000000000' '2020-02-28T00:00:00.000000000'\n",
      " '2020-02-01T00:00:00.000000000' '2020-02-12T00:00:00.000000000'\n",
      " '2020-06-22T00:00:00.000000000' '2020-07-19T00:00:00.000000000'\n",
      " '2020-02-18T00:00:00.000000000' '2020-07-04T00:00:00.000000000'\n",
      " '2020-02-14T00:00:00.000000000' '2020-04-22T00:00:00.000000000'\n",
      " '2020-03-12T00:00:00.000000000' '2020-05-01T00:00:00.000000000'\n",
      " '2020-05-05T00:00:00.000000000' '2020-04-10T00:00:00.000000000'\n",
      " '2020-06-06T00:00:00.000000000' '2020-03-20T00:00:00.000000000'\n",
      " '2020-05-10T00:00:00.000000000' '2020-07-16T00:00:00.000000000'\n",
      " '2020-05-30T00:00:00.000000000' '2020-07-05T00:00:00.000000000'\n",
      " '2020-06-28T00:00:00.000000000' '2020-02-26T00:00:00.000000000'\n",
      " '2020-03-23T00:00:00.000000000' '2020-02-06T00:00:00.000000000'\n",
      " '2020-02-08T00:00:00.000000000' '2020-04-19T00:00:00.000000000'\n",
      " '2020-07-25T00:00:00.000000000' '2020-03-02T00:00:00.000000000'\n",
      " '2020-05-08T00:00:00.000000000' '2020-07-17T00:00:00.000000000'\n",
      " '2020-07-18T00:00:00.000000000' '2020-06-30T00:00:00.000000000'\n",
      " '2020-04-02T00:00:00.000000000' '2020-02-24T00:00:00.000000000'\n",
      " '2020-07-06T00:00:00.000000000' '2020-03-13T00:00:00.000000000'\n",
      " '2020-03-16T00:00:00.000000000' '2020-04-01T00:00:00.000000000'\n",
      " '2020-03-27T00:00:00.000000000' '2020-06-09T00:00:00.000000000'\n",
      " '2020-07-24T00:00:00.000000000' '2020-06-19T00:00:00.000000000'\n",
      " '2020-04-08T00:00:00.000000000' '2020-04-28T00:00:00.000000000'\n",
      " '2020-03-22T00:00:00.000000000' '2020-02-05T00:00:00.000000000'\n",
      " '2020-04-09T00:00:00.000000000' '2020-05-06T00:00:00.000000000'\n",
      " '2020-05-23T00:00:00.000000000' '2020-01-31T00:00:00.000000000'\n",
      " '2020-05-19T00:00:00.000000000' '2020-03-30T00:00:00.000000000'\n",
      " '2020-04-16T00:00:00.000000000' '2020-07-09T00:00:00.000000000'\n",
      " '2020-02-27T00:00:00.000000000' '2020-02-07T00:00:00.000000000'\n",
      " '2020-04-04T00:00:00.000000000' '2020-06-02T00:00:00.000000000'\n",
      " '2020-03-25T00:00:00.000000000' '2020-02-02T00:00:00.000000000'\n",
      " '2020-04-25T00:00:00.000000000' '2020-07-03T00:00:00.000000000'\n",
      " '2020-07-07T00:00:00.000000000' '2020-01-27T00:00:00.000000000'\n",
      " '2020-06-05T00:00:00.000000000' '2020-04-15T00:00:00.000000000'\n",
      " '2020-06-10T00:00:00.000000000' '2020-02-13T00:00:00.000000000'\n",
      " '2020-06-03T00:00:00.000000000' '2020-06-21T00:00:00.000000000'\n",
      " '2020-04-07T00:00:00.000000000' '2020-04-14T00:00:00.000000000'\n",
      " '2020-07-08T00:00:00.000000000' '2020-04-05T00:00:00.000000000'\n",
      " '2020-04-24T00:00:00.000000000' '2020-03-29T00:00:00.000000000'\n",
      " '2020-03-01T00:00:00.000000000' '2020-03-08T00:00:00.000000000'\n",
      " '2020-07-12T00:00:00.000000000' '2020-06-24T00:00:00.000000000'\n",
      " '2020-06-17T00:00:00.000000000' '2020-05-21T00:00:00.000000000'\n",
      " '2020-02-29T00:00:00.000000000' '2020-07-15T00:00:00.000000000'\n",
      " '2020-03-05T00:00:00.000000000' '2020-02-10T00:00:00.000000000'\n",
      " '2020-07-02T00:00:00.000000000' '2020-07-10T00:00:00.000000000'\n",
      " '2020-06-08T00:00:00.000000000' '2020-01-26T00:00:00.000000000'\n",
      " '2020-03-14T00:00:00.000000000' '2020-02-09T00:00:00.000000000'\n",
      " '2020-07-11T00:00:00.000000000' '2020-02-15T00:00:00.000000000'\n",
      "                           'NaT']\n",
      "currently examining column **** date_of_joining  ********\n",
      "['2020-07-14T00:00:00.000000000' '2020-07-10T00:00:00.000000000'\n",
      " '2020-07-12T00:00:00.000000000' '2020-07-31T00:00:00.000000000'\n",
      " '2020-02-26T00:00:00.000000000' '2020-04-14T00:00:00.000000000'\n",
      " '2020-06-30T00:00:00.000000000' '2020-06-16T00:00:00.000000000'\n",
      " '2020-08-12T00:00:00.000000000' '2020-05-06T00:00:00.000000000'\n",
      " '2020-07-19T00:00:00.000000000' '2020-07-28T00:00:00.000000000'\n",
      " '2020-02-14T00:00:00.000000000' '2020-05-01T00:00:00.000000000'\n",
      " '2020-03-11T00:00:00.000000000' '2020-06-11T00:00:00.000000000'\n",
      " '2020-09-21T00:00:00.000000000' '2020-06-13T00:00:00.000000000'\n",
      " '2020-06-12T00:00:00.000000000' '2020-08-25T00:00:00.000000000'\n",
      " '2020-05-20T00:00:00.000000000' '2020-04-02T00:00:00.000000000'\n",
      " '2020-04-08T00:00:00.000000000' '2020-07-25T00:00:00.000000000'\n",
      " '2020-04-18T00:00:00.000000000' '2020-04-23T00:00:00.000000000'\n",
      " '2020-08-22T00:00:00.000000000' '2020-05-13T00:00:00.000000000'\n",
      " '2020-07-26T00:00:00.000000000' '2020-03-24T00:00:00.000000000'\n",
      " '2020-09-24T00:00:00.000000000' '2020-05-14T00:00:00.000000000'\n",
      " '2020-06-10T00:00:00.000000000' '2020-07-16T00:00:00.000000000'\n",
      " '2020-04-04T00:00:00.000000000' '2020-08-15T00:00:00.000000000'\n",
      " '2020-03-18T00:00:00.000000000' '2020-02-09T00:00:00.000000000'\n",
      " '2020-07-04T00:00:00.000000000' '2020-08-14T00:00:00.000000000'\n",
      " '2020-04-28T00:00:00.000000000' '2020-03-02T00:00:00.000000000'\n",
      " '2020-02-27T00:00:00.000000000' '2020-07-07T00:00:00.000000000'\n",
      " '2020-08-03T00:00:00.000000000' '2020-04-03T00:00:00.000000000'\n",
      " '2020-08-18T00:00:00.000000000' '2020-03-30T00:00:00.000000000'\n",
      " '2020-06-06T00:00:00.000000000' '2020-04-26T00:00:00.000000000'\n",
      " '2020-05-16T00:00:00.000000000' '2020-06-19T00:00:00.000000000'\n",
      " '2020-05-25T00:00:00.000000000' '2020-06-21T00:00:00.000000000'\n",
      " '2020-05-19T00:00:00.000000000' '2020-08-28T00:00:00.000000000'\n",
      " '2020-06-14T00:00:00.000000000' '2020-07-15T00:00:00.000000000'\n",
      " '2020-08-04T00:00:00.000000000' '2020-08-27T00:00:00.000000000'\n",
      " '2020-05-22T00:00:00.000000000' '2020-02-21T00:00:00.000000000'\n",
      " '2020-02-23T00:00:00.000000000' '2020-03-05T00:00:00.000000000'\n",
      " '2020-05-04T00:00:00.000000000' '2020-09-23T00:00:00.000000000'\n",
      " '2020-03-17T00:00:00.000000000' '2020-06-22T00:00:00.000000000'\n",
      " '2020-08-31T00:00:00.000000000' '2020-09-16T00:00:00.000000000'\n",
      " '2020-08-29T00:00:00.000000000' '2020-05-02T00:00:00.000000000'\n",
      " '2020-04-09T00:00:00.000000000' '2020-08-20T00:00:00.000000000'\n",
      " '2020-05-12T00:00:00.000000000' '2020-03-31T00:00:00.000000000'\n",
      " '2020-08-05T00:00:00.000000000' '2020-04-11T00:00:00.000000000'\n",
      " '2020-07-24T00:00:00.000000000' '2020-08-08T00:00:00.000000000'\n",
      " '2020-08-16T00:00:00.000000000' '2020-05-28T00:00:00.000000000'\n",
      " '2020-04-06T00:00:00.000000000' '2020-09-01T00:00:00.000000000'\n",
      " '2020-03-21T00:00:00.000000000' '2020-06-08T00:00:00.000000000'\n",
      " '2020-05-21T00:00:00.000000000' '2020-06-28T00:00:00.000000000'\n",
      " '2020-06-07T00:00:00.000000000' '2020-02-15T00:00:00.000000000'\n",
      " '2020-06-18T00:00:00.000000000' '2020-04-29T00:00:00.000000000'\n",
      " '2020-07-11T00:00:00.000000000' '2020-05-11T00:00:00.000000000'\n",
      " '2020-03-13T00:00:00.000000000' '2020-03-08T00:00:00.000000000'\n",
      " '2020-05-08T00:00:00.000000000' '2020-07-17T00:00:00.000000000'\n",
      " '2020-04-19T00:00:00.000000000' '2020-05-09T00:00:00.000000000'\n",
      " '2020-03-04T00:00:00.000000000' '2020-06-24T00:00:00.000000000'\n",
      " '2020-08-02T00:00:00.000000000' '2020-09-07T00:00:00.000000000'\n",
      " '2020-08-21T00:00:00.000000000' '2020-07-03T00:00:00.000000000'\n",
      " '2020-03-12T00:00:00.000000000' '2020-06-26T00:00:00.000000000'\n",
      " '2020-06-20T00:00:00.000000000' '2020-04-30T00:00:00.000000000'\n",
      " '2020-06-25T00:00:00.000000000' '2020-03-29T00:00:00.000000000'\n",
      " '2020-07-06T00:00:00.000000000' '2020-05-07T00:00:00.000000000'\n",
      " '2020-03-10T00:00:00.000000000' '2020-04-24T00:00:00.000000000'\n",
      " '2020-07-23T00:00:00.000000000' '2020-04-20T00:00:00.000000000'\n",
      " '2020-09-14T00:00:00.000000000' '2020-04-01T00:00:00.000000000'\n",
      " '2020-03-26T00:00:00.000000000' '2020-04-13T00:00:00.000000000'\n",
      " '2020-07-13T00:00:00.000000000' '2020-03-16T00:00:00.000000000'\n",
      " '2020-07-21T00:00:00.000000000' '2020-05-31T00:00:00.000000000'\n",
      " '2020-05-26T00:00:00.000000000' '2020-09-10T00:00:00.000000000'\n",
      " '2020-09-06T00:00:00.000000000' '2020-07-20T00:00:00.000000000'\n",
      " '2020-07-30T00:00:00.000000000' '2020-03-20T00:00:00.000000000'\n",
      " '2020-08-24T00:00:00.000000000' '2020-07-02T00:00:00.000000000'\n",
      " '2020-08-07T00:00:00.000000000' '2020-02-24T00:00:00.000000000'\n",
      " '2020-04-22T00:00:00.000000000' '2020-08-09T00:00:00.000000000'\n",
      " '2020-03-03T00:00:00.000000000' '2020-07-18T00:00:00.000000000'\n",
      " '2020-04-15T00:00:00.000000000'                           'NaT']\n",
      "currently examining column **** offered_band  ********\n",
      "['B2' 'B4' 'B0' 'C6' 'B5' 'B3' 'B1' nan]\n",
      "currently examining column **** offered_salary  ********\n",
      "[1383755.4375 2976589.7375  741663.125  4079723.525  3340936.2375\n",
      " 4373291.9    2706252.05    556952.1    2668414.25   2683619.975\n",
      " 1469371.075   651492.7    3793303.2875 1194965.725  1297940.1125\n",
      " 2601334.45   3228813.4625 2028663.7375 2411846.9    1867839.5\n",
      "  652820.425  3814247.975   560124.375   929071.1125  553872.8625\n",
      " 2602441.5625 3592178.9625  838475.6625 2948490.5    2023940.875\n",
      " 1479701.1625 3579228.3    2143320.2375 1938149.9625 3153741.6625\n",
      " 2210615.7    3871881.15   3118994.35   1029668.0375 2318124.0625\n",
      " 3518458.7375 2418542.9    2890261.525  1393797.1875 1868659.4\n",
      " 3258811.25   3045195.825  3636465.0375 1473996.0625 1392930.6\n",
      " 1847645.4125 2398318.1    1844608.7    3438765.325   554000.6625\n",
      " 1203437.425  3318169.5    4264755.5125 2517370.2    1570082.525\n",
      " 1754594.9875 3124934.575  4010924.95   1859526.2    3436463.0125\n",
      " 3499532.525  3162493.825   923919.2875 1109691.4125 3075535.05\n",
      " 2300037.325  1474940.95   2578332.475  1213604.275  3539953.325\n",
      " 1394987.325  1746191.9125 3808977.9125 2115246.0875 1396599.1125\n",
      "  831211.65   3688440.3625 1301894.15   3029291.3625 3607477.275\n",
      " 3357373.6125 1859413.25   3230298.9125 3537592.175  3628459.875\n",
      " 3621345.15   3499542.5375 2495258.55    555171.9    1665312.975\n",
      " 1393117.4625  836839.575  3031554.1875  838534.05    836749.6875\n",
      " 3614025.5625 3691296.0625 1015284.125   837815.0625 2326550.2\n",
      " 3789525.2    1400698.05   1754365.0375 1490124.9625 2124929.8625\n",
      " 2590934.95   3583325.6625 1664332.0875 3164421.7375 3706738.7125\n",
      " 3317837.7375 3813036.8    1392966.7125 2416639.5125  931408.8625\n",
      " 1019232.5375 3068440.0125 3605874.825  3317689.125  2949109.5875\n",
      " 2217934.725  1835722.6625 1401139.3875  745000.1    2789595.8625\n",
      "  557030.9625 1946962.3125  656023.8625 3064537.725  4004978.0875\n",
      " 3713606.95   2304075.2875 1753397.7625 1026400.925  4067880.3125\n",
      " 1861079.6    1947733.1625 3615708.     3778662.5375 3489739.175\n",
      " 1580506.6625 2700414.5375 2589977.6875 3258867.3875 1844194.925\n",
      " 3437328.025  2139488.825  3716520.7    1747199.125   840888.675\n",
      " 4288596.85   1397869.6875 4196143.4625 2487153.4875 2572654.9375\n",
      " 1110763.0875 1866504.575  2505949.9875 2318183.2375  462246.125\n",
      " 1484245.15   4008911.425  3033478.275  4568678.8375 1483634.1625\n",
      " 1104418.2    4004329.6375 2957506.025   552952.6125 2599737.9625\n",
      " 2477703.6    1300760.15    460949.1125 1200337.9375 3769627.55\n",
      " 3505630.475  3827473.5875 2597406.9625 2796538.2375  840027.6\n",
      " 2882638.4125 1398237.7875 1205962.7125  463902.2375 1024266.6875\n",
      " 2967445.0625 2705646.6875 2673811.6625 3810198.2    1019197.4375\n",
      " 3632560.3875 2951355.2    2392678.025  2803924.0875  740156.1875\n",
      "          nan]\n",
      "currently examining column **** percentage_hike_offered_ctc  ********\n",
      "[0.19038294 0.33234244 0.27134531 0.27381305 0.28961928 0.33859304\n",
      " 0.39679003 0.29379621 0.15223594 0.24023462 0.12484358 0.34308176\n",
      " 0.23682555 0.13769122 0.27174362 0.3094039  0.19062454 0.18402474\n",
      " 0.28185339 0.41331147 0.38369289 0.33481048 0.40467861 0.3098628\n",
      " 0.20075273 0.31730216 0.16696994 0.36283574 0.17231775 0.14958022\n",
      " 0.23002117 0.11581798 0.3679624  0.19749738 0.28066391 0.1672645\n",
      " 0.18002399 0.10994008 0.46401153 0.27456336 0.24971335 0.33284556\n",
      " 0.37803115 0.31239197 0.42275839 0.35114563 0.19511222 0.37987954\n",
      " 0.16980159 0.3009605  0.21272713 0.18915882 0.18707334 0.31635103\n",
      " 0.20436661 0.24627727 0.17736352 0.27213293 0.37840057 0.20852297\n",
      " 0.20669498 0.13606956 0.38750299 0.32375304 0.3039775  0.16469595\n",
      " 0.33154173 0.21439358 0.22877729 0.37016271 0.15023332 0.17939561\n",
      " 0.163153   0.40470408 0.36127613 0.328399   0.13530565 0.30882777\n",
      " 0.14489921 0.35066453 0.20836108 0.18386335 0.32703009 0.1190228\n",
      " 0.23322975 0.38376277 0.32260917 0.19773299 0.34812755 0.33625182\n",
      " 0.29958088 0.1647381  0.21873639 0.2384462  0.23643163 0.30340979\n",
      " 0.32494291 0.12929837 0.36422531 0.32291787 0.26375826 0.19573987\n",
      " 0.19845793 0.34729582 0.34133922 0.22055806 0.41054435 0.20463178\n",
      " 0.35619973 0.21375918 0.23929607 0.13154911 0.22676914 0.3432571\n",
      " 0.26397137 0.17586162 0.32875463 0.30143318 0.3179718  0.3579143\n",
      " 0.26193458 0.32511668 0.22596606 0.17518998 0.17545727 0.21820854\n",
      " 0.11745338 0.41728779 0.3545481  0.32582747 0.29635429 0.27221101\n",
      " 0.49177236 0.30149839 0.35751885 0.29668194 0.17600034 0.19602388\n",
      " 0.394584   0.2248236  0.33967337 0.27915782 0.27182896 0.17591721\n",
      " 0.12477596 0.32267346 0.35301164 0.23319168 0.35148347 0.18365523\n",
      " 0.30860097 0.33292204 0.31103777 0.14344838 0.42255088 0.3771848\n",
      " 0.36871185 0.38096205 0.16851973 0.13160801 0.24473501 0.39817868\n",
      " 0.29139388 0.27501073 0.22436737 0.2822315  0.37721359 0.13817299\n",
      " 0.37892756 0.27497399 0.15546914 0.35432229 0.21962042 0.17530992\n",
      " 0.29816814 0.11459457 0.31072362 0.18038063 0.20440808 0.14102358\n",
      " 0.1908945  0.40444134 0.28208106 0.37447853 0.40069032 0.32619496\n",
      " 0.37402456 0.28243035 0.2851274  0.35246519 0.27601895 0.3921279\n",
      " 0.18211739 0.31476002 0.26134296 0.35827313 0.18697644 0.154088\n",
      " 0.43001966 0.23681323        nan]\n",
      "currently examining column **** joining_bonus_amount  ********\n",
      "[ 58122.28125 111705.13125  29168.4375  160138.2375  129531.88125\n",
      " 163354.05     96873.975    21523.95    115792.875   108190.0125\n",
      "  65314.4625   24253.65    153348.35625  52517.1375   51029.94375\n",
      "  99332.775   135593.26875  85668.13125  94076.55     66080.25\n",
      "  23589.7875  142876.0125   19937.8125   35464.44375  23063.56875\n",
      "  98779.21875 153910.51875  30762.16875 125754.75     88029.5625\n",
      "  60149.41875 160385.85     78339.88125  80925.01875 123129.16875\n",
      "  94692.15    164059.425   140502.825    35165.98125  90937.96875\n",
      " 140770.63125  90728.55    104869.2375   53101.40625  65670.3\n",
      " 120594.375   127402.0875  131767.48125  63001.96875  53534.7\n",
      "  76177.29375 100840.95     77695.65    130617.3375   22999.66875\n",
      "  48281.2875  140915.25    167622.24375  91314.9      64958.7375\n",
      "  72702.50625 137532.7125  144537.525    70236.9     131768.49375\n",
      " 150233.7375  118753.0875   38040.35625  45154.29375 112232.475\n",
      "  99981.3375   62529.525   110833.7625   43197.8625  130023.3375\n",
      "  52506.3375   76904.04375 145511.04375  92376.95625  51700.44375\n",
      "  34394.175   155779.81875  49052.925   135354.31875 146261.3625\n",
      " 121313.19375  70293.375   134850.54375 131203.9125  135770.0625\n",
      " 139327.425   150228.73125 102370.725    22414.05     67343.5125\n",
      "  53441.26875  31580.2125  134222.90625  30732.975    31625.15625\n",
      " 142987.21875 154351.96875  42357.9375   31092.46875  86724.9\n",
      " 155237.4      49650.975    72817.48125  54937.51875  87535.06875\n",
      " 104532.525   158337.16875  67833.95625 117789.13125 146630.64375\n",
      " 141081.13125 143481.6      53516.64375  91680.24375  34295.56875\n",
      "  40383.73125 115779.99375 147062.5875  141155.4375  125445.20625\n",
      "  91032.6375   82138.66875  49430.30625  27499.95    105202.06875\n",
      "  21484.51875  76518.84375  21988.06875 117731.1375  147510.95625\n",
      " 143196.525    97962.35625  73301.11875  36799.5375  166059.84375\n",
      "  69460.2      76133.41875 142146.      160668.73125 155130.4125\n",
      "  59746.66875  99792.73125 105011.15625 120566.30625  77902.5375\n",
      " 131335.9875   80255.5875  141739.65     76400.4375   29555.6625\n",
      " 155701.575    51065.15625 151928.26875 106423.25625 113672.53125\n",
      "  44618.45625  66747.7125   97025.00625  90908.38125  18876.9375\n",
      "  57877.425   145544.2875  133260.8625  165660.58125  58182.91875\n",
      "  47790.9     147835.18125 121246.9875   23523.69375 100131.01875\n",
      " 111148.2      49619.925    19525.44375  49831.03125 165186.225\n",
      " 147184.7625  136263.20625 101296.51875 101730.88125  29986.2\n",
      " 108680.79375  50881.10625  47018.64375  18048.88125  37866.65625\n",
      " 116277.46875  97176.65625 113094.16875 144900.9      40401.28125\n",
      " 133719.80625 124322.4     103660.9875   98037.95625  29921.90625\n",
      "          nan]\n",
      "currently examining column **** lob  ********\n",
      "['IT' 'Manufacturing' 'Finance' nan]\n",
      "currently examining column **** joining_location  ********\n",
      "['NCR' 'Chennai' 'Hyderabad' 'Mumbai' 'Pune' nan]\n",
      "currently examining column **** candidate_relocation_status  ********\n",
      "['Yes' 'No' nan]\n",
      "currently examining column **** acceptance_status  ********\n",
      "['Joined' 'Offer Rejected' nan]\n",
      "currently examining column **** notice_period  ********\n",
      "[ 0. 30. 60. 15. 45. nan]\n",
      "currently examining column **** current_ctc  ********\n",
      "[1162445.625 2234102.625  583368.75  3202764.75  2590637.625 3267081.\n",
      " 1937479.5    430479.    2315857.5   2163800.25  1306289.25   485073.\n",
      " 3066967.125 1050342.75  1020598.875 1986655.5   2711865.375 1713362.625\n",
      " 1881531.    1321605.     471795.75  2857520.25   398756.25   709288.875\n",
      "  461271.375 1975584.375 3078210.375  615243.375 2515095.    1760591.25\n",
      " 1202988.375 3207717.    1566797.625 1618500.375 2462583.375 1893843.\n",
      " 3281188.5   2810056.5    703319.625 1818759.375 2815412.625 1814571.\n",
      " 2097384.75  1062028.125 1313406.    2411887.5   2548041.75  2635349.625\n",
      " 1260039.375 1070694.    1523545.875 2016819.    1553913.    2612346.75\n",
      "  459993.375  965625.75  2818305.    3352444.875 1826298.    1299174.75\n",
      " 1454050.125 2750654.25  2890750.5   1404738.    2635369.875 3004674.75\n",
      " 2375061.75   760807.125  903085.875 2244649.5   1999626.75  1250590.5\n",
      " 2216675.25   863957.25  2600466.75  1050126.75  1538080.875 2910220.875\n",
      " 1847539.125 1034008.875  687883.5   3115596.375  981058.5   2707086.375\n",
      " 2925227.25  2426263.875 1405867.5   2697010.875 2624078.25  2715401.25\n",
      " 2786548.5   3004574.625 2047414.5    448281.    1346870.25  1068825.375\n",
      "  631604.25  2684458.125  614659.5    632503.125 2859744.375 3087039.375\n",
      "  847158.75   621849.375 1734498.    3104748.     993019.5   1456349.625\n",
      " 1098750.375 1750701.375 2090650.5   3166743.375 1356679.125 2355782.625\n",
      " 2932612.875 2821622.625 2869632.    1070332.875 1833604.875  685911.375\n",
      "  807674.625 2315599.875 2941251.75  2823108.75  2508904.125 1820652.75\n",
      " 1642773.375  988606.125  549999.    2104041.375  429690.375 1530376.875\n",
      "  439761.375 2354622.75  2950219.125 2863930.5   1959247.125 1466022.375\n",
      "  735990.75  3321196.875 1389204.    1522668.375 2842920.    3213374.625\n",
      " 3102608.25  1194933.375 1995854.625 2100223.125 2411326.125 1558050.75\n",
      " 2626719.75  1605111.75  2834793.    1528008.75   591113.25  3114031.5\n",
      " 1021303.125 3038565.375 2128465.125 2273450.625  892369.125 1334954.25\n",
      " 1940500.125 1818167.625  377538.75  1157548.5   2910885.75  2665217.25\n",
      " 3313211.625 1163658.375  955818.    2956703.625 2424939.75   470473.875\n",
      " 2002620.375 2222964.     992398.5    390508.875  996620.625 3303724.5\n",
      " 2943695.25  2725264.125 2025930.375 2034617.625  599724.    2173615.875\n",
      " 1017622.125  940372.875  360977.625  757333.125 2325549.375 1943533.125\n",
      " 2261883.375 2898018.     808025.625 2674396.125 2486448.    2073219.75\n",
      " 1960759.125  598438.125         nan]\n",
      "currently examining column **** current_gross_salary  ********\n",
      "[1033285. 1985869.  518550. 2846902. 2302789. 2904072. 1722204.  382648.\n",
      " 2058540. 1923378. 1161146.  431176. 2726193.  933638.  907199. 1765916.\n",
      " 2410547. 1522989. 1672472. 1174760.  419374. 2540018.  354450.  630479.\n",
      "  410019. 1756075. 2736187.  546883. 2235640. 1564970. 1069323. 2851304.\n",
      " 1392709. 1438667. 2188963. 1683416. 2916612. 2497828.  625173. 1616675.\n",
      " 2502589. 1612952. 1864342.  944025. 1167472. 2143900. 2264926. 2342533.\n",
      " 1120035.  951728. 1354263. 1792728. 1381256. 2322086.  408883.  858334.\n",
      " 2505160. 2979951. 1623376. 1154822. 1292489. 2445026. 2569556. 1248656.\n",
      " 2342551. 2670822. 2111166.  676273.  802743. 1995244. 1777446. 1111636.\n",
      " 1970378.  767962. 2311526.  933446. 1367183. 2586863. 1642257.  919119.\n",
      "  611452. 2769419.  872052. 2406299. 2600202. 2156679. 1249660. 2397343.\n",
      " 2332514. 2413690. 2476932. 2670733. 1819924.  398472. 1197218.  950067.\n",
      "  561426. 2386185.  546364.  562225. 2541995. 2744035.  753030.  552755.\n",
      " 1541776. 2759776.  882684. 1294533.  976667. 1556179. 1858356. 2814883.\n",
      " 1205937. 2094029. 2606767. 2508109. 2550784.  951407. 1629871.  609699.\n",
      "  717933. 2058311. 2614446. 2509430. 2230137. 1618358. 1460243.  878761.\n",
      "  488888. 1870259.  381947. 1360335.  390899. 2092998. 2622417. 2545716.\n",
      " 1741553. 1303131.  654214. 2952175. 1234848. 1353483. 2527040. 2856333.\n",
      " 2757874. 1062163. 1774093. 1866865. 2143401. 1384934. 2334862. 1426766.\n",
      " 2519816. 1358230.  525434. 2768028.  907825. 2700947. 1891969. 2020845.\n",
      "  793217. 1186626. 1724889. 1616149.  335590. 1028932. 2587454. 2369082.\n",
      " 2945077. 1034363.  849616. 2628181. 2155502.  418199. 1780107. 1975968.\n",
      "  882132.  347119.  885885. 2936644. 2616618. 2422457. 1800827. 1808549.\n",
      "  533088. 1932103.  904553.  835887.  320869.  673185. 2067155. 1727585.\n",
      " 2010563. 2576016.  718245. 2377241. 2210176. 1842862. 1742897.  531945.\n",
      "      nan]\n",
      "currently examining column **** current_organization  ********\n",
      "['IBM' 'Mahindra' 'Infosys' 'JP Morgun' 'HCL' 'HSBC' 'Accenture' 'L & T'\n",
      " 'TCS' 'Bajaj Finance' 'CSE' 'Oracle' 'Bank Of America' 'Tech Mahindra'\n",
      " 'Cognizant' nan]\n",
      "currently examining column **** highest_educational_degree  ********\n",
      "['Diploma' 'Master' 'Bachelors' nan]\n",
      "currently examining column **** total_experience  ********\n",
      "[ 8. 15.  4. 20. 17. 12.  3. 16.  9. 19.  7. 13. 11. 18.  6.  5. 10. 14.\n",
      " nan]\n",
      "currently examining column **** relevant_experience  ********\n",
      "[ 7.2 13.5  3.6 18.  15.3 10.8  2.7 14.4  8.1 17.1  6.3 11.7  9.9 16.2\n",
      "  5.4  4.5  9.  12.6  nan]\n",
      "currently examining column **** year_of_graduation  ********\n",
      "[2012. 2005. 2016. 2000. 2003. 2008. 2017. 2004. 2011. 2001. 2013. 2007.\n",
      " 2009. 2002. 2014. 2015. 2010. 2006.   nan]\n",
      "currently examining column **** expected_ctc  ********\n",
      "[1500000. 3200000.  800000. 4400000. 3600000. 4700000. 2900000.  600000.\n",
      " 1600000.  700000. 4100000. 1300000. 1400000. 2800000. 3500000. 2200000.\n",
      " 2600000. 2000000. 1000000. 3900000.  900000. 2300000. 2100000. 3400000.\n",
      " 2400000. 4200000. 1100000. 2500000. 3800000. 3100000. 3300000. 3700000.\n",
      " 4600000. 2700000. 1700000. 1900000. 4300000. 1200000. 4000000. 1800000.\n",
      " 3000000. 4500000.  500000. 4900000.      nan]\n",
      "currently examining column **** percentage_hike_expected_ctc  ********\n",
      "[0.29038294 0.43234244 0.37134531 0.37381305 0.38961928 0.43859304\n",
      " 0.49679003 0.39379621 0.25223594 0.34023462 0.22484358 0.44308176\n",
      " 0.33682555 0.23769122 0.37174362 0.4094039  0.29062454 0.28402474\n",
      " 0.38185339 0.51331147 0.48369289 0.43481048 0.50467861 0.4098628\n",
      " 0.30075273 0.41730216 0.26696994 0.46283574 0.27231775 0.24958022\n",
      " 0.33002117 0.21581798 0.4679624  0.29749738 0.38066391 0.2672645\n",
      " 0.28002399 0.20994008 0.56401153 0.37456336 0.34971335 0.43284556\n",
      " 0.47803115 0.41239197 0.52275839 0.45114563 0.29511222 0.47987954\n",
      " 0.26980159 0.4009605  0.31272713 0.28915882 0.28707334 0.41635103\n",
      " 0.30436661 0.34627727 0.27736352 0.37213293 0.47840057 0.30852297\n",
      " 0.30669498 0.23606956 0.48750299 0.42375304 0.4039775  0.26469595\n",
      " 0.43154173 0.31439358 0.32877729 0.47016271 0.25023332 0.27939561\n",
      " 0.263153   0.50470408 0.46127613 0.428399   0.23530565 0.40882777\n",
      " 0.24489921 0.45066453 0.30836108 0.28386335 0.42703009 0.2190228\n",
      " 0.33322975 0.48376277 0.42260917 0.29773299 0.44812755 0.43625182\n",
      " 0.39958088 0.2647381  0.31873639 0.3384462  0.33643163 0.40340979\n",
      " 0.42494291 0.22929837 0.46422531 0.42291787 0.36375826 0.29573987\n",
      " 0.29845793 0.44729582 0.44133922 0.32055806 0.51054435 0.30463178\n",
      " 0.45619973 0.31375918 0.33929607 0.23154911 0.32676914 0.4432571\n",
      " 0.36397137 0.27586162 0.42875463 0.40143318 0.4179718  0.4579143\n",
      " 0.36193458 0.42511668 0.32596606 0.27518998 0.27545727 0.31820854\n",
      " 0.21745338 0.51728779 0.4545481  0.42582747 0.39635429 0.37221101\n",
      " 0.59177236 0.40149839 0.45751885 0.39668194 0.27600034 0.29602388\n",
      " 0.494584   0.3248236  0.43967337 0.37915782 0.37182896 0.27591721\n",
      " 0.22477596 0.42267346 0.45301164 0.33319168 0.45148347 0.28365523\n",
      " 0.40860097 0.43292204 0.41103777 0.24344838 0.52255088 0.4771848\n",
      " 0.46871185 0.48096205 0.26851973 0.23160801 0.34473501 0.49817868\n",
      " 0.39139388 0.37501073 0.32436737 0.3822315  0.47721359 0.23817299\n",
      " 0.47892756 0.37497399 0.25546914 0.45432229 0.31962042 0.27530992\n",
      " 0.39816814 0.21459457 0.41072362 0.28038063 0.30440808 0.24102358\n",
      " 0.2908945  0.50444134 0.38208106 0.47447853 0.50069032 0.42619496\n",
      " 0.47402456 0.38243035 0.3851274  0.45246519 0.37601895 0.4921279\n",
      " 0.28211739 0.41476002 0.36134296 0.45827313 0.28697644 0.254088\n",
      " 0.53001966 0.33681323        nan]\n",
      "currently examining column **** gender  ********\n",
      "['M' 'F' nan]\n",
      "currently examining column **** candidate_source  ********\n",
      "['Direct' 'Agency' 'Employee referral' nan]\n",
      "currently examining column **** dob  ********\n",
      "['1991-11-06T00:00:00.000000000' '1984-02-22T00:00:00.000000000'\n",
      " '1995-03-27T00:00:00.000000000' '1979-06-14T00:00:00.000000000'\n",
      " '1982-11-26T00:00:00.000000000' '1979-08-19T00:00:00.000000000'\n",
      " '1987-05-22T00:00:00.000000000' '1993-11-27T00:00:00.000000000'\n",
      " '1980-10-06T00:00:00.000000000' '1984-03-27T00:00:00.000000000'\n",
      " '1989-12-11T00:00:00.000000000' '1995-10-30T00:00:00.000000000'\n",
      " '1979-02-14T00:00:00.000000000' '1992-08-21T00:00:00.000000000'\n",
      " '1989-07-27T00:00:00.000000000' '1983-10-15T00:00:00.000000000'\n",
      " '1979-12-29T00:00:00.000000000' '1987-11-01T00:00:00.000000000'\n",
      " '1986-03-31T00:00:00.000000000' '1989-03-20T00:00:00.000000000'\n",
      " '1995-12-08T00:00:00.000000000' '1978-07-06T00:00:00.000000000'\n",
      " '1995-04-04T00:00:00.000000000' '1993-06-10T00:00:00.000000000'\n",
      " '1992-09-30T00:00:00.000000000' '1986-10-28T00:00:00.000000000'\n",
      " '1977-03-06T00:00:00.000000000' '1994-03-06T00:00:00.000000000'\n",
      " '1982-03-28T00:00:00.000000000' '1987-05-13T00:00:00.000000000'\n",
      " '1989-12-17T00:00:00.000000000' '1979-02-15T00:00:00.000000000'\n",
      " '1987-09-18T00:00:00.000000000' '1988-11-07T00:00:00.000000000'\n",
      " '1980-12-20T00:00:00.000000000' '1987-06-20T00:00:00.000000000'\n",
      " '1979-11-20T00:00:00.000000000' '1981-08-31T00:00:00.000000000'\n",
      " '1992-06-14T00:00:00.000000000' '1987-05-17T00:00:00.000000000'\n",
      " '1978-10-29T00:00:00.000000000' '1986-11-09T00:00:00.000000000'\n",
      " '1983-05-01T00:00:00.000000000' '1988-06-24T00:00:00.000000000'\n",
      " '1990-11-12T00:00:00.000000000' '1983-11-04T00:00:00.000000000'\n",
      " '1982-01-22T00:00:00.000000000' '1981-10-28T00:00:00.000000000'\n",
      " '1987-03-16T00:00:00.000000000' '1990-08-06T00:00:00.000000000'\n",
      " '1989-04-17T00:00:00.000000000' '1985-11-15T00:00:00.000000000'\n",
      " '1986-08-28T00:00:00.000000000' '1982-03-06T00:00:00.000000000'\n",
      " '1994-02-06T00:00:00.000000000' '1989-02-23T00:00:00.000000000'\n",
      " '1981-03-05T00:00:00.000000000' '1978-10-04T00:00:00.000000000'\n",
      " '1986-10-20T00:00:00.000000000' '1990-06-17T00:00:00.000000000'\n",
      " '1988-05-06T00:00:00.000000000' '1981-11-19T00:00:00.000000000'\n",
      " '1980-05-31T00:00:00.000000000' '1986-10-18T00:00:00.000000000'\n",
      " '1981-08-04T00:00:00.000000000' '1977-11-01T00:00:00.000000000'\n",
      " '1982-10-11T00:00:00.000000000' '1990-08-27T00:00:00.000000000'\n",
      " '1990-02-02T00:00:00.000000000' '1984-10-04T00:00:00.000000000'\n",
      " '1983-07-01T00:00:00.000000000' '1989-01-12T00:00:00.000000000'\n",
      " '1981-10-16T00:00:00.000000000' '1992-09-22T00:00:00.000000000'\n",
      " '1979-08-23T00:00:00.000000000' '1991-08-23T00:00:00.000000000'\n",
      " '1988-04-28T00:00:00.000000000' '1978-09-07T00:00:00.000000000'\n",
      " '1987-04-24T00:00:00.000000000' '1989-12-27T00:00:00.000000000'\n",
      " '1990-07-08T00:00:00.000000000' '1978-07-09T00:00:00.000000000'\n",
      " '1989-10-29T00:00:00.000000000' '1981-07-31T00:00:00.000000000'\n",
      " '1980-05-19T00:00:00.000000000' '1983-11-30T00:00:00.000000000'\n",
      " '1989-04-13T00:00:00.000000000' '1979-01-01T00:00:00.000000000'\n",
      " '1982-07-21T00:00:00.000000000' '1982-04-02T00:00:00.000000000'\n",
      " '1980-03-25T00:00:00.000000000' '1979-05-15T00:00:00.000000000'\n",
      " '1985-11-04T00:00:00.000000000' '1996-08-04T00:00:00.000000000'\n",
      " '1986-05-23T00:00:00.000000000' '1990-09-19T00:00:00.000000000'\n",
      " '1993-10-22T00:00:00.000000000' '1982-02-13T00:00:00.000000000'\n",
      " '1994-11-02T00:00:00.000000000' '1994-04-04T00:00:00.000000000'\n",
      " '1981-06-08T00:00:00.000000000' '1977-11-11T00:00:00.000000000'\n",
      " '1993-08-29T00:00:00.000000000' '1991-02-06T00:00:00.000000000'\n",
      " '1984-01-19T00:00:00.000000000' '1977-08-04T00:00:00.000000000'\n",
      " '1992-04-28T00:00:00.000000000' '1986-11-08T00:00:00.000000000'\n",
      " '1988-04-22T00:00:00.000000000' '1986-08-17T00:00:00.000000000'\n",
      " '1984-02-06T00:00:00.000000000' '1978-02-20T00:00:00.000000000'\n",
      " '1988-07-20T00:00:00.000000000' '1980-03-07T00:00:00.000000000'\n",
      " '1977-04-22T00:00:00.000000000' '1981-05-29T00:00:00.000000000'\n",
      " '1981-05-26T00:00:00.000000000' '1991-09-28T00:00:00.000000000'\n",
      " '1984-06-20T00:00:00.000000000' '1991-08-10T00:00:00.000000000'\n",
      " '1993-04-09T00:00:00.000000000' '1983-08-29T00:00:00.000000000'\n",
      " '1977-03-08T00:00:00.000000000' '1980-11-06T00:00:00.000000000'\n",
      " '1982-01-24T00:00:00.000000000' '1986-08-16T00:00:00.000000000'\n",
      " '1987-09-15T00:00:00.000000000' '1992-07-30T00:00:00.000000000'\n",
      " '1994-12-17T00:00:00.000000000' '1983-04-17T00:00:00.000000000'\n",
      " '1996-11-03T00:00:00.000000000' '1988-08-13T00:00:00.000000000'\n",
      " '1996-04-16T00:00:00.000000000' '1982-03-29T00:00:00.000000000'\n",
      " '1977-07-09T00:00:00.000000000' '1978-04-25T00:00:00.000000000'\n",
      " '1985-09-30T00:00:00.000000000' '1989-08-25T00:00:00.000000000'\n",
      " '1990-04-10T00:00:00.000000000' '1976-01-15T00:00:00.000000000'\n",
      " '1989-03-29T00:00:00.000000000' '1986-11-22T00:00:00.000000000'\n",
      " '1980-08-25T00:00:00.000000000' '1978-12-03T00:00:00.000000000'\n",
      " '1980-09-18T00:00:00.000000000' '1989-06-07T00:00:00.000000000'\n",
      " '1983-01-19T00:00:00.000000000' '1983-03-30T00:00:00.000000000'\n",
      " '1980-04-06T00:00:00.000000000' '1988-01-07T00:00:00.000000000'\n",
      " '1981-09-08T00:00:00.000000000' '1988-10-05T00:00:00.000000000'\n",
      " '1981-01-22T00:00:00.000000000' '1986-03-05T00:00:00.000000000'\n",
      " '1994-07-11T00:00:00.000000000' '1979-04-30T00:00:00.000000000'\n",
      " '1989-05-20T00:00:00.000000000' '1977-02-02T00:00:00.000000000'\n",
      " '1983-08-15T00:00:00.000000000' '1981-06-30T00:00:00.000000000'\n",
      " '1992-08-18T00:00:00.000000000' '1987-04-26T00:00:00.000000000'\n",
      " '1986-07-18T00:00:00.000000000' '1986-04-01T00:00:00.000000000'\n",
      " '1995-07-10T00:00:00.000000000' '1990-01-27T00:00:00.000000000'\n",
      " '1979-05-19T00:00:00.000000000' '1982-08-04T00:00:00.000000000'\n",
      " '1976-11-13T00:00:00.000000000' '1990-07-11T00:00:00.000000000'\n",
      " '1992-09-20T00:00:00.000000000' '1980-04-30T00:00:00.000000000'\n",
      " '1983-06-10T00:00:00.000000000' '1992-04-13T00:00:00.000000000'\n",
      " '1983-10-02T00:00:00.000000000' '1984-08-06T00:00:00.000000000'\n",
      " '1991-09-08T00:00:00.000000000' '1995-05-09T00:00:00.000000000'\n",
      " '1991-11-21T00:00:00.000000000' '1978-12-31T00:00:00.000000000'\n",
      " '1977-12-16T00:00:00.000000000' '1981-04-24T00:00:00.000000000'\n",
      " '1984-06-03T00:00:00.000000000' '1985-08-29T00:00:00.000000000'\n",
      " '1992-05-16T00:00:00.000000000' '1981-04-20T00:00:00.000000000'\n",
      " '1991-05-04T00:00:00.000000000' '1990-07-31T00:00:00.000000000'\n",
      " '1996-07-13T00:00:00.000000000' '1993-09-18T00:00:00.000000000'\n",
      " '1982-04-06T00:00:00.000000000' '1983-11-02T00:00:00.000000000'\n",
      " '1980-01-20T00:00:00.000000000' '1993-09-13T00:00:00.000000000'\n",
      " '1979-02-17T00:00:00.000000000' '1982-05-27T00:00:00.000000000'\n",
      " '1985-09-21T00:00:00.000000000' '1986-06-02T00:00:00.000000000'\n",
      " '1994-03-17T00:00:00.000000000'                           'NaT']\n",
      "currently examining column **** location  ********\n",
      "['Kolkata' 'Pune' 'Chennai' 'Hyderabad' 'Bangaluru' 'Mumbai' 'Gurugram'\n",
      " 'Mysore' 'Delhi' 'Noida' nan]\n",
      "currently examining column **** number_of_precious_jobs  ********\n",
      "[ 2.  4.  1.  6.  5.  3. nan]\n",
      "currently examining column **** written_test_date  ********\n",
      "['2020-05-29T00:00:00.000000000' '2020-05-31T00:00:00.000000000'\n",
      " '2020-05-15T00:00:00.000000000' '2020-05-10T00:00:00.000000000'\n",
      " '2020-01-11T00:00:00.000000000' '2020-02-22T00:00:00.000000000'\n",
      " '2020-04-18T00:00:00.000000000' '2020-03-23T00:00:00.000000000'\n",
      " '2020-06-21T00:00:00.000000000' '2020-03-24T00:00:00.000000000'\n",
      " '2020-04-25T00:00:00.000000000' '2020-05-16T00:00:00.000000000'\n",
      " '2020-01-05T00:00:00.000000000' '2020-02-24T00:00:00.000000000'\n",
      " '2020-01-31T00:00:00.000000000' '2020-03-30T00:00:00.000000000'\n",
      " '2020-06-28T00:00:00.000000000' '2020-05-07T00:00:00.000000000'\n",
      " '2020-04-27T00:00:00.000000000' '2020-02-19T00:00:00.000000000'\n",
      " '2020-01-23T00:00:00.000000000' '2020-05-01T00:00:00.000000000'\n",
      " '2020-02-05T00:00:00.000000000' '2020-01-26T00:00:00.000000000'\n",
      " '2020-06-25T00:00:00.000000000' '2020-03-16T00:00:00.000000000'\n",
      " '2020-05-20T00:00:00.000000000' '2020-02-13T00:00:00.000000000'\n",
      " '2020-03-29T00:00:00.000000000' '2020-04-04T00:00:00.000000000'\n",
      " '2020-01-25T00:00:00.000000000' '2020-05-25T00:00:00.000000000'\n",
      " '2020-01-17T00:00:00.000000000' '2020-01-03T00:00:00.000000000'\n",
      " '2020-05-24T00:00:00.000000000' '2020-02-03T00:00:00.000000000'\n",
      " '2020-01-04T00:00:00.000000000' '2020-01-21T00:00:00.000000000'\n",
      " '2020-06-18T00:00:00.000000000' '2020-01-27T00:00:00.000000000'\n",
      " '2020-06-12T00:00:00.000000000' '2020-03-22T00:00:00.000000000'\n",
      " '2020-02-10T00:00:00.000000000' '2020-04-06T00:00:00.000000000'\n",
      " '2020-04-13T00:00:00.000000000' '2020-03-19T00:00:00.000000000'\n",
      " '2020-05-09T00:00:00.000000000' '2020-02-27T00:00:00.000000000'\n",
      " '2020-04-12T00:00:00.000000000' '2020-06-24T00:00:00.000000000'\n",
      " '2020-06-04T00:00:00.000000000' '2020-05-02T00:00:00.000000000'\n",
      " '2020-05-03T00:00:00.000000000' '2020-06-10T00:00:00.000000000'\n",
      " '2020-06-06T00:00:00.000000000' '2020-02-04T00:00:00.000000000'\n",
      " '2020-02-21T00:00:00.000000000' '2020-01-12T00:00:00.000000000'\n",
      " '2020-05-08T00:00:00.000000000' '2020-01-19T00:00:00.000000000'\n",
      " '2020-06-27T00:00:00.000000000' '2020-06-19T00:00:00.000000000'\n",
      " '2020-06-20T00:00:00.000000000' '2020-06-08T00:00:00.000000000'\n",
      " '2020-03-02T00:00:00.000000000' '2020-01-30T00:00:00.000000000'\n",
      " '2020-06-05T00:00:00.000000000' '2020-02-14T00:00:00.000000000'\n",
      " '2020-02-23T00:00:00.000000000' '2020-05-30T00:00:00.000000000'\n",
      " '2020-03-04T00:00:00.000000000' '2020-03-05T00:00:00.000000000'\n",
      " '2020-05-18T00:00:00.000000000' '2020-06-26T00:00:00.000000000'\n",
      " '2020-05-19T00:00:00.000000000' '2020-03-08T00:00:00.000000000'\n",
      " '2020-04-03T00:00:00.000000000' '2020-02-29T00:00:00.000000000'\n",
      " '2020-03-18T00:00:00.000000000' '2020-04-08T00:00:00.000000000'\n",
      " '2020-05-22T00:00:00.000000000' '2020-04-28T00:00:00.000000000'\n",
      " '2020-01-09T00:00:00.000000000' '2020-05-26T00:00:00.000000000'\n",
      " '2020-04-07T00:00:00.000000000' '2020-05-13T00:00:00.000000000'\n",
      " '2020-06-17T00:00:00.000000000' '2020-03-13T00:00:00.000000000'\n",
      " '2020-01-07T00:00:00.000000000' '2020-03-14T00:00:00.000000000'\n",
      " '2020-05-11T00:00:00.000000000' '2020-02-26T00:00:00.000000000'\n",
      " '2020-01-18T00:00:00.000000000' '2020-01-08T00:00:00.000000000'\n",
      " '2020-06-02T00:00:00.000000000' '2020-01-28T00:00:00.000000000'\n",
      " '2020-06-11T00:00:00.000000000' '2020-06-09T00:00:00.000000000'\n",
      " '2020-05-14T00:00:00.000000000' '2020-03-21T00:00:00.000000000'\n",
      " '2020-01-22T00:00:00.000000000' '2020-05-21T00:00:00.000000000'\n",
      " '2020-02-07T00:00:00.000000000' '2020-01-24T00:00:00.000000000'\n",
      " '2020-04-24T00:00:00.000000000' '2020-03-15T00:00:00.000000000'\n",
      " '2020-03-26T00:00:00.000000000' '2020-06-13T00:00:00.000000000'\n",
      " '2020-04-05T00:00:00.000000000' '2020-02-15T00:00:00.000000000'\n",
      " '2020-03-01T00:00:00.000000000' '2020-02-08T00:00:00.000000000'\n",
      " '2020-02-09T00:00:00.000000000' '2020-06-14T00:00:00.000000000'\n",
      " '2020-04-02T00:00:00.000000000' '2020-04-20T00:00:00.000000000'\n",
      " '2020-03-25T00:00:00.000000000' '2020-01-29T00:00:00.000000000'\n",
      " '2020-02-06T00:00:00.000000000' '2020-01-10T00:00:00.000000000'\n",
      " '2020-01-01T00:00:00.000000000'                           'NaT']\n",
      "currently examining column **** interview_rounds  ********\n",
      "[ 4.  2.  3.  1. nan]\n",
      "currently examining column **** date_of_first_interview  ********\n",
      "['2020-06-03T00:00:00.000000000' '2020-06-05T00:00:00.000000000'\n",
      " '2020-05-20T00:00:00.000000000' '2020-05-15T00:00:00.000000000'\n",
      " '2020-01-16T00:00:00.000000000' '2020-02-27T00:00:00.000000000'\n",
      " '2020-04-23T00:00:00.000000000' '2020-03-28T00:00:00.000000000'\n",
      " '2020-06-26T00:00:00.000000000' '2020-03-29T00:00:00.000000000'\n",
      " '2020-04-30T00:00:00.000000000' '2020-05-21T00:00:00.000000000'\n",
      " '2020-01-10T00:00:00.000000000' '2020-02-29T00:00:00.000000000'\n",
      " '2020-02-05T00:00:00.000000000' '2020-04-04T00:00:00.000000000'\n",
      " '2020-07-03T00:00:00.000000000' '2020-05-12T00:00:00.000000000'\n",
      " '2020-05-02T00:00:00.000000000' '2020-02-24T00:00:00.000000000'\n",
      " '2020-01-28T00:00:00.000000000' '2020-05-06T00:00:00.000000000'\n",
      " '2020-02-10T00:00:00.000000000' '2020-01-31T00:00:00.000000000'\n",
      " '2020-06-30T00:00:00.000000000' '2020-03-21T00:00:00.000000000'\n",
      " '2020-05-25T00:00:00.000000000' '2020-02-18T00:00:00.000000000'\n",
      " '2020-04-03T00:00:00.000000000' '2020-04-09T00:00:00.000000000'\n",
      " '2020-01-30T00:00:00.000000000' '2020-05-30T00:00:00.000000000'\n",
      " '2020-01-22T00:00:00.000000000' '2020-01-08T00:00:00.000000000'\n",
      " '2020-05-29T00:00:00.000000000' '2020-02-08T00:00:00.000000000'\n",
      " '2020-01-09T00:00:00.000000000' '2020-01-26T00:00:00.000000000'\n",
      " '2020-06-23T00:00:00.000000000' '2020-02-01T00:00:00.000000000'\n",
      " '2020-06-17T00:00:00.000000000' '2020-03-27T00:00:00.000000000'\n",
      " '2020-02-15T00:00:00.000000000' '2020-04-11T00:00:00.000000000'\n",
      " '2020-04-18T00:00:00.000000000' '2020-03-24T00:00:00.000000000'\n",
      " '2020-05-14T00:00:00.000000000' '2020-03-03T00:00:00.000000000'\n",
      " '2020-04-17T00:00:00.000000000' '2020-06-29T00:00:00.000000000'\n",
      " '2020-06-09T00:00:00.000000000' '2020-05-07T00:00:00.000000000'\n",
      " '2020-05-08T00:00:00.000000000' '2020-06-15T00:00:00.000000000'\n",
      " '2020-06-11T00:00:00.000000000' '2020-02-09T00:00:00.000000000'\n",
      " '2020-02-26T00:00:00.000000000' '2020-01-17T00:00:00.000000000'\n",
      " '2020-05-13T00:00:00.000000000' '2020-01-24T00:00:00.000000000'\n",
      " '2020-07-02T00:00:00.000000000' '2020-06-24T00:00:00.000000000'\n",
      " '2020-06-25T00:00:00.000000000' '2020-06-13T00:00:00.000000000'\n",
      " '2020-03-07T00:00:00.000000000' '2020-02-04T00:00:00.000000000'\n",
      " '2020-06-10T00:00:00.000000000' '2020-02-19T00:00:00.000000000'\n",
      " '2020-02-28T00:00:00.000000000' '2020-06-04T00:00:00.000000000'\n",
      " '2020-03-09T00:00:00.000000000' '2020-03-10T00:00:00.000000000'\n",
      " '2020-05-23T00:00:00.000000000' '2020-07-01T00:00:00.000000000'\n",
      " '2020-05-24T00:00:00.000000000' '2020-03-13T00:00:00.000000000'\n",
      " '2020-04-08T00:00:00.000000000' '2020-03-05T00:00:00.000000000'\n",
      " '2020-03-23T00:00:00.000000000' '2020-04-13T00:00:00.000000000'\n",
      " '2020-05-27T00:00:00.000000000' '2020-05-03T00:00:00.000000000'\n",
      " '2020-01-14T00:00:00.000000000' '2020-05-31T00:00:00.000000000'\n",
      " '2020-04-12T00:00:00.000000000' '2020-05-18T00:00:00.000000000'\n",
      " '2020-06-22T00:00:00.000000000' '2020-03-18T00:00:00.000000000'\n",
      " '2020-01-12T00:00:00.000000000' '2020-03-19T00:00:00.000000000'\n",
      " '2020-05-16T00:00:00.000000000' '2020-03-02T00:00:00.000000000'\n",
      " '2020-01-23T00:00:00.000000000' '2020-01-13T00:00:00.000000000'\n",
      " '2020-06-07T00:00:00.000000000' '2020-02-02T00:00:00.000000000'\n",
      " '2020-06-16T00:00:00.000000000' '2020-06-14T00:00:00.000000000'\n",
      " '2020-05-19T00:00:00.000000000' '2020-03-26T00:00:00.000000000'\n",
      " '2020-01-27T00:00:00.000000000' '2020-05-26T00:00:00.000000000'\n",
      " '2020-02-12T00:00:00.000000000' '2020-01-29T00:00:00.000000000'\n",
      " '2020-04-29T00:00:00.000000000' '2020-03-20T00:00:00.000000000'\n",
      " '2020-03-31T00:00:00.000000000' '2020-06-18T00:00:00.000000000'\n",
      " '2020-04-10T00:00:00.000000000' '2020-02-20T00:00:00.000000000'\n",
      " '2020-03-06T00:00:00.000000000' '2020-02-13T00:00:00.000000000'\n",
      " '2020-02-14T00:00:00.000000000' '2020-06-19T00:00:00.000000000'\n",
      " '2020-04-07T00:00:00.000000000' '2020-04-25T00:00:00.000000000'\n",
      " '2020-03-30T00:00:00.000000000' '2020-02-03T00:00:00.000000000'\n",
      " '2020-02-11T00:00:00.000000000' '2020-01-15T00:00:00.000000000'\n",
      " '2020-01-06T00:00:00.000000000'                           'NaT']\n",
      "currently examining column **** date_of_last_interview  ********\n",
      "['2020-06-12T00:00:00.000000000' '2020-06-08T00:00:00.000000000'\n",
      " '2020-05-26T00:00:00.000000000' '2020-05-15T00:00:00.000000000'\n",
      " '2020-01-25T00:00:00.000000000' '2020-02-27T00:00:00.000000000'\n",
      " '2020-04-29T00:00:00.000000000' '2020-03-31T00:00:00.000000000'\n",
      " '2020-06-26T00:00:00.000000000' '2020-04-04T00:00:00.000000000'\n",
      " '2020-05-03T00:00:00.000000000' '2020-05-27T00:00:00.000000000'\n",
      " '2020-01-13T00:00:00.000000000' '2020-02-29T00:00:00.000000000'\n",
      " '2020-02-08T00:00:00.000000000' '2020-04-10T00:00:00.000000000'\n",
      " '2020-07-06T00:00:00.000000000' '2020-05-12T00:00:00.000000000'\n",
      " '2020-05-11T00:00:00.000000000' '2020-06-09T00:00:00.000000000'\n",
      " '2020-03-04T00:00:00.000000000' '2020-03-01T00:00:00.000000000'\n",
      " '2020-02-06T00:00:00.000000000' '2020-05-09T00:00:00.000000000'\n",
      " '2020-02-16T00:00:00.000000000' '2020-03-27T00:00:00.000000000'\n",
      " '2020-05-25T00:00:00.000000000' '2020-02-21T00:00:00.000000000'\n",
      " '2020-07-09T00:00:00.000000000' '2020-04-12T00:00:00.000000000'\n",
      " '2020-04-09T00:00:00.000000000' '2020-05-30T00:00:00.000000000'\n",
      " '2020-02-02T00:00:00.000000000' '2020-01-31T00:00:00.000000000'\n",
      " '2020-01-08T00:00:00.000000000' '2020-05-18T00:00:00.000000000'\n",
      " '2020-05-29T00:00:00.000000000' '2020-02-11T00:00:00.000000000'\n",
      " '2020-01-15T00:00:00.000000000' '2020-01-26T00:00:00.000000000'\n",
      " '2020-06-05T00:00:00.000000000' '2020-07-02T00:00:00.000000000'\n",
      " '2020-02-01T00:00:00.000000000' '2020-06-17T00:00:00.000000000'\n",
      " '2020-01-28T00:00:00.000000000' '2020-04-05T00:00:00.000000000'\n",
      " '2020-02-24T00:00:00.000000000' '2020-04-14T00:00:00.000000000'\n",
      " '2020-04-18T00:00:00.000000000' '2020-03-24T00:00:00.000000000'\n",
      " '2020-05-20T00:00:00.000000000' '2020-03-03T00:00:00.000000000'\n",
      " '2020-04-23T00:00:00.000000000' '2020-06-29T00:00:00.000000000'\n",
      " '2020-05-13T00:00:00.000000000' '2020-06-18T00:00:00.000000000'\n",
      " '2020-06-11T00:00:00.000000000' '2020-02-09T00:00:00.000000000'\n",
      " '2020-03-06T00:00:00.000000000' '2020-01-20T00:00:00.000000000'\n",
      " '2020-01-22T00:00:00.000000000' '2020-04-02T00:00:00.000000000'\n",
      " '2020-07-08T00:00:00.000000000' '2020-02-14T00:00:00.000000000'\n",
      " '2020-04-21T00:00:00.000000000' '2020-06-30T00:00:00.000000000'\n",
      " '2020-07-01T00:00:00.000000000' '2020-06-13T00:00:00.000000000'\n",
      " '2020-03-16T00:00:00.000000000' '2020-02-07T00:00:00.000000000'\n",
      " '2020-06-19T00:00:00.000000000' '2020-02-25T00:00:00.000000000'\n",
      " '2020-02-28T00:00:00.000000000' '2020-03-15T00:00:00.000000000'\n",
      " '2020-03-10T00:00:00.000000000' '2020-05-23T00:00:00.000000000'\n",
      " '2020-07-07T00:00:00.000000000' '2020-06-02T00:00:00.000000000'\n",
      " '2020-03-22T00:00:00.000000000' '2020-04-11T00:00:00.000000000'\n",
      " '2020-03-05T00:00:00.000000000' '2020-01-19T00:00:00.000000000'\n",
      " '2020-03-23T00:00:00.000000000' '2020-04-19T00:00:00.000000000'\n",
      " '2020-05-06T00:00:00.000000000' '2020-01-14T00:00:00.000000000'\n",
      " '2020-05-02T00:00:00.000000000' '2020-03-13T00:00:00.000000000'\n",
      " '2020-03-30T00:00:00.000000000' '2020-06-22T00:00:00.000000000'\n",
      " '2020-02-10T00:00:00.000000000' '2020-01-21T00:00:00.000000000'\n",
      " '2020-03-18T00:00:00.000000000' '2020-05-16T00:00:00.000000000'\n",
      " '2020-03-08T00:00:00.000000000' '2020-01-16T00:00:00.000000000'\n",
      " '2020-04-08T00:00:00.000000000' '2020-06-16T00:00:00.000000000'\n",
      " '2020-06-20T00:00:00.000000000' '2020-01-10T00:00:00.000000000'\n",
      " '2020-05-19T00:00:00.000000000' '2020-03-29T00:00:00.000000000'\n",
      " '2020-05-24T00:00:00.000000000' '2020-01-27T00:00:00.000000000'\n",
      " '2020-05-17T00:00:00.000000000' '2020-06-04T00:00:00.000000000'\n",
      " '2020-03-21T00:00:00.000000000' '2020-03-28T00:00:00.000000000'\n",
      " '2020-06-21T00:00:00.000000000' '2020-03-19T00:00:00.000000000'\n",
      " '2020-04-07T00:00:00.000000000' '2020-03-12T00:00:00.000000000'\n",
      " '2020-02-13T00:00:00.000000000' '2020-02-20T00:00:00.000000000'\n",
      " '2020-06-25T00:00:00.000000000' '2020-06-07T00:00:00.000000000'\n",
      " '2020-05-31T00:00:00.000000000' '2020-05-04T00:00:00.000000000'\n",
      " '2020-02-12T00:00:00.000000000' '2020-06-28T00:00:00.000000000'\n",
      " '2020-02-17T00:00:00.000000000' '2020-01-24T00:00:00.000000000'\n",
      " '2020-06-15T00:00:00.000000000' '2020-06-23T00:00:00.000000000'\n",
      " '2020-05-22T00:00:00.000000000' '2020-01-09T00:00:00.000000000'\n",
      " '2020-02-26T00:00:00.000000000' '2020-01-23T00:00:00.000000000'\n",
      " '2020-06-24T00:00:00.000000000' '2020-01-29T00:00:00.000000000'\n",
      "                           'NaT']\n",
      "currently examining column **** interview_types  ********\n",
      "['General' 'Managerial' 'Technical' nan]\n",
      "currently examining column **** interview_types2  ********\n",
      "['Online' 'FaceToFace' 'Written' nan]\n",
      "currently examining column **** first_interview_duration  ********\n",
      "[40. 45. 15. 30. 20. 60. 25. nan]\n",
      "currently examining column **** last_interaction_duration  ********\n",
      "[25. 40. 60. 30. 15. 20. 45. nan]\n"
     ]
    }
   ],
   "source": [
    "col_list = data.columns\n",
    "#print(col_list)\n",
    "for col in col_list:\n",
    "   print(\"currently examining column ****\" , col, ' ********')\n",
    "   print(data[col].unique())\n",
    "    \n"
   ]
  },
  {
   "cell_type": "code",
   "execution_count": 24,
   "metadata": {},
   "outputs": [
    {
     "data": {
      "text/plain": [
       "Index(['candidate_id', 'data_of_application', 'date_of_interview',\n",
       "       'date_of_job_offer', 'date_of_offer_extension', 'date_of_joining',\n",
       "       'offered_band', 'offered_salary', 'percentage_hike_offered_ctc',\n",
       "       'joining_bonus_amount', 'lob', 'joining_location',\n",
       "       'candidate_relocation_status', 'acceptance_status', 'notice_period',\n",
       "       'current_ctc', 'current_gross_salary', 'current_organization',\n",
       "       'highest_educational_degree', 'total_experience', 'relevant_experience',\n",
       "       'year_of_graduation', 'expected_ctc', 'percentage_hike_expected_ctc',\n",
       "       'gender', 'candidate_source', 'dob', 'location',\n",
       "       'number_of_precious_jobs', 'written_test_date', 'interview_rounds',\n",
       "       'date_of_first_interview', 'date_of_last_interview', 'interview_types',\n",
       "       'interview_types2', 'first_interview_duration',\n",
       "       'last_interaction_duration'],\n",
       "      dtype='object')"
      ]
     },
     "execution_count": 24,
     "metadata": {},
     "output_type": "execute_result"
    }
   ],
   "source": [
    "data.columns"
   ]
  },
  {
   "cell_type": "code",
   "execution_count": 25,
   "metadata": {},
   "outputs": [],
   "source": [
    "# Change acceptance_status values to 'Joined'--> 1 and 'Offer Rejected' -->0\n",
    "def value_change(x):\n",
    "    if x == 'Offer Rejected': return 0\n",
    "    return 1"
   ]
  },
  {
   "cell_type": "code",
   "execution_count": 26,
   "metadata": {},
   "outputs": [],
   "source": [
    "data['acceptance_status'] = data['acceptance_status'].apply(lambda x: value_change(x))"
   ]
  },
  {
   "cell_type": "code",
   "execution_count": 27,
   "metadata": {},
   "outputs": [
    {
     "data": {
      "text/plain": [
       "0      0.290383\n",
       "1      0.432342\n",
       "2      0.371345\n",
       "3      0.373813\n",
       "4      0.389619\n",
       "         ...   \n",
       "196    0.286976\n",
       "197    0.254088\n",
       "198    0.530020\n",
       "199    0.336813\n",
       "200         NaN\n",
       "Name: percentage_hike_expected_ctc, Length: 201, dtype: float64"
      ]
     },
     "execution_count": 27,
     "metadata": {},
     "output_type": "execute_result"
    }
   ],
   "source": [
    "# change float64 to float \n",
    "data['offered_salary'].astype(float)\n",
    "data['percentage_hike_offered_ctc'].astype(float)\n",
    "data['joining_bonus_amount'].astype(float)\n",
    "data['relevant_experience'].astype(float)\n",
    "data['percentage_hike_expected_ctc'].astype(float)\n"
   ]
  },
  {
   "cell_type": "code",
   "execution_count": 28,
   "metadata": {},
   "outputs": [
    {
     "data": {
      "text/plain": [
       "candidate_id                     True\n",
       "data_of_application              True\n",
       "date_of_interview                True\n",
       "date_of_job_offer                True\n",
       "date_of_offer_extension          True\n",
       "date_of_joining                  True\n",
       "offered_band                     True\n",
       "offered_salary                   True\n",
       "percentage_hike_offered_ctc      True\n",
       "joining_bonus_amount             True\n",
       "lob                              True\n",
       "joining_location                 True\n",
       "candidate_relocation_status      True\n",
       "acceptance_status               False\n",
       "notice_period                    True\n",
       "current_ctc                      True\n",
       "current_gross_salary             True\n",
       "current_organization             True\n",
       "highest_educational_degree       True\n",
       "total_experience                 True\n",
       "relevant_experience              True\n",
       "year_of_graduation               True\n",
       "expected_ctc                     True\n",
       "percentage_hike_expected_ctc     True\n",
       "gender                           True\n",
       "candidate_source                 True\n",
       "dob                              True\n",
       "location                         True\n",
       "number_of_precious_jobs          True\n",
       "written_test_date                True\n",
       "interview_rounds                 True\n",
       "date_of_first_interview          True\n",
       "date_of_last_interview           True\n",
       "interview_types                  True\n",
       "interview_types2                 True\n",
       "first_interview_duration         True\n",
       "last_interaction_duration        True\n",
       "dtype: bool"
      ]
     },
     "execution_count": 28,
     "metadata": {},
     "output_type": "execute_result"
    }
   ],
   "source": [
    "# Does the data contain Null/Nans? (Missing Values)\n",
    "data.isnull().any()"
   ]
  },
  {
   "cell_type": "code",
   "execution_count": 29,
   "metadata": {},
   "outputs": [
    {
     "data": {
      "text/plain": [
       "candidate_id                    1\n",
       "data_of_application             1\n",
       "date_of_interview               1\n",
       "date_of_job_offer               1\n",
       "date_of_offer_extension         1\n",
       "date_of_joining                 1\n",
       "offered_band                    1\n",
       "offered_salary                  1\n",
       "percentage_hike_offered_ctc     1\n",
       "joining_bonus_amount            1\n",
       "lob                             1\n",
       "joining_location                1\n",
       "candidate_relocation_status     1\n",
       "acceptance_status               0\n",
       "notice_period                   1\n",
       "current_ctc                     1\n",
       "current_gross_salary            1\n",
       "current_organization            1\n",
       "highest_educational_degree      1\n",
       "total_experience                1\n",
       "relevant_experience             1\n",
       "year_of_graduation              1\n",
       "expected_ctc                    1\n",
       "percentage_hike_expected_ctc    1\n",
       "gender                          1\n",
       "candidate_source                1\n",
       "dob                             1\n",
       "location                        1\n",
       "number_of_precious_jobs         1\n",
       "written_test_date               1\n",
       "interview_rounds                1\n",
       "date_of_first_interview         1\n",
       "date_of_last_interview          1\n",
       "interview_types                 1\n",
       "interview_types2                1\n",
       "first_interview_duration        1\n",
       "last_interaction_duration       1\n",
       "dtype: int64"
      ]
     },
     "execution_count": 29,
     "metadata": {},
     "output_type": "execute_result"
    }
   ],
   "source": [
    "#hanlding missing values\n",
    "data.isna().sum()\n",
    "#data.isna().mean to find percentage of missing values in data\n",
    "#if missing values exists in columns then\n",
    "#data.dropna(axis='columns'()\n",
    "#data.dropna(thresh=len(data)*0.9, axis='columns'.head())"
   ]
  },
  {
   "cell_type": "code",
   "execution_count": 30,
   "metadata": {},
   "outputs": [],
   "source": [
    "#drop duplicate rows\n",
    "data = data.drop_duplicates()"
   ]
  },
  {
   "cell_type": "markdown",
   "metadata": {},
   "source": [
    "# (C) perform descriptive analytics on data\n",
    "it is always good to perform descriptive analytics before moving to building a predictive analytics model. it will help to understand the variability in the model. it also helps in identifying the relationship between the variables present in the dataset.\n",
    "use the exploratory data analysis technique on the dataset in order to find out the interesting insights that are hidden within the data captured. \n",
    "describe all eda steps those are done with the observations obtained out of it with the help of python code in jupyter notebook. \n",
    "the weigtage for this task will be 7 marks."
   ]
  },
  {
   "cell_type": "code",
   "execution_count": 31,
   "metadata": {},
   "outputs": [
    {
     "data": {
      "text/plain": [
       "Index(['offered_salary', 'percentage_hike_offered_ctc', 'joining_bonus_amount',\n",
       "       'acceptance_status', 'notice_period', 'current_ctc',\n",
       "       'current_gross_salary', 'total_experience', 'relevant_experience',\n",
       "       'year_of_graduation', 'expected_ctc', 'percentage_hike_expected_ctc',\n",
       "       'number_of_precious_jobs', 'interview_rounds',\n",
       "       'first_interview_duration', 'last_interaction_duration'],\n",
       "      dtype='object')"
      ]
     },
     "metadata": {},
     "output_type": "display_data"
    },
    {
     "name": "stdout",
     "output_type": "stream",
     "text": [
      "(201, 16)\n"
     ]
    },
    {
     "data": {
      "text/html": [
       "<div>\n",
       "<style scoped>\n",
       "    .dataframe tbody tr th:only-of-type {\n",
       "        vertical-align: middle;\n",
       "    }\n",
       "\n",
       "    .dataframe tbody tr th {\n",
       "        vertical-align: top;\n",
       "    }\n",
       "\n",
       "    .dataframe thead th {\n",
       "        text-align: right;\n",
       "    }\n",
       "</style>\n",
       "<table border=\"1\" class=\"dataframe\">\n",
       "  <thead>\n",
       "    <tr style=\"text-align: right;\">\n",
       "      <th></th>\n",
       "      <th>offered_salary</th>\n",
       "      <th>percentage_hike_offered_ctc</th>\n",
       "      <th>joining_bonus_amount</th>\n",
       "      <th>acceptance_status</th>\n",
       "      <th>notice_period</th>\n",
       "      <th>current_ctc</th>\n",
       "      <th>current_gross_salary</th>\n",
       "      <th>total_experience</th>\n",
       "      <th>relevant_experience</th>\n",
       "      <th>year_of_graduation</th>\n",
       "      <th>expected_ctc</th>\n",
       "      <th>percentage_hike_expected_ctc</th>\n",
       "      <th>number_of_precious_jobs</th>\n",
       "      <th>interview_rounds</th>\n",
       "      <th>first_interview_duration</th>\n",
       "      <th>last_interaction_duration</th>\n",
       "    </tr>\n",
       "  </thead>\n",
       "  <tbody>\n",
       "    <tr>\n",
       "      <th>count</th>\n",
       "      <td>2.000000e+02</td>\n",
       "      <td>200.000000</td>\n",
       "      <td>200.000000</td>\n",
       "      <td>201.000000</td>\n",
       "      <td>200.000000</td>\n",
       "      <td>2.000000e+02</td>\n",
       "      <td>2.000000e+02</td>\n",
       "      <td>200.000000</td>\n",
       "      <td>200.000000</td>\n",
       "      <td>200.000000</td>\n",
       "      <td>2.000000e+02</td>\n",
       "      <td>200.000000</td>\n",
       "      <td>200.000000</td>\n",
       "      <td>200.000000</td>\n",
       "      <td>200.000000</td>\n",
       "      <td>200.0000</td>\n",
       "    </tr>\n",
       "    <tr>\n",
       "      <th>mean</th>\n",
       "      <td>2.346565e+06</td>\n",
       "      <td>0.270672</td>\n",
       "      <td>92967.280031</td>\n",
       "      <td>0.512438</td>\n",
       "      <td>31.275000</td>\n",
       "      <td>1.859346e+06</td>\n",
       "      <td>1.652752e+06</td>\n",
       "      <td>12.280000</td>\n",
       "      <td>11.052000</td>\n",
       "      <td>2007.720000</td>\n",
       "      <td>2.532500e+06</td>\n",
       "      <td>0.370672</td>\n",
       "      <td>3.575000</td>\n",
       "      <td>2.485000</td>\n",
       "      <td>35.700000</td>\n",
       "      <td>35.1250</td>\n",
       "    </tr>\n",
       "    <tr>\n",
       "      <th>std</th>\n",
       "      <td>1.095181e+06</td>\n",
       "      <td>0.087131</td>\n",
       "      <td>43718.606470</td>\n",
       "      <td>0.501093</td>\n",
       "      <td>22.038098</td>\n",
       "      <td>8.743721e+05</td>\n",
       "      <td>7.772197e+05</td>\n",
       "      <td>5.242041</td>\n",
       "      <td>4.717837</td>\n",
       "      <td>5.242041</td>\n",
       "      <td>1.181556e+06</td>\n",
       "      <td>0.087131</td>\n",
       "      <td>1.728965</td>\n",
       "      <td>1.125214</td>\n",
       "      <td>14.397794</td>\n",
       "      <td>14.7631</td>\n",
       "    </tr>\n",
       "    <tr>\n",
       "      <th>min</th>\n",
       "      <td>4.609491e+05</td>\n",
       "      <td>0.109940</td>\n",
       "      <td>18048.881250</td>\n",
       "      <td>0.000000</td>\n",
       "      <td>0.000000</td>\n",
       "      <td>3.609776e+05</td>\n",
       "      <td>3.208690e+05</td>\n",
       "      <td>3.000000</td>\n",
       "      <td>2.700000</td>\n",
       "      <td>2000.000000</td>\n",
       "      <td>5.000000e+05</td>\n",
       "      <td>0.209940</td>\n",
       "      <td>1.000000</td>\n",
       "      <td>1.000000</td>\n",
       "      <td>15.000000</td>\n",
       "      <td>15.0000</td>\n",
       "    </tr>\n",
       "    <tr>\n",
       "      <th>25%</th>\n",
       "      <td>1.396196e+06</td>\n",
       "      <td>0.194058</td>\n",
       "      <td>52955.339063</td>\n",
       "      <td>0.000000</td>\n",
       "      <td>15.000000</td>\n",
       "      <td>1.059107e+06</td>\n",
       "      <td>9.414282e+05</td>\n",
       "      <td>7.750000</td>\n",
       "      <td>6.975000</td>\n",
       "      <td>2003.000000</td>\n",
       "      <td>1.500000e+06</td>\n",
       "      <td>0.294058</td>\n",
       "      <td>2.000000</td>\n",
       "      <td>1.000000</td>\n",
       "      <td>25.000000</td>\n",
       "      <td>25.0000</td>\n",
       "    </tr>\n",
       "    <tr>\n",
       "      <th>50%</th>\n",
       "      <td>2.414243e+06</td>\n",
       "      <td>0.275515</td>\n",
       "      <td>96949.490625</td>\n",
       "      <td>1.000000</td>\n",
       "      <td>30.000000</td>\n",
       "      <td>1.938990e+06</td>\n",
       "      <td>1.723546e+06</td>\n",
       "      <td>12.000000</td>\n",
       "      <td>10.800000</td>\n",
       "      <td>2008.000000</td>\n",
       "      <td>2.600000e+06</td>\n",
       "      <td>0.375515</td>\n",
       "      <td>4.000000</td>\n",
       "      <td>3.000000</td>\n",
       "      <td>40.000000</td>\n",
       "      <td>30.0000</td>\n",
       "    </tr>\n",
       "    <tr>\n",
       "      <th>75%</th>\n",
       "      <td>3.317921e+06</td>\n",
       "      <td>0.340090</td>\n",
       "      <td>133375.598438</td>\n",
       "      <td>1.000000</td>\n",
       "      <td>45.000000</td>\n",
       "      <td>2.667512e+06</td>\n",
       "      <td>2.371122e+06</td>\n",
       "      <td>17.000000</td>\n",
       "      <td>15.300000</td>\n",
       "      <td>2012.250000</td>\n",
       "      <td>3.600000e+06</td>\n",
       "      <td>0.440090</td>\n",
       "      <td>5.000000</td>\n",
       "      <td>3.000000</td>\n",
       "      <td>45.000000</td>\n",
       "      <td>45.0000</td>\n",
       "    </tr>\n",
       "    <tr>\n",
       "      <th>max</th>\n",
       "      <td>4.568679e+06</td>\n",
       "      <td>0.491772</td>\n",
       "      <td>167622.243750</td>\n",
       "      <td>1.000000</td>\n",
       "      <td>60.000000</td>\n",
       "      <td>3.352445e+06</td>\n",
       "      <td>2.979951e+06</td>\n",
       "      <td>20.000000</td>\n",
       "      <td>18.000000</td>\n",
       "      <td>2017.000000</td>\n",
       "      <td>4.900000e+06</td>\n",
       "      <td>0.591772</td>\n",
       "      <td>6.000000</td>\n",
       "      <td>4.000000</td>\n",
       "      <td>60.000000</td>\n",
       "      <td>60.0000</td>\n",
       "    </tr>\n",
       "  </tbody>\n",
       "</table>\n",
       "</div>"
      ],
      "text/plain": [
       "       offered_salary  percentage_hike_offered_ctc  joining_bonus_amount  \\\n",
       "count    2.000000e+02                   200.000000            200.000000   \n",
       "mean     2.346565e+06                     0.270672          92967.280031   \n",
       "std      1.095181e+06                     0.087131          43718.606470   \n",
       "min      4.609491e+05                     0.109940          18048.881250   \n",
       "25%      1.396196e+06                     0.194058          52955.339063   \n",
       "50%      2.414243e+06                     0.275515          96949.490625   \n",
       "75%      3.317921e+06                     0.340090         133375.598438   \n",
       "max      4.568679e+06                     0.491772         167622.243750   \n",
       "\n",
       "       acceptance_status  notice_period   current_ctc  current_gross_salary  \\\n",
       "count         201.000000     200.000000  2.000000e+02          2.000000e+02   \n",
       "mean            0.512438      31.275000  1.859346e+06          1.652752e+06   \n",
       "std             0.501093      22.038098  8.743721e+05          7.772197e+05   \n",
       "min             0.000000       0.000000  3.609776e+05          3.208690e+05   \n",
       "25%             0.000000      15.000000  1.059107e+06          9.414282e+05   \n",
       "50%             1.000000      30.000000  1.938990e+06          1.723546e+06   \n",
       "75%             1.000000      45.000000  2.667512e+06          2.371122e+06   \n",
       "max             1.000000      60.000000  3.352445e+06          2.979951e+06   \n",
       "\n",
       "       total_experience  relevant_experience  year_of_graduation  \\\n",
       "count        200.000000           200.000000          200.000000   \n",
       "mean          12.280000            11.052000         2007.720000   \n",
       "std            5.242041             4.717837            5.242041   \n",
       "min            3.000000             2.700000         2000.000000   \n",
       "25%            7.750000             6.975000         2003.000000   \n",
       "50%           12.000000            10.800000         2008.000000   \n",
       "75%           17.000000            15.300000         2012.250000   \n",
       "max           20.000000            18.000000         2017.000000   \n",
       "\n",
       "       expected_ctc  percentage_hike_expected_ctc  number_of_precious_jobs  \\\n",
       "count  2.000000e+02                    200.000000               200.000000   \n",
       "mean   2.532500e+06                      0.370672                 3.575000   \n",
       "std    1.181556e+06                      0.087131                 1.728965   \n",
       "min    5.000000e+05                      0.209940                 1.000000   \n",
       "25%    1.500000e+06                      0.294058                 2.000000   \n",
       "50%    2.600000e+06                      0.375515                 4.000000   \n",
       "75%    3.600000e+06                      0.440090                 5.000000   \n",
       "max    4.900000e+06                      0.591772                 6.000000   \n",
       "\n",
       "       interview_rounds  first_interview_duration  last_interaction_duration  \n",
       "count        200.000000                200.000000                   200.0000  \n",
       "mean           2.485000                 35.700000                    35.1250  \n",
       "std            1.125214                 14.397794                    14.7631  \n",
       "min            1.000000                 15.000000                    15.0000  \n",
       "25%            1.000000                 25.000000                    25.0000  \n",
       "50%            3.000000                 40.000000                    30.0000  \n",
       "75%            3.000000                 45.000000                    45.0000  \n",
       "max            4.000000                 60.000000                    60.0000  "
      ]
     },
     "execution_count": 31,
     "metadata": {},
     "output_type": "execute_result"
    }
   ],
   "source": [
    "# select numnerical columns by datatype\n",
    "display(data.select_dtypes(include=['number']).columns)\n",
    "print(data.select_dtypes(include='number').shape)\n",
    "num_cols = data.select_dtypes(include=['number'])\n",
    "num_cols.describe()\n"
   ]
  },
  {
   "cell_type": "markdown",
   "metadata": {},
   "source": [
    "# distribution plot"
   ]
  },
  {
   "cell_type": "code",
   "execution_count": 32,
   "metadata": {},
   "outputs": [
    {
     "name": "stderr",
     "output_type": "stream",
     "text": [
      "C:\\Users\\Anush\\anaconda3\\envs\\tf\\lib\\site-packages\\seaborn\\distributions.py:2551: FutureWarning: `distplot` is a deprecated function and will be removed in a future version. Please adapt your code to use either `displot` (a figure-level function with similar flexibility) or `histplot` (an axes-level function for histograms).\n",
      "  warnings.warn(msg, FutureWarning)\n",
      "C:\\Users\\Anush\\anaconda3\\envs\\tf\\lib\\site-packages\\seaborn\\distributions.py:2551: FutureWarning: `distplot` is a deprecated function and will be removed in a future version. Please adapt your code to use either `displot` (a figure-level function with similar flexibility) or `histplot` (an axes-level function for histograms).\n",
      "  warnings.warn(msg, FutureWarning)\n",
      "C:\\Users\\Anush\\anaconda3\\envs\\tf\\lib\\site-packages\\seaborn\\distributions.py:2551: FutureWarning: `distplot` is a deprecated function and will be removed in a future version. Please adapt your code to use either `displot` (a figure-level function with similar flexibility) or `histplot` (an axes-level function for histograms).\n",
      "  warnings.warn(msg, FutureWarning)\n",
      "C:\\Users\\Anush\\anaconda3\\envs\\tf\\lib\\site-packages\\seaborn\\distributions.py:2551: FutureWarning: `distplot` is a deprecated function and will be removed in a future version. Please adapt your code to use either `displot` (a figure-level function with similar flexibility) or `histplot` (an axes-level function for histograms).\n",
      "  warnings.warn(msg, FutureWarning)\n",
      "C:\\Users\\Anush\\anaconda3\\envs\\tf\\lib\\site-packages\\seaborn\\distributions.py:2551: FutureWarning: `distplot` is a deprecated function and will be removed in a future version. Please adapt your code to use either `displot` (a figure-level function with similar flexibility) or `histplot` (an axes-level function for histograms).\n",
      "  warnings.warn(msg, FutureWarning)\n",
      "C:\\Users\\Anush\\anaconda3\\envs\\tf\\lib\\site-packages\\seaborn\\distributions.py:2551: FutureWarning: `distplot` is a deprecated function and will be removed in a future version. Please adapt your code to use either `displot` (a figure-level function with similar flexibility) or `histplot` (an axes-level function for histograms).\n",
      "  warnings.warn(msg, FutureWarning)\n",
      "C:\\Users\\Anush\\anaconda3\\envs\\tf\\lib\\site-packages\\seaborn\\distributions.py:2551: FutureWarning: `distplot` is a deprecated function and will be removed in a future version. Please adapt your code to use either `displot` (a figure-level function with similar flexibility) or `histplot` (an axes-level function for histograms).\n",
      "  warnings.warn(msg, FutureWarning)\n",
      "C:\\Users\\Anush\\anaconda3\\envs\\tf\\lib\\site-packages\\seaborn\\distributions.py:2551: FutureWarning: `distplot` is a deprecated function and will be removed in a future version. Please adapt your code to use either `displot` (a figure-level function with similar flexibility) or `histplot` (an axes-level function for histograms).\n",
      "  warnings.warn(msg, FutureWarning)\n",
      "C:\\Users\\Anush\\anaconda3\\envs\\tf\\lib\\site-packages\\seaborn\\distributions.py:2551: FutureWarning: `distplot` is a deprecated function and will be removed in a future version. Please adapt your code to use either `displot` (a figure-level function with similar flexibility) or `histplot` (an axes-level function for histograms).\n",
      "  warnings.warn(msg, FutureWarning)\n",
      "C:\\Users\\Anush\\anaconda3\\envs\\tf\\lib\\site-packages\\seaborn\\distributions.py:2551: FutureWarning: `distplot` is a deprecated function and will be removed in a future version. Please adapt your code to use either `displot` (a figure-level function with similar flexibility) or `histplot` (an axes-level function for histograms).\n",
      "  warnings.warn(msg, FutureWarning)\n",
      "C:\\Users\\Anush\\anaconda3\\envs\\tf\\lib\\site-packages\\seaborn\\distributions.py:2551: FutureWarning: `distplot` is a deprecated function and will be removed in a future version. Please adapt your code to use either `displot` (a figure-level function with similar flexibility) or `histplot` (an axes-level function for histograms).\n",
      "  warnings.warn(msg, FutureWarning)\n",
      "C:\\Users\\Anush\\anaconda3\\envs\\tf\\lib\\site-packages\\seaborn\\distributions.py:2551: FutureWarning: `distplot` is a deprecated function and will be removed in a future version. Please adapt your code to use either `displot` (a figure-level function with similar flexibility) or `histplot` (an axes-level function for histograms).\n",
      "  warnings.warn(msg, FutureWarning)\n",
      "C:\\Users\\Anush\\anaconda3\\envs\\tf\\lib\\site-packages\\seaborn\\distributions.py:2551: FutureWarning: `distplot` is a deprecated function and will be removed in a future version. Please adapt your code to use either `displot` (a figure-level function with similar flexibility) or `histplot` (an axes-level function for histograms).\n",
      "  warnings.warn(msg, FutureWarning)\n",
      "C:\\Users\\Anush\\anaconda3\\envs\\tf\\lib\\site-packages\\seaborn\\distributions.py:2551: FutureWarning: `distplot` is a deprecated function and will be removed in a future version. Please adapt your code to use either `displot` (a figure-level function with similar flexibility) or `histplot` (an axes-level function for histograms).\n",
      "  warnings.warn(msg, FutureWarning)\n",
      "C:\\Users\\Anush\\anaconda3\\envs\\tf\\lib\\site-packages\\seaborn\\distributions.py:2551: FutureWarning: `distplot` is a deprecated function and will be removed in a future version. Please adapt your code to use either `displot` (a figure-level function with similar flexibility) or `histplot` (an axes-level function for histograms).\n",
      "  warnings.warn(msg, FutureWarning)\n",
      "C:\\Users\\Anush\\anaconda3\\envs\\tf\\lib\\site-packages\\seaborn\\distributions.py:2551: FutureWarning: `distplot` is a deprecated function and will be removed in a future version. Please adapt your code to use either `displot` (a figure-level function with similar flexibility) or `histplot` (an axes-level function for histograms).\n",
      "  warnings.warn(msg, FutureWarning)\n"
     ]
    },
    {
     "data": {
      "image/png": "[encoded data removed]",
      "text/plain": [
       "<Figure size 224x216 with 1 Axes>"
      ]
     },
     "metadata": {
      "needs_background": "light"
     },
     "output_type": "display_data"
    },
    {
     "data": {
      "image/png": "[encoded data removed]",
      "text/plain": [
       "<Figure size 224x216 with 1 Axes>"
      ]
     },
     "metadata": {
      "needs_background": "light"
     },
     "output_type": "display_data"
    },
    {
     "data": {
      "image/png": "[encoded data removed]",
      "text/plain": [
       "<Figure size 224x216 with 1 Axes>"
      ]
     },
     "metadata": {
      "needs_background": "light"
     },
     "output_type": "display_data"
    },
    {
     "data": {
      "image/png": "[encoded data removed]",
      "text/plain": [
       "<Figure size 224x216 with 1 Axes>"
      ]
     },
     "metadata": {
      "needs_background": "light"
     },
     "output_type": "display_data"
    },
    {
     "data": {
      "image/png": "[encoded data removed]",
      "text/plain": [
       "<Figure size 224x216 with 1 Axes>"
      ]
     },
     "metadata": {
      "needs_background": "light"
     },
     "output_type": "display_data"
    },
    {
     "data": {
      "image/png": "[encoded data removed]",
      "text/plain": [
       "<Figure size 224x216 with 1 Axes>"
      ]
     },
     "metadata": {
      "needs_background": "light"
     },
     "output_type": "display_data"
    },
    {
     "data": {
      "image/png": "[encoded data removed]",
      "text/plain": [
       "<Figure size 224x216 with 1 Axes>"
      ]
     },
     "metadata": {
      "needs_background": "light"
     },
     "output_type": "display_data"
    },
    {
     "data": {
      "image/png": "[encoded data removed]",
      "text/plain": [
       "<Figure size 224x216 with 1 Axes>"
      ]
     },
     "metadata": {
      "needs_background": "light"
     },
     "output_type": "display_data"
    },
    {
     "data": {
      "image/png": "[encoded data removed]",
      "text/plain": [
       "<Figure size 224x216 with 1 Axes>"
      ]
     },
     "metadata": {
      "needs_background": "light"
     },
     "output_type": "display_data"
    },
    {
     "data": {
      "image/png": "[encoded data removed]",
      "text/plain": [
       "<Figure size 224x216 with 1 Axes>"
      ]
     },
     "metadata": {
      "needs_background": "light"
     },
     "output_type": "display_data"
    },
    {
     "data": {
      "image/png": "[encoded data removed]",
      "text/plain": [
       "<Figure size 224x216 with 1 Axes>"
      ]
     },
     "metadata": {
      "needs_background": "light"
     },
     "output_type": "display_data"
    },
    {
     "data": {
      "image/png": "[encoded data removed]",
      "text/plain": [
       "<Figure size 224x216 with 1 Axes>"
      ]
     },
     "metadata": {
      "needs_background": "light"
     },
     "output_type": "display_data"
    },
    {
     "data": {
      "image/png": "[encoded data removed]",
      "text/plain": [
       "<Figure size 224x216 with 1 Axes>"
      ]
     },
     "metadata": {
      "needs_background": "light"
     },
     "output_type": "display_data"
    },
    {
     "data": {
      "image/png": "[encoded data removed]",
      "text/plain": [
       "<Figure size 224x216 with 1 Axes>"
      ]
     },
     "metadata": {
      "needs_background": "light"
     },
     "output_type": "display_data"
    },
    {
     "data": {
      "image/png": "[encoded data removed]",
      "text/plain": [
       "<Figure size 224x216 with 1 Axes>"
      ]
     },
     "metadata": {
      "needs_background": "light"
     },
     "output_type": "display_data"
    },
    {
     "data": {
      "image/png": "[encoded data removed]",
      "text/plain": [
       "<Figure size 224x216 with 1 Axes>"
      ]
     },
     "metadata": {
      "needs_background": "light"
     },
     "output_type": "display_data"
    }
   ],
   "source": [
    "plt.close()\n",
    "\n",
    "for col in num_cols:\n",
    "    sns.FacetGrid(data) \\\n",
    "        .map(sns.distplot, col) \\\n",
    "        .add_legend();\n",
    "\n",
    "plt.show()"
   ]
  },
  {
   "cell_type": "markdown",
   "metadata": {},
   "source": [
    "# pairplots"
   ]
  },
  {
   "cell_type": "markdown",
   "metadata": {},
   "source": [
    "# histogram"
   ]
  },
  {
   "cell_type": "markdown",
   "metadata": {},
   "source": [
    "# Continue Analysis on each of the numerical Values against the target variable acceptance status (histogram , pivot and grouping techniques)"
   ]
  },
  {
   "cell_type": "code",
   "execution_count": 35,
   "metadata": {},
   "outputs": [],
   "source": [
    "def plot_new_fig(series):\n",
    "    plt.figure()\n",
    "    plt.hist(series)\n",
    "    plt.show()"
   ]
  },
  {
   "cell_type": "code",
   "execution_count": 39,
   "metadata": {},
   "outputs": [
    {
     "name": "stdout",
     "output_type": "stream",
     "text": [
      "currently examining the column: offered_salary\n",
      "Check histogram for Offer Rejected acceptance_status:\n"
     ]
    },
    {
     "data": {
      "image/png": "[encoded data removed]",
      "text/plain": [
       "<Figure size 432x288 with 1 Axes>"
      ]
     },
     "metadata": {},
     "output_type": "display_data"
    },
    {
     "name": "stdout",
     "output_type": "stream",
     "text": [
      "Check histogram for Joined acceptance_status:\n"
     ]
    },
    {
     "name": "stderr",
     "output_type": "stream",
     "text": [
      "C:\\Users\\Anush\\anaconda3\\envs\\tf\\lib\\site-packages\\numpy\\lib\\histograms.py:839: RuntimeWarning: invalid value encountered in greater_equal\n",
      "  keep = (tmp_a >= first_edge)\n",
      "C:\\Users\\Anush\\anaconda3\\envs\\tf\\lib\\site-packages\\numpy\\lib\\histograms.py:840: RuntimeWarning: invalid value encountered in less_equal\n",
      "  keep &= (tmp_a <= last_edge)\n"
     ]
    },
    {
     "data": {
      "image/png": "[encoded data removed]",
      "text/plain": [
       "<Figure size 432x288 with 1 Axes>"
      ]
     },
     "metadata": {},
     "output_type": "display_data"
    },
    {
     "name": "stdout",
     "output_type": "stream",
     "text": [
      "currently examining the column: percentage_hike_offered_ctc\n",
      "Check histogram for Offer Rejected acceptance_status:\n"
     ]
    },
    {
     "data": {
      "image/png": "[encoded data removed]",
      "text/plain": [
       "<Figure size 432x288 with 1 Axes>"
      ]
     },
     "metadata": {},
     "output_type": "display_data"
    },
    {
     "name": "stdout",
     "output_type": "stream",
     "text": [
      "Check histogram for Joined acceptance_status:\n"
     ]
    },
    {
     "name": "stderr",
     "output_type": "stream",
     "text": [
      "C:\\Users\\Anush\\anaconda3\\envs\\tf\\lib\\site-packages\\numpy\\lib\\histograms.py:839: RuntimeWarning: invalid value encountered in greater_equal\n",
      "  keep = (tmp_a >= first_edge)\n",
      "C:\\Users\\Anush\\anaconda3\\envs\\tf\\lib\\site-packages\\numpy\\lib\\histograms.py:840: RuntimeWarning: invalid value encountered in less_equal\n",
      "  keep &= (tmp_a <= last_edge)\n"
     ]
    },
    {
     "data": {
      "image/png": "[encoded data removed]",
      "text/plain": [
       "<Figure size 432x288 with 1 Axes>"
      ]
     },
     "metadata": {},
     "output_type": "display_data"
    },
    {
     "name": "stdout",
     "output_type": "stream",
     "text": [
      "currently examining the column: joining_bonus_amount\n",
      "Check histogram for Offer Rejected acceptance_status:\n"
     ]
    },
    {
     "data": {
      "image/png": "[encoded data removed]",
      "text/plain": [
       "<Figure size 432x288 with 1 Axes>"
      ]
     },
     "metadata": {},
     "output_type": "display_data"
    },
    {
     "name": "stdout",
     "output_type": "stream",
     "text": [
      "Check histogram for Joined acceptance_status:\n"
     ]
    },
    {
     "name": "stderr",
     "output_type": "stream",
     "text": [
      "C:\\Users\\Anush\\anaconda3\\envs\\tf\\lib\\site-packages\\numpy\\lib\\histograms.py:839: RuntimeWarning: invalid value encountered in greater_equal\n",
      "  keep = (tmp_a >= first_edge)\n",
      "C:\\Users\\Anush\\anaconda3\\envs\\tf\\lib\\site-packages\\numpy\\lib\\histograms.py:840: RuntimeWarning: invalid value encountered in less_equal\n",
      "  keep &= (tmp_a <= last_edge)\n"
     ]
    },
    {
     "data": {
      "image/png": "[encoded data removed]",
      "text/plain": [
       "<Figure size 432x288 with 1 Axes>"
      ]
     },
     "metadata": {},
     "output_type": "display_data"
    },
    {
     "name": "stdout",
     "output_type": "stream",
     "text": [
      "currently examining the column: acceptance_status\n",
      "Check histogram for Offer Rejected acceptance_status:\n"
     ]
    },
    {
     "data": {
      "image/png": "[encoded data removed]",
      "text/plain": [
       "<Figure size 432x288 with 1 Axes>"
      ]
     },
     "metadata": {},
     "output_type": "display_data"
    },
    {
     "name": "stdout",
     "output_type": "stream",
     "text": [
      "Check histogram for Joined acceptance_status:\n"
     ]
    },
    {
     "data": {
      "image/png": "[encoded data removed]",
      "text/plain": [
       "<Figure size 432x288 with 1 Axes>"
      ]
     },
     "metadata": {},
     "output_type": "display_data"
    },
    {
     "name": "stdout",
     "output_type": "stream",
     "text": [
      "currently examining the column: notice_period\n",
      "Check histogram for Offer Rejected acceptance_status:\n"
     ]
    },
    {
     "data": {
      "image/png": "[encoded data removed]",
      "text/plain": [
       "<Figure size 432x288 with 1 Axes>"
      ]
     },
     "metadata": {},
     "output_type": "display_data"
    },
    {
     "name": "stdout",
     "output_type": "stream",
     "text": [
      "Check histogram for Joined acceptance_status:\n"
     ]
    },
    {
     "name": "stderr",
     "output_type": "stream",
     "text": [
      "C:\\Users\\Anush\\anaconda3\\envs\\tf\\lib\\site-packages\\numpy\\lib\\histograms.py:839: RuntimeWarning: invalid value encountered in greater_equal\n",
      "  keep = (tmp_a >= first_edge)\n",
      "C:\\Users\\Anush\\anaconda3\\envs\\tf\\lib\\site-packages\\numpy\\lib\\histograms.py:840: RuntimeWarning: invalid value encountered in less_equal\n",
      "  keep &= (tmp_a <= last_edge)\n"
     ]
    },
    {
     "data": {
      "image/png": "[encoded data removed]",
      "text/plain": [
       "<Figure size 432x288 with 1 Axes>"
      ]
     },
     "metadata": {},
     "output_type": "display_data"
    },
    {
     "name": "stdout",
     "output_type": "stream",
     "text": [
      "currently examining the column: current_ctc\n",
      "Check histogram for Offer Rejected acceptance_status:\n"
     ]
    },
    {
     "data": {
      "image/png": "[encoded data removed]",
      "text/plain": [
       "<Figure size 432x288 with 1 Axes>"
      ]
     },
     "metadata": {},
     "output_type": "display_data"
    },
    {
     "name": "stdout",
     "output_type": "stream",
     "text": [
      "Check histogram for Joined acceptance_status:\n"
     ]
    },
    {
     "name": "stderr",
     "output_type": "stream",
     "text": [
      "C:\\Users\\Anush\\anaconda3\\envs\\tf\\lib\\site-packages\\numpy\\lib\\histograms.py:839: RuntimeWarning: invalid value encountered in greater_equal\n",
      "  keep = (tmp_a >= first_edge)\n",
      "C:\\Users\\Anush\\anaconda3\\envs\\tf\\lib\\site-packages\\numpy\\lib\\histograms.py:840: RuntimeWarning: invalid value encountered in less_equal\n",
      "  keep &= (tmp_a <= last_edge)\n"
     ]
    },
    {
     "data": {
      "image/png": "[encoded data removed]",
      "text/plain": [
       "<Figure size 432x288 with 1 Axes>"
      ]
     },
     "metadata": {},
     "output_type": "display_data"
    },
    {
     "name": "stdout",
     "output_type": "stream",
     "text": [
      "currently examining the column: current_gross_salary\n",
      "Check histogram for Offer Rejected acceptance_status:\n"
     ]
    },
    {
     "data": {
      "image/png": "[encoded data removed]",
      "text/plain": [
       "<Figure size 432x288 with 1 Axes>"
      ]
     },
     "metadata": {},
     "output_type": "display_data"
    },
    {
     "name": "stdout",
     "output_type": "stream",
     "text": [
      "Check histogram for Joined acceptance_status:\n"
     ]
    },
    {
     "name": "stderr",
     "output_type": "stream",
     "text": [
      "C:\\Users\\Anush\\anaconda3\\envs\\tf\\lib\\site-packages\\numpy\\lib\\histograms.py:839: RuntimeWarning: invalid value encountered in greater_equal\n",
      "  keep = (tmp_a >= first_edge)\n",
      "C:\\Users\\Anush\\anaconda3\\envs\\tf\\lib\\site-packages\\numpy\\lib\\histograms.py:840: RuntimeWarning: invalid value encountered in less_equal\n",
      "  keep &= (tmp_a <= last_edge)\n"
     ]
    },
    {
     "data": {
      "image/png": "[encoded data removed]",
      "text/plain": [
       "<Figure size 432x288 with 1 Axes>"
      ]
     },
     "metadata": {},
     "output_type": "display_data"
    },
    {
     "name": "stdout",
     "output_type": "stream",
     "text": [
      "currently examining the column: total_experience\n",
      "Check histogram for Offer Rejected acceptance_status:\n"
     ]
    },
    {
     "data": {
      "image/png": "[encoded data removed]",
      "text/plain": [
       "<Figure size 432x288 with 1 Axes>"
      ]
     },
     "metadata": {},
     "output_type": "display_data"
    },
    {
     "name": "stdout",
     "output_type": "stream",
     "text": [
      "Check histogram for Joined acceptance_status:\n"
     ]
    },
    {
     "name": "stderr",
     "output_type": "stream",
     "text": [
      "C:\\Users\\Anush\\anaconda3\\envs\\tf\\lib\\site-packages\\numpy\\lib\\histograms.py:839: RuntimeWarning: invalid value encountered in greater_equal\n",
      "  keep = (tmp_a >= first_edge)\n",
      "C:\\Users\\Anush\\anaconda3\\envs\\tf\\lib\\site-packages\\numpy\\lib\\histograms.py:840: RuntimeWarning: invalid value encountered in less_equal\n",
      "  keep &= (tmp_a <= last_edge)\n"
     ]
    },
    {
     "data": {
      "image/png": "[encoded data removed]",
      "text/plain": [
       "<Figure size 432x288 with 1 Axes>"
      ]
     },
     "metadata": {},
     "output_type": "display_data"
    },
    {
     "name": "stdout",
     "output_type": "stream",
     "text": [
      "currently examining the column: relevant_experience\n",
      "Check histogram for Offer Rejected acceptance_status:\n"
     ]
    },
    {
     "data": {
      "image/png": "[encoded data removed]",
      "text/plain": [
       "<Figure size 432x288 with 1 Axes>"
      ]
     },
     "metadata": {},
     "output_type": "display_data"
    },
    {
     "name": "stdout",
     "output_type": "stream",
     "text": [
      "Check histogram for Joined acceptance_status:\n"
     ]
    },
    {
     "name": "stderr",
     "output_type": "stream",
     "text": [
      "C:\\Users\\Anush\\anaconda3\\envs\\tf\\lib\\site-packages\\numpy\\lib\\histograms.py:839: RuntimeWarning: invalid value encountered in greater_equal\n",
      "  keep = (tmp_a >= first_edge)\n",
      "C:\\Users\\Anush\\anaconda3\\envs\\tf\\lib\\site-packages\\numpy\\lib\\histograms.py:840: RuntimeWarning: invalid value encountered in less_equal\n",
      "  keep &= (tmp_a <= last_edge)\n"
     ]
    },
    {
     "data": {
      "image/png": "[encoded data removed]",
      "text/plain": [
       "<Figure size 432x288 with 1 Axes>"
      ]
     },
     "metadata": {},
     "output_type": "display_data"
    },
    {
     "name": "stdout",
     "output_type": "stream",
     "text": [
      "currently examining the column: year_of_graduation\n",
      "Check histogram for Offer Rejected acceptance_status:\n"
     ]
    },
    {
     "data": {
      "image/png": "[encoded data removed]",
      "text/plain": [
       "<Figure size 432x288 with 1 Axes>"
      ]
     },
     "metadata": {},
     "output_type": "display_data"
    },
    {
     "name": "stdout",
     "output_type": "stream",
     "text": [
      "Check histogram for Joined acceptance_status:\n"
     ]
    },
    {
     "name": "stderr",
     "output_type": "stream",
     "text": [
      "C:\\Users\\Anush\\anaconda3\\envs\\tf\\lib\\site-packages\\numpy\\lib\\histograms.py:839: RuntimeWarning: invalid value encountered in greater_equal\n",
      "  keep = (tmp_a >= first_edge)\n",
      "C:\\Users\\Anush\\anaconda3\\envs\\tf\\lib\\site-packages\\numpy\\lib\\histograms.py:840: RuntimeWarning: invalid value encountered in less_equal\n",
      "  keep &= (tmp_a <= last_edge)\n"
     ]
    },
    {
     "data": {
      "image/png": "[encoded data removed]",
      "text/plain": [
       "<Figure size 432x288 with 1 Axes>"
      ]
     },
     "metadata": {},
     "output_type": "display_data"
    },
    {
     "name": "stdout",
     "output_type": "stream",
     "text": [
      "currently examining the column: expected_ctc\n",
      "Check histogram for Offer Rejected acceptance_status:\n"
     ]
    },
    {
     "data": {
      "image/png": "[encoded data removed]",
      "text/plain": [
       "<Figure size 432x288 with 1 Axes>"
      ]
     },
     "metadata": {},
     "output_type": "display_data"
    },
    {
     "name": "stdout",
     "output_type": "stream",
     "text": [
      "Check histogram for Joined acceptance_status:\n"
     ]
    },
    {
     "name": "stderr",
     "output_type": "stream",
     "text": [
      "C:\\Users\\Anush\\anaconda3\\envs\\tf\\lib\\site-packages\\numpy\\lib\\histograms.py:839: RuntimeWarning: invalid value encountered in greater_equal\n",
      "  keep = (tmp_a >= first_edge)\n",
      "C:\\Users\\Anush\\anaconda3\\envs\\tf\\lib\\site-packages\\numpy\\lib\\histograms.py:840: RuntimeWarning: invalid value encountered in less_equal\n",
      "  keep &= (tmp_a <= last_edge)\n"
     ]
    },
    {
     "data": {
      "image/png": "[encoded data removed]",
      "text/plain": [
       "<Figure size 432x288 with 1 Axes>"
      ]
     },
     "metadata": {},
     "output_type": "display_data"
    },
    {
     "name": "stdout",
     "output_type": "stream",
     "text": [
      "currently examining the column: percentage_hike_expected_ctc\n",
      "Check histogram for Offer Rejected acceptance_status:\n"
     ]
    },
    {
     "data": {
      "image/png": "[encoded data removed]",
      "text/plain": [
       "<Figure size 432x288 with 1 Axes>"
      ]
     },
     "metadata": {},
     "output_type": "display_data"
    },
    {
     "name": "stdout",
     "output_type": "stream",
     "text": [
      "Check histogram for Joined acceptance_status:\n"
     ]
    },
    {
     "name": "stderr",
     "output_type": "stream",
     "text": [
      "C:\\Users\\Anush\\anaconda3\\envs\\tf\\lib\\site-packages\\numpy\\lib\\histograms.py:839: RuntimeWarning: invalid value encountered in greater_equal\n",
      "  keep = (tmp_a >= first_edge)\n",
      "C:\\Users\\Anush\\anaconda3\\envs\\tf\\lib\\site-packages\\numpy\\lib\\histograms.py:840: RuntimeWarning: invalid value encountered in less_equal\n",
      "  keep &= (tmp_a <= last_edge)\n"
     ]
    },
    {
     "data": {
      "image/png": "[encoded data removed]",
      "text/plain": [
       "<Figure size 432x288 with 1 Axes>"
      ]
     },
     "metadata": {},
     "output_type": "display_data"
    },
    {
     "name": "stdout",
     "output_type": "stream",
     "text": [
      "currently examining the column: number_of_precious_jobs\n",
      "Check histogram for Offer Rejected acceptance_status:\n"
     ]
    },
    {
     "data": {
      "image/png": "[encoded data removed]",
      "text/plain": [
       "<Figure size 432x288 with 1 Axes>"
      ]
     },
     "metadata": {},
     "output_type": "display_data"
    },
    {
     "name": "stdout",
     "output_type": "stream",
     "text": [
      "Check histogram for Joined acceptance_status:\n"
     ]
    },
    {
     "name": "stderr",
     "output_type": "stream",
     "text": [
      "C:\\Users\\Anush\\anaconda3\\envs\\tf\\lib\\site-packages\\numpy\\lib\\histograms.py:839: RuntimeWarning: invalid value encountered in greater_equal\n",
      "  keep = (tmp_a >= first_edge)\n",
      "C:\\Users\\Anush\\anaconda3\\envs\\tf\\lib\\site-packages\\numpy\\lib\\histograms.py:840: RuntimeWarning: invalid value encountered in less_equal\n",
      "  keep &= (tmp_a <= last_edge)\n"
     ]
    },
    {
     "data": {
      "image/png": "[encoded data removed]",
      "text/plain": [
       "<Figure size 432x288 with 1 Axes>"
      ]
     },
     "metadata": {},
     "output_type": "display_data"
    },
    {
     "name": "stdout",
     "output_type": "stream",
     "text": [
      "currently examining the column: interview_rounds\n",
      "Check histogram for Offer Rejected acceptance_status:\n"
     ]
    },
    {
     "data": {
      "image/png": "[encoded data removed]",
      "text/plain": [
       "<Figure size 432x288 with 1 Axes>"
      ]
     },
     "metadata": {},
     "output_type": "display_data"
    },
    {
     "name": "stdout",
     "output_type": "stream",
     "text": [
      "Check histogram for Joined acceptance_status:\n"
     ]
    },
    {
     "name": "stderr",
     "output_type": "stream",
     "text": [
      "C:\\Users\\Anush\\anaconda3\\envs\\tf\\lib\\site-packages\\numpy\\lib\\histograms.py:839: RuntimeWarning: invalid value encountered in greater_equal\n",
      "  keep = (tmp_a >= first_edge)\n",
      "C:\\Users\\Anush\\anaconda3\\envs\\tf\\lib\\site-packages\\numpy\\lib\\histograms.py:840: RuntimeWarning: invalid value encountered in less_equal\n",
      "  keep &= (tmp_a <= last_edge)\n"
     ]
    },
    {
     "data": {
      "image/png": "[encoded data removed]",
      "text/plain": [
       "<Figure size 432x288 with 1 Axes>"
      ]
     },
     "metadata": {},
     "output_type": "display_data"
    },
    {
     "name": "stdout",
     "output_type": "stream",
     "text": [
      "currently examining the column: first_interview_duration\n",
      "Check histogram for Offer Rejected acceptance_status:\n"
     ]
    },
    {
     "data": {
      "image/png": "[encoded data removed]",
      "text/plain": [
       "<Figure size 432x288 with 1 Axes>"
      ]
     },
     "metadata": {},
     "output_type": "display_data"
    },
    {
     "name": "stdout",
     "output_type": "stream",
     "text": [
      "Check histogram for Joined acceptance_status:\n"
     ]
    },
    {
     "name": "stderr",
     "output_type": "stream",
     "text": [
      "C:\\Users\\Anush\\anaconda3\\envs\\tf\\lib\\site-packages\\numpy\\lib\\histograms.py:839: RuntimeWarning: invalid value encountered in greater_equal\n",
      "  keep = (tmp_a >= first_edge)\n",
      "C:\\Users\\Anush\\anaconda3\\envs\\tf\\lib\\site-packages\\numpy\\lib\\histograms.py:840: RuntimeWarning: invalid value encountered in less_equal\n",
      "  keep &= (tmp_a <= last_edge)\n"
     ]
    },
    {
     "data": {
      "image/png": "[encoded data removed]",
      "text/plain": [
       "<Figure size 432x288 with 1 Axes>"
      ]
     },
     "metadata": {},
     "output_type": "display_data"
    },
    {
     "name": "stdout",
     "output_type": "stream",
     "text": [
      "currently examining the column: last_interaction_duration\n",
      "Check histogram for Offer Rejected acceptance_status:\n"
     ]
    },
    {
     "data": {
      "image/png": "[encoded data removed]",
      "text/plain": [
       "<Figure size 432x288 with 1 Axes>"
      ]
     },
     "metadata": {},
     "output_type": "display_data"
    },
    {
     "name": "stdout",
     "output_type": "stream",
     "text": [
      "Check histogram for Joined acceptance_status:\n"
     ]
    },
    {
     "name": "stderr",
     "output_type": "stream",
     "text": [
      "C:\\Users\\Anush\\anaconda3\\envs\\tf\\lib\\site-packages\\numpy\\lib\\histograms.py:839: RuntimeWarning: invalid value encountered in greater_equal\n",
      "  keep = (tmp_a >= first_edge)\n",
      "C:\\Users\\Anush\\anaconda3\\envs\\tf\\lib\\site-packages\\numpy\\lib\\histograms.py:840: RuntimeWarning: invalid value encountered in less_equal\n",
      "  keep &= (tmp_a <= last_edge)\n"
     ]
    },
    {
     "data": {
      "image/png": "[encoded data removed]",
      "text/plain": [
       "<Figure size 432x288 with 1 Axes>"
      ]
     },
     "metadata": {},
     "output_type": "display_data"
    }
   ],
   "source": [
    "for col in num_cols:\n",
    "    print(\"currently examining the column:\",col)\n",
    "    print(\"Check histogram for Offer Rejected acceptance_status:\")\n",
    "    plot_new_fig(data[data['acceptance_status'] == 0][col])\n",
    "    print(\"Check histogram for Joined acceptance_status:\")\n",
    "    plot_new_fig(data[data['acceptance_status'] == 1][col])"
   ]
  },
  {
   "cell_type": "markdown",
   "metadata": {},
   "source": [
    "# Observations on Numerical features and next steps"
   ]
  },
  {
   "cell_type": "markdown",
   "metadata": {},
   "source": [
    "#  Analysis on each of the Categorical Values (Data Discretization, binning techniques etc)"
   ]
  },
  {
   "cell_type": "code",
   "execution_count": 38,
   "metadata": {},
   "outputs": [
    {
     "data": {
      "text/plain": [
       "Index(['candidate_id', 'offered_band', 'lob', 'joining_location',\n",
       "       'candidate_relocation_status', 'current_organization',\n",
       "       'highest_educational_degree', 'gender', 'candidate_source', 'location',\n",
       "       'interview_types', 'interview_types2'],\n",
       "      dtype='object')"
      ]
     },
     "metadata": {},
     "output_type": "display_data"
    },
    {
     "name": "stdout",
     "output_type": "stream",
     "text": [
      "(201, 12)\n"
     ]
    },
    {
     "data": {
      "text/html": [
       "<div>\n",
       "<style scoped>\n",
       "    .dataframe tbody tr th:only-of-type {\n",
       "        vertical-align: middle;\n",
       "    }\n",
       "\n",
       "    .dataframe tbody tr th {\n",
       "        vertical-align: top;\n",
       "    }\n",
       "\n",
       "    .dataframe thead th {\n",
       "        text-align: right;\n",
       "    }\n",
       "</style>\n",
       "<table border=\"1\" class=\"dataframe\">\n",
       "  <thead>\n",
       "    <tr style=\"text-align: right;\">\n",
       "      <th></th>\n",
       "      <th>candidate_id</th>\n",
       "      <th>offered_band</th>\n",
       "      <th>lob</th>\n",
       "      <th>joining_location</th>\n",
       "      <th>candidate_relocation_status</th>\n",
       "      <th>current_organization</th>\n",
       "      <th>highest_educational_degree</th>\n",
       "      <th>gender</th>\n",
       "      <th>candidate_source</th>\n",
       "      <th>location</th>\n",
       "      <th>interview_types</th>\n",
       "      <th>interview_types2</th>\n",
       "    </tr>\n",
       "  </thead>\n",
       "  <tbody>\n",
       "    <tr>\n",
       "      <th>count</th>\n",
       "      <td>200</td>\n",
       "      <td>200</td>\n",
       "      <td>200</td>\n",
       "      <td>200</td>\n",
       "      <td>200</td>\n",
       "      <td>200</td>\n",
       "      <td>200</td>\n",
       "      <td>200</td>\n",
       "      <td>200</td>\n",
       "      <td>200</td>\n",
       "      <td>200</td>\n",
       "      <td>200</td>\n",
       "    </tr>\n",
       "    <tr>\n",
       "      <th>unique</th>\n",
       "      <td>200</td>\n",
       "      <td>7</td>\n",
       "      <td>3</td>\n",
       "      <td>5</td>\n",
       "      <td>2</td>\n",
       "      <td>15</td>\n",
       "      <td>3</td>\n",
       "      <td>2</td>\n",
       "      <td>3</td>\n",
       "      <td>10</td>\n",
       "      <td>3</td>\n",
       "      <td>3</td>\n",
       "    </tr>\n",
       "    <tr>\n",
       "      <th>top</th>\n",
       "      <td>C106</td>\n",
       "      <td>C6</td>\n",
       "      <td>IT</td>\n",
       "      <td>NCR</td>\n",
       "      <td>Yes</td>\n",
       "      <td>Oracle</td>\n",
       "      <td>Bachelors</td>\n",
       "      <td>M</td>\n",
       "      <td>Employee referral</td>\n",
       "      <td>Kolkata</td>\n",
       "      <td>Technical</td>\n",
       "      <td>Written</td>\n",
       "    </tr>\n",
       "    <tr>\n",
       "      <th>freq</th>\n",
       "      <td>1</td>\n",
       "      <td>42</td>\n",
       "      <td>120</td>\n",
       "      <td>51</td>\n",
       "      <td>185</td>\n",
       "      <td>21</td>\n",
       "      <td>73</td>\n",
       "      <td>111</td>\n",
       "      <td>72</td>\n",
       "      <td>26</td>\n",
       "      <td>77</td>\n",
       "      <td>72</td>\n",
       "    </tr>\n",
       "  </tbody>\n",
       "</table>\n",
       "</div>"
      ],
      "text/plain": [
       "       candidate_id offered_band  lob joining_location  \\\n",
       "count           200          200  200              200   \n",
       "unique          200            7    3                5   \n",
       "top            C106           C6   IT              NCR   \n",
       "freq              1           42  120               51   \n",
       "\n",
       "       candidate_relocation_status current_organization  \\\n",
       "count                          200                  200   \n",
       "unique                           2                   15   \n",
       "top                            Yes               Oracle   \n",
       "freq                           185                   21   \n",
       "\n",
       "       highest_educational_degree gender   candidate_source location  \\\n",
       "count                         200    200                200      200   \n",
       "unique                          3      2                  3       10   \n",
       "top                     Bachelors      M  Employee referral  Kolkata   \n",
       "freq                           73    111                 72       26   \n",
       "\n",
       "       interview_types interview_types2  \n",
       "count              200              200  \n",
       "unique               3                3  \n",
       "top          Technical          Written  \n",
       "freq                77               72  "
      ]
     },
     "execution_count": 38,
     "metadata": {},
     "output_type": "execute_result"
    }
   ],
   "source": [
    "# select categorical columns by datatype\n",
    "display(data.select_dtypes(include=['object']).columns)\n",
    "print(data.select_dtypes(include='object').shape)\n",
    "num_cat_cols = data.select_dtypes(include=['object'])\n",
    "num_cat_cols.describe()\n"
   ]
  },
  {
   "cell_type": "markdown",
   "metadata": {},
   "source": [
    "# Observations on Categorical features and next steps"
   ]
  },
  {
   "cell_type": "markdown",
   "metadata": {},
   "source": [
    "# Perform Data Normalization (scaling techniques)"
   ]
  },
  {
   "cell_type": "markdown",
   "metadata": {},
   "source": [
    "# Drop redundant or unnecessary features based on the observations performed above"
   ]
  },
  {
   "cell_type": "code",
   "execution_count": 39,
   "metadata": {},
   "outputs": [],
   "source": [
    "#Dropping columns such as \"Joining location\" and \"location\" cause we already have a column named \"Candidate relocation status\"(column no.12 ) which gives yes/no\n",
    "# where \"yes\" implies columns \"Joining location\" and \"location\" are different i.e, it is asking the candidate to relocate\n",
    "#and \"no\" implies columns \"Joining location\" and \"location\" are same i.e, no neccesary for relocation as joining location and the candidate location is same\n",
    "\n",
    "\n",
    "data = data.drop(labels= \"joining_location\",axis = 1)\n",
    "data = data.drop(labels= \"location\",axis = 1)"
   ]
  },
  {
   "cell_type": "code",
   "execution_count": 40,
   "metadata": {},
   "outputs": [],
   "source": [
    "#\"Date of interview\"(column no.2) is same as \"Date of last Interview\"(column no.32)\n",
    "data = data.drop(labels= \"date_of_last_interview\",axis = 1)\n"
   ]
  },
  {
   "cell_type": "code",
   "execution_count": 41,
   "metadata": {},
   "outputs": [],
   "source": [
    "# i suggest we also delete DOB column cause i dont see any way where Date of birth affects the target\n",
    "# let me know your thoughts\n",
    "\n"
   ]
  },
  {
   "cell_type": "markdown",
   "metadata": {},
   "source": [
    "# (D) feature engineering\n",
    "Feature Engineering is an important step to develop and improve performance of Machine Learning models. these techniques can also be used to identify the variables that impacts the outcome of the model. its basically Process of identifying and extracting the useful(E) model buildingand diagnostics\n",
    "in this stage first data is divided into train and test data. the subset can also be created using random / stratified sampling procedure. this is important step to measeure the performance of model using dataset not used in model building. it is also essential to check for any overfitting of the model. then model is built using training dataset to estimate the model parameters. the method of classifications can be utilized for the same. \n",
    "you have to prepeare a logistic regression model to predict the probablity of a candiate joining the company. assume “OfferRejected” as positive cases and “joined” as negative cases.\n",
    "find the significant features from the above model and build another logistic regression model with only the significant variables. \n",
    "compare the performace of both models using various model attributes and recommend a model that can be used by “HRmagic”\n",
    "the weigtage for this task will be 5 marks use knowledge of feature selection methods to identify the variables that have greater impact on the outcome. \n",
    "ellaborate description of the impact observed is expected as outcome of this step. \n",
    "the weigtage for this task will be 6 marks."
   ]
  },
  {
   "cell_type": "markdown",
   "metadata": {},
   "source": [
    "# (E) model building and diagnostics\n",
    "in this stage first data is divided into train and test data. the subset can also be created using random / stratified sampling procedure. this is important step to measeure the performance of model using dataset not used in model building. it is also essential to check for any overfitting of the model. then model is built using training dataset to estimate the model parameters. the method of classifications can be utilized for the same. \n",
    "you have to prepeare a logistic regression model to predict the probablity of a candiate joining the company. assume “OfferRejected” as positive cases and “joined” as negative cases.\n",
    "find the significant features from the above model and build another logistic regression model with only the significant variables. \n",
    "compare the performace of both models using various model attributes and recommend a model that can be used by “HRmagic”\n",
    "the weigtage for this task will be 5 marks"
   ]
  },
  {
   "cell_type": "code",
   "execution_count": null,
   "metadata": {},
   "outputs": [],
   "source": []
  }
 ],
 "metadata": {
  "kernelspec": {
   "display_name": "Python 3",
   "language": "python",
   "name": "python3"
  },
  "language_info": {
   "codemirror_mode": {
    "name": "ipython",
    "version": 3
   },
   "file_extension": ".py",
   "mimetype": "text/x-python",
   "name": "python",
   "nbconvert_exporter": "python",
   "pygments_lexer": "ipython3",
   "version": "3.8.10"
  }
 },
 "nbformat": 4,
 "nbformat_minor": 4
}
